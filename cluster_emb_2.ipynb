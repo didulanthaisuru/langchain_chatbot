{
 "cells": [
  {
   "cell_type": "code",
   "id": "initial_id",
   "metadata": {
    "collapsed": true,
    "ExecuteTime": {
     "end_time": "2025-03-15T11:54:55.656152Z",
     "start_time": "2025-03-15T11:54:47.802889Z"
    }
   },
   "source": [
    "import pandas as pd\n",
    "from sentence_transformers import SentenceTransformer\n",
    "import time\n",
    "from sklearn.decomposition import PCA\n",
    "from sklearn.cluster import MiniBatchKMeans\n",
    "import numpy as np\n",
    "import pandas as pd\n",
    "import chromadb\n",
    "from sentence_transformers import SentenceTransformer\n",
    "\n",
    "# Load your Excel file (replace 'shirara_dataset.xlsx' with the correct file name and path)\n",
    "df = pd.read_excel('shihara_dataset.xlsx')\n",
    "\n",
    "# Check the first few rows of the dataframe to understand its structure\n",
    "df.head()\n"
   ],
   "outputs": [
    {
     "data": {
      "text/plain": [
       "        Date                   Particulars Payments  Receipts   Balance\n",
       "0 2022-12-27  IB CEFT CHGS K A Kumaranayek       30       NaN   8449.35\n",
       "1 2022-12-27  PURCHASE UNIVERSITY GRANTS C       50       NaN   8399.35\n",
       "2 2022-12-28  PURCHASE KEELLS SUPER - MORA     5000       NaN   3399.35\n",
       "3 2022-12-30                      INTEREST      NaN     41.57   3440.92\n",
       "4 2023-01-04                      NOV RENT     3000  75000.00  78440.92"
      ],
      "text/html": [
       "<div>\n",
       "<style scoped>\n",
       "    .dataframe tbody tr th:only-of-type {\n",
       "        vertical-align: middle;\n",
       "    }\n",
       "\n",
       "    .dataframe tbody tr th {\n",
       "        vertical-align: top;\n",
       "    }\n",
       "\n",
       "    .dataframe thead th {\n",
       "        text-align: right;\n",
       "    }\n",
       "</style>\n",
       "<table border=\"1\" class=\"dataframe\">\n",
       "  <thead>\n",
       "    <tr style=\"text-align: right;\">\n",
       "      <th></th>\n",
       "      <th>Date</th>\n",
       "      <th>Particulars</th>\n",
       "      <th>Payments</th>\n",
       "      <th>Receipts</th>\n",
       "      <th>Balance</th>\n",
       "    </tr>\n",
       "  </thead>\n",
       "  <tbody>\n",
       "    <tr>\n",
       "      <th>0</th>\n",
       "      <td>2022-12-27</td>\n",
       "      <td>IB CEFT CHGS K A Kumaranayek</td>\n",
       "      <td>30</td>\n",
       "      <td>NaN</td>\n",
       "      <td>8449.35</td>\n",
       "    </tr>\n",
       "    <tr>\n",
       "      <th>1</th>\n",
       "      <td>2022-12-27</td>\n",
       "      <td>PURCHASE UNIVERSITY GRANTS C</td>\n",
       "      <td>50</td>\n",
       "      <td>NaN</td>\n",
       "      <td>8399.35</td>\n",
       "    </tr>\n",
       "    <tr>\n",
       "      <th>2</th>\n",
       "      <td>2022-12-28</td>\n",
       "      <td>PURCHASE KEELLS SUPER - MORA</td>\n",
       "      <td>5000</td>\n",
       "      <td>NaN</td>\n",
       "      <td>3399.35</td>\n",
       "    </tr>\n",
       "    <tr>\n",
       "      <th>3</th>\n",
       "      <td>2022-12-30</td>\n",
       "      <td>INTEREST</td>\n",
       "      <td>NaN</td>\n",
       "      <td>41.57</td>\n",
       "      <td>3440.92</td>\n",
       "    </tr>\n",
       "    <tr>\n",
       "      <th>4</th>\n",
       "      <td>2023-01-04</td>\n",
       "      <td>NOV RENT</td>\n",
       "      <td>3000</td>\n",
       "      <td>75000.00</td>\n",
       "      <td>78440.92</td>\n",
       "    </tr>\n",
       "  </tbody>\n",
       "</table>\n",
       "</div>"
      ]
     },
     "execution_count": 1,
     "metadata": {},
     "output_type": "execute_result"
    }
   ],
   "execution_count": 1
  },
  {
   "metadata": {
    "ExecuteTime": {
     "end_time": "2025-03-15T11:55:07.725598Z",
     "start_time": "2025-03-15T11:55:02.106957Z"
    }
   },
   "cell_type": "code",
   "source": [
    "# Initialize the SentenceTransformer model (use a pre-trained model)\n",
    "model = SentenceTransformer('paraphrase-MiniLM-L6-v2')\n",
    "\n",
    "# You can check if the model is loaded properly\n",
    "print(\"Model loaded successfully!\")\n"
   ],
   "id": "74a2b98733440401",
   "outputs": [
    {
     "name": "stdout",
     "output_type": "stream",
     "text": [
      "Model loaded successfully!\n"
     ]
    }
   ],
   "execution_count": 2
  },
  {
   "metadata": {
    "ExecuteTime": {
     "end_time": "2025-03-15T11:55:12.875441Z",
     "start_time": "2025-03-15T11:55:11.388730Z"
    }
   },
   "cell_type": "code",
   "source": [
    "# Convert \"Particulars\" column into a list of text entries\n",
    "particulars_texts = df['Particulars'].astype(str).tolist()\n",
    "\n",
    "# Generate embeddings using the model\n",
    "embeddings = model.encode(particulars_texts, convert_to_numpy=True)\n",
    "\n",
    "# Check the shape of the embeddings\n",
    "print(f\"Generated {embeddings.shape[0]} embeddings with dimension {embeddings.shape[1]}\")"
   ],
   "id": "cd43a4d1e5c1869f",
   "outputs": [
    {
     "name": "stdout",
     "output_type": "stream",
     "text": [
      "Generated 557 embeddings with dimension 384\n"
     ]
    }
   ],
   "execution_count": 3
  },
  {
   "metadata": {
    "ExecuteTime": {
     "end_time": "2025-03-15T11:56:18.015059Z",
     "start_time": "2025-03-15T11:56:17.651435Z"
    }
   },
   "cell_type": "code",
   "source": [
    "import chromadb\n",
    "\n",
    "# Initialize ChromaDB client\n",
    "client = chromadb.PersistentClient(path=\"./chroma_db\")  # Stores the database persistently\n",
    "\n",
    "# Create or get the collection for banking transactions\n",
    "collection_name = \"banking_transactions\"\n",
    "collection = client.get_or_create_collection(collection_name)\n",
    "\n",
    "print(f\"Collection '{collection_name}' is ready!\")\n"
   ],
   "id": "15f17f9af8afe927",
   "outputs": [
    {
     "name": "stdout",
     "output_type": "stream",
     "text": [
      "Collection 'banking_transactions' is ready!\n"
     ]
    }
   ],
   "execution_count": 4
  },
  {
   "metadata": {
    "jupyter": {
     "is_executing": true
    },
    "ExecuteTime": {
     "start_time": "2025-03-15T11:56:20.228345Z"
    }
   },
   "cell_type": "code",
   "source": [
    "import chromadb\n",
    "import uuid  # Importing uuid to generate unique IDs\n",
    "\n",
    "# 1️⃣ Initialize ChromaDB Client\n",
    "client = chromadb.PersistentClient(path=\"./chroma_db\")  # Ensure persistent storage\n",
    "collection_name = 'banking_transactions'\n",
    "collection = client.get_or_create_collection(collection_name)\n",
    "\n",
    "# 2️⃣ Debug: Check embeddings before inserting\n",
    "print(f\"Total embeddings generated: {len(embeddings)}\")\n",
    "if len(embeddings) == 0:\n",
    "    raise ValueError(\"❌ No embeddings found! Check embedding generation step.\")\n",
    "\n",
    "print(\"Sample embedding:\", embeddings[0])  # Print first embedding\n",
    "\n",
    "# 3️⃣ Convert Timestamps to Strings (Fix ValueError)\n",
    "df['Date'] = df['Date'].astype(str)\n",
    "\n",
    "# 4️⃣ Insert ONLY 5 rows first to test, using UUIDs for unique IDs\n",
    "try:\n",
    "    # Generate unique IDs using UUID\n",
    "    unique_ids = [str(uuid.uuid4()) for _ in range(5)]\n",
    "    \n",
    "    collection.add(\n",
    "        ids=unique_ids, \n",
    "        embeddings=[emb.tolist() for emb in embeddings[:5]], \n",
    "        metadatas=df[['Date', 'Particulars', 'Payments', 'Receipts', 'Balance']].iloc[:5].to_dict(orient='records')\n",
    "    )\n",
    "    print(\"✅ Successfully inserted 5 rows into ChromaDB!\")\n",
    "except Exception as e:\n",
    "    print(f\"❌ Error inserting data: {e}\")\n",
    "\n",
    "# 5️⃣ Check if ChromaDB Stored Data\n",
    "print(\"Total documents in collection:\", collection.count())\n",
    "print(\"Sample document from ChromaDB:\", collection.peek(1))\n"
   ],
   "id": "34a859a9b9ac1e61",
   "outputs": [],
   "execution_count": null
  },
  {
   "metadata": {
    "ExecuteTime": {
     "end_time": "2025-03-15T11:50:23.115407Z",
     "start_time": "2025-03-15T11:50:05.324867Z"
    }
   },
   "cell_type": "code",
   "source": [
    "\n",
    "\n",
    "\n",
    "# Generate embeddings for the 'Particulars' column\n",
    "embeddings = model.encode(df['Particulars'].tolist(), show_progress_bar=True)\n",
    "\n",
    "# Step 3: Reduce the dimensionality of embeddings using PCA\n",
    "pca = PCA(n_components=50)  # You can adjust the number of components (e.g., 50)\n",
    "reduced_embeddings = pca.fit_transform(embeddings)\n",
    "\n",
    "# Step 4: Apply MiniBatchKMeans clustering on the reduced embeddings\n",
    "n_clusters = 5  # You can adjust the number of clusters\n",
    "\n",
    "# Track the start time for clustering\n",
    "start_time = time.time()\n",
    "\n",
    "# Initialize MiniBatchKMeans\n",
    "mini_batch_kmeans = MiniBatchKMeans(n_clusters=n_clusters, random_state=42, batch_size=100)\n",
    "labels = mini_batch_kmeans.fit_predict(reduced_embeddings)\n",
    "\n",
    "# Track the end time for clustering\n",
    "end_time = time.time()\n",
    "print(f\"Clustering took {end_time - start_time} seconds\")\n",
    "\n",
    "# Step 5: Add the cluster labels to the DataFrame\n",
    "df['Cluster'] = labels\n",
    "\n",
    "# Step 6: Print the results for each cluster\n",
    "for cluster_num in range(n_clusters):\n",
    "    print(f\"\\n--- Cluster {cluster_num} ---\")\n",
    "    cluster_transactions = df[df['Cluster'] == cluster_num]\n",
    "    print(cluster_transactions[['Date', 'Particulars', 'Payments', 'Receipts', 'Balance']])\n",
    "    print(\"\\n\")\n"
   ],
   "id": "eb1579f87f971314",
   "outputs": [
    {
     "ename": "NameError",
     "evalue": "name 'df' is not defined",
     "output_type": "error",
     "traceback": [
      "\u001B[1;31m---------------------------------------------------------------------------\u001B[0m",
      "\u001B[1;31mNameError\u001B[0m                                 Traceback (most recent call last)",
      "Cell \u001B[1;32mIn[1], line 19\u001B[0m\n\u001B[0;32m     16\u001B[0m model \u001B[38;5;241m=\u001B[39m SentenceTransformer(\u001B[38;5;124m'\u001B[39m\u001B[38;5;124mparaphrase-MiniLM-L6-v2\u001B[39m\u001B[38;5;124m'\u001B[39m)\n\u001B[0;32m     18\u001B[0m \u001B[38;5;66;03m# Generate embeddings for the 'Particulars' column\u001B[39;00m\n\u001B[1;32m---> 19\u001B[0m embeddings \u001B[38;5;241m=\u001B[39m model\u001B[38;5;241m.\u001B[39mencode(df[\u001B[38;5;124m'\u001B[39m\u001B[38;5;124mParticulars\u001B[39m\u001B[38;5;124m'\u001B[39m]\u001B[38;5;241m.\u001B[39mtolist(), show_progress_bar\u001B[38;5;241m=\u001B[39m\u001B[38;5;28;01mTrue\u001B[39;00m)\n\u001B[0;32m     21\u001B[0m \u001B[38;5;66;03m# Step 3: Reduce the dimensionality of embeddings using PCA\u001B[39;00m\n\u001B[0;32m     22\u001B[0m pca \u001B[38;5;241m=\u001B[39m PCA(n_components\u001B[38;5;241m=\u001B[39m\u001B[38;5;241m50\u001B[39m)  \u001B[38;5;66;03m# You can adjust the number of components (e.g., 50)\u001B[39;00m\n",
      "\u001B[1;31mNameError\u001B[0m: name 'df' is not defined"
     ]
    }
   ],
   "execution_count": 1
  },
  {
   "metadata": {
    "jupyter": {
     "is_executing": true
    }
   },
   "cell_type": "code",
   "source": "",
   "id": "7ae6b6fe1a9e571c",
   "outputs": [],
   "execution_count": null
  },
  {
   "metadata": {},
   "cell_type": "code",
   "outputs": [],
   "execution_count": null,
   "source": "",
   "id": "5f34274ce6234030"
  }
 ],
 "metadata": {
  "kernelspec": {
   "display_name": "Python 3",
   "language": "python",
   "name": "python3"
  },
  "language_info": {
   "codemirror_mode": {
    "name": "ipython",
    "version": 2
   },
   "file_extension": ".py",
   "mimetype": "text/x-python",
   "name": "python",
   "nbconvert_exporter": "python",
   "pygments_lexer": "ipython2",
   "version": "2.7.6"
  }
 },
 "nbformat": 4,
 "nbformat_minor": 5
}
