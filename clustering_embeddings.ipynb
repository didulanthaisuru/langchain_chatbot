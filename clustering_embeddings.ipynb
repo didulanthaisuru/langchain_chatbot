{
 "cells": [
  {
   "cell_type": "code",
   "id": "initial_id",
   "metadata": {
    "collapsed": true,
    "ExecuteTime": {
     "end_time": "2025-03-15T08:55:09.914139Z",
     "start_time": "2025-03-15T08:55:08.270558Z"
    }
   },
   "source": [
    "# Import required libraries\n",
    "import pandas as pd\n",
    "\n",
    "# Load the Excel file\n",
    "file_path = 'shihara_dataset.xlsx'  # Update this if the file path is different\n",
    "df = pd.read_excel(file_path)\n",
    "\n",
    "# Display the first few rows of the dataframe to check the data\n",
    "df.head()\n"
   ],
   "outputs": [
    {
     "data": {
      "text/plain": [
       "        Date                   Particulars Payments  Receipts   Balance\n",
       "0 2022-12-27  IB CEFT CHGS K A Kumaranayek       30       NaN   8449.35\n",
       "1 2022-12-27  PURCHASE UNIVERSITY GRANTS C       50       NaN   8399.35\n",
       "2 2022-12-28  PURCHASE KEELLS SUPER - MORA     5000       NaN   3399.35\n",
       "3 2022-12-30                      INTEREST      NaN     41.57   3440.92\n",
       "4 2023-01-04                      NOV RENT     3000  75000.00  78440.92"
      ],
      "text/html": [
       "<div>\n",
       "<style scoped>\n",
       "    .dataframe tbody tr th:only-of-type {\n",
       "        vertical-align: middle;\n",
       "    }\n",
       "\n",
       "    .dataframe tbody tr th {\n",
       "        vertical-align: top;\n",
       "    }\n",
       "\n",
       "    .dataframe thead th {\n",
       "        text-align: right;\n",
       "    }\n",
       "</style>\n",
       "<table border=\"1\" class=\"dataframe\">\n",
       "  <thead>\n",
       "    <tr style=\"text-align: right;\">\n",
       "      <th></th>\n",
       "      <th>Date</th>\n",
       "      <th>Particulars</th>\n",
       "      <th>Payments</th>\n",
       "      <th>Receipts</th>\n",
       "      <th>Balance</th>\n",
       "    </tr>\n",
       "  </thead>\n",
       "  <tbody>\n",
       "    <tr>\n",
       "      <th>0</th>\n",
       "      <td>2022-12-27</td>\n",
       "      <td>IB CEFT CHGS K A Kumaranayek</td>\n",
       "      <td>30</td>\n",
       "      <td>NaN</td>\n",
       "      <td>8449.35</td>\n",
       "    </tr>\n",
       "    <tr>\n",
       "      <th>1</th>\n",
       "      <td>2022-12-27</td>\n",
       "      <td>PURCHASE UNIVERSITY GRANTS C</td>\n",
       "      <td>50</td>\n",
       "      <td>NaN</td>\n",
       "      <td>8399.35</td>\n",
       "    </tr>\n",
       "    <tr>\n",
       "      <th>2</th>\n",
       "      <td>2022-12-28</td>\n",
       "      <td>PURCHASE KEELLS SUPER - MORA</td>\n",
       "      <td>5000</td>\n",
       "      <td>NaN</td>\n",
       "      <td>3399.35</td>\n",
       "    </tr>\n",
       "    <tr>\n",
       "      <th>3</th>\n",
       "      <td>2022-12-30</td>\n",
       "      <td>INTEREST</td>\n",
       "      <td>NaN</td>\n",
       "      <td>41.57</td>\n",
       "      <td>3440.92</td>\n",
       "    </tr>\n",
       "    <tr>\n",
       "      <th>4</th>\n",
       "      <td>2023-01-04</td>\n",
       "      <td>NOV RENT</td>\n",
       "      <td>3000</td>\n",
       "      <td>75000.00</td>\n",
       "      <td>78440.92</td>\n",
       "    </tr>\n",
       "  </tbody>\n",
       "</table>\n",
       "</div>"
      ]
     },
     "execution_count": 9,
     "metadata": {},
     "output_type": "execute_result"
    }
   ],
   "execution_count": 9
  },
  {
   "metadata": {
    "ExecuteTime": {
     "end_time": "2025-03-15T08:57:33.674629Z",
     "start_time": "2025-03-15T08:57:33.661255Z"
    }
   },
   "cell_type": "code",
   "source": [
    "# Inspect the columns to ensure they exist\n",
    "print(df.columns)\n",
    "\n",
    "# If necessary, clean the data (e.g., handling missing values)\n",
    "df['Particulars'] = df['Particulars'].fillna('')\n",
    "\n",
    "# Optionally, you can include payment, receipt, and balance as metadata in ChromaDB\n"
   ],
   "id": "e20f1d0e80fe3b12",
   "outputs": [
    {
     "name": "stdout",
     "output_type": "stream",
     "text": [
      "Index(['Date', 'Particulars', 'Payments', 'Receipts', 'Balance'], dtype='object')\n"
     ]
    }
   ],
   "execution_count": 11
  },
  {
   "metadata": {
    "ExecuteTime": {
     "end_time": "2025-03-15T08:58:07.870949Z",
     "start_time": "2025-03-15T08:58:07.404889Z"
    }
   },
   "cell_type": "code",
   "source": [
    "# Initialize ChromaDB client\n",
    "from chromadb import Client\n",
    "\n",
    "# Connect to the ChromaDB client\n",
    "client = Client()\n",
    "\n",
    "# Create or load the collection (named 'banking_transactions')\n",
    "collection_name = 'banking_transactions'\n",
    "collection = client.get_or_create_collection(collection_name)\n"
   ],
   "id": "6e12e56a934131",
   "outputs": [],
   "execution_count": 12
  },
  {
   "metadata": {
    "ExecuteTime": {
     "end_time": "2025-03-15T09:05:45.916147Z",
     "start_time": "2025-03-15T09:05:34.348182Z"
    }
   },
   "cell_type": "code",
   "source": [
    "# Import SentenceTransformer\n",
    "from sentence_transformers import SentenceTransformer\n",
    "\n",
    "# Load pre-trained transformer model for sentence embeddings\n",
    "model = SentenceTransformer('paraphrase-MiniLM-L6-v2')\n",
    "\n",
    "# Generate embeddings for all the transaction particulars\n",
    "embeddings = model.encode(df['Particulars'].tolist())\n",
    "\n",
    "# Optionally, view the size of the embeddings\n",
    "print(f\"Generated embeddings of shape: {embeddings.shape}\")\n"
   ],
   "id": "318989a301400a40",
   "outputs": [
    {
     "name": "stdout",
     "output_type": "stream",
     "text": [
      "Generated embeddings of shape: (557, 384)\n"
     ]
    }
   ],
   "execution_count": 14
  },
  {
   "metadata": {
    "ExecuteTime": {
     "end_time": "2025-03-15T09:13:01.523837Z",
     "start_time": "2025-03-15T09:13:01.483454Z"
    }
   },
   "cell_type": "code",
   "source": [
    "# Insert embeddings and their metadata into ChromaDB collection\n",
    "for idx, emb in enumerate(embeddings):\n",
    "    # Create a metadata dictionary for each transaction\n",
    "    metadata = {\n",
    "        \"Particulars\": df['Particulars'].iloc[idx],\n",
    "        \"Payments\": df['Payments'].iloc[idx],  # Or handle missing values as needed\n",
    "        \"Receipts\": df['Receipts'].iloc[idx],\n",
    "        \"Balance\": df['Balance'].iloc[idx]\n",
    "    }\n",
    "    \n",
    "    # Add the embedding and metadata into the collection\n",
    "    collection.add(id=str(idx), embeddings=emb.tolist(), metadata=metadata)\n",
    "\n",
    "print(f\"Inserted {len(embeddings)} embeddings into the collection.\")\n"
   ],
   "id": "199846327abb7cd8",
   "outputs": [
    {
     "ename": "TypeError",
     "evalue": "Collection.add() got an unexpected keyword argument 'id'",
     "output_type": "error",
     "traceback": [
      "\u001B[1;31m---------------------------------------------------------------------------\u001B[0m",
      "\u001B[1;31mTypeError\u001B[0m                                 Traceback (most recent call last)",
      "Cell \u001B[1;32mIn[17], line 12\u001B[0m\n\u001B[0;32m      4\u001B[0m     metadata \u001B[38;5;241m=\u001B[39m {\n\u001B[0;32m      5\u001B[0m         \u001B[38;5;124m\"\u001B[39m\u001B[38;5;124mParticulars\u001B[39m\u001B[38;5;124m\"\u001B[39m: df[\u001B[38;5;124m'\u001B[39m\u001B[38;5;124mParticulars\u001B[39m\u001B[38;5;124m'\u001B[39m]\u001B[38;5;241m.\u001B[39miloc[idx],\n\u001B[0;32m      6\u001B[0m         \u001B[38;5;124m\"\u001B[39m\u001B[38;5;124mPayments\u001B[39m\u001B[38;5;124m\"\u001B[39m: df[\u001B[38;5;124m'\u001B[39m\u001B[38;5;124mPayments\u001B[39m\u001B[38;5;124m'\u001B[39m]\u001B[38;5;241m.\u001B[39miloc[idx],  \u001B[38;5;66;03m# Or handle missing values as needed\u001B[39;00m\n\u001B[0;32m      7\u001B[0m         \u001B[38;5;124m\"\u001B[39m\u001B[38;5;124mReceipts\u001B[39m\u001B[38;5;124m\"\u001B[39m: df[\u001B[38;5;124m'\u001B[39m\u001B[38;5;124mReceipts\u001B[39m\u001B[38;5;124m'\u001B[39m]\u001B[38;5;241m.\u001B[39miloc[idx],\n\u001B[0;32m      8\u001B[0m         \u001B[38;5;124m\"\u001B[39m\u001B[38;5;124mBalance\u001B[39m\u001B[38;5;124m\"\u001B[39m: df[\u001B[38;5;124m'\u001B[39m\u001B[38;5;124mBalance\u001B[39m\u001B[38;5;124m'\u001B[39m]\u001B[38;5;241m.\u001B[39miloc[idx]\n\u001B[0;32m      9\u001B[0m     }\n\u001B[0;32m     11\u001B[0m     \u001B[38;5;66;03m# Add the embedding and metadata into the collection\u001B[39;00m\n\u001B[1;32m---> 12\u001B[0m     collection\u001B[38;5;241m.\u001B[39madd(\u001B[38;5;28mid\u001B[39m\u001B[38;5;241m=\u001B[39m\u001B[38;5;28mstr\u001B[39m(idx), embeddings\u001B[38;5;241m=\u001B[39memb\u001B[38;5;241m.\u001B[39mtolist(), metadata\u001B[38;5;241m=\u001B[39mmetadata)\n\u001B[0;32m     14\u001B[0m \u001B[38;5;28mprint\u001B[39m(\u001B[38;5;124mf\u001B[39m\u001B[38;5;124m\"\u001B[39m\u001B[38;5;124mInserted \u001B[39m\u001B[38;5;132;01m{\u001B[39;00m\u001B[38;5;28mlen\u001B[39m(embeddings)\u001B[38;5;132;01m}\u001B[39;00m\u001B[38;5;124m embeddings into the collection.\u001B[39m\u001B[38;5;124m\"\u001B[39m)\n",
      "\u001B[1;31mTypeError\u001B[0m: Collection.add() got an unexpected keyword argument 'id'"
     ]
    }
   ],
   "execution_count": 17
  },
  {
   "metadata": {},
   "cell_type": "code",
   "outputs": [],
   "execution_count": null,
   "source": "",
   "id": "51fd5a1f93f2b904"
  }
 ],
 "metadata": {
  "kernelspec": {
   "display_name": "Python 3",
   "language": "python",
   "name": "python3"
  },
  "language_info": {
   "codemirror_mode": {
    "name": "ipython",
    "version": 2
   },
   "file_extension": ".py",
   "mimetype": "text/x-python",
   "name": "python",
   "nbconvert_exporter": "python",
   "pygments_lexer": "ipython2",
   "version": "2.7.6"
  }
 },
 "nbformat": 4,
 "nbformat_minor": 5
}
