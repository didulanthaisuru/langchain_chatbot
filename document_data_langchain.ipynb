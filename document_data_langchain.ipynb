{
 "cells": [
  {
   "cell_type": "code",
   "id": "initial_id",
   "metadata": {
    "collapsed": true,
    "ExecuteTime": {
     "end_time": "2025-02-23T09:02:47.582546Z",
     "start_time": "2025-02-23T09:02:47.539338Z"
    }
   },
   "source": [
    "import os\n",
    "\n",
    "from dotenv import load_dotenv,find_dotenv\n",
    "_=load_dotenv(find_dotenv())"
   ],
   "outputs": [],
   "execution_count": 26
  },
  {
   "metadata": {},
   "cell_type": "code",
   "outputs": [],
   "execution_count": null,
   "source": "",
   "id": "44a753db63633209"
  },
  {
   "metadata": {
    "ExecuteTime": {
     "end_time": "2025-02-23T09:02:48.067136Z",
     "start_time": "2025-02-23T09:02:48.060766Z"
    }
   },
   "cell_type": "code",
   "source": "llm_model=\"gemini-1.5-flash\"",
   "id": "d15ad6b833530ac2",
   "outputs": [],
   "execution_count": 27
  },
  {
   "metadata": {
    "ExecuteTime": {
     "end_time": "2025-02-23T09:02:48.626072Z",
     "start_time": "2025-02-23T09:02:48.617525Z"
    }
   },
   "cell_type": "code",
   "source": [
    "from langchain.chains import RetrievalQA\n",
    "from langchain.chat_models import ChatOpenAI\n",
    "from langchain.document_loaders import CSVLoader\n",
    "from langchain.vectorstores import DocArrayInMemorySearch\n",
    "from IPython.display import display,Markdown\n",
    "from langchain_google_genai import GoogleGenerativeAI"
   ],
   "id": "9582c1d143aa288b",
   "outputs": [],
   "execution_count": 28
  },
  {
   "metadata": {
    "ExecuteTime": {
     "end_time": "2025-02-23T09:05:45.626919Z",
     "start_time": "2025-02-23T09:05:45.593442Z"
    }
   },
   "cell_type": "code",
   "source": [
    "file='OutdoorClothingCatalog_1000.csv'\n",
    "loader = CSVLoader(file_path=file, encoding=\"utf-8\")\n",
    "\n",
    "import pandas as pd\n",
    "df=pd.read_csv(file)\n",
    "print(df.head())"
   ],
   "id": "4d8b85374c3424b6",
   "outputs": [
    {
     "name": "stdout",
     "output_type": "stream",
     "text": [
      "   Unnamed: 0                                               name  \\\n",
      "0           0                           Women's Campside Oxfords   \n",
      "1           1           Recycled Waterhog Dog Mat, Chevron Weave   \n",
      "2           2  Infant and Toddler Girls' Coastal Chill Swimsu...   \n",
      "3           3         Refresh Swimwear, V-Neck Tankini Contrasts   \n",
      "4           4                             EcoFlex 3L Storm Pants   \n",
      "\n",
      "                                         description  \n",
      "0  This ultracomfortable lace-to-toe Oxford boast...  \n",
      "1  Protect your floors from spills and splashing ...  \n",
      "2  She'll love the bright colors, ruffles and exc...  \n",
      "3  Whether you're going for a swim or heading out...  \n",
      "4  Our new TEK O2 technology makes our four-seaso...  \n"
     ]
    }
   ],
   "execution_count": 35
  },
  {
   "metadata": {
    "ExecuteTime": {
     "end_time": "2025-02-23T09:05:46.744868Z",
     "start_time": "2025-02-23T09:05:46.738206Z"
    }
   },
   "cell_type": "code",
   "source": [
    "from langchain.indexes import VectorstoreIndexCreator\n",
    "from langchain.embeddings import VertexAIEmbeddings"
   ],
   "id": "11734604a5cdc025",
   "outputs": [],
   "execution_count": 36
  },
  {
   "metadata": {
    "ExecuteTime": {
     "end_time": "2025-02-23T09:05:12.184583Z",
     "start_time": "2025-02-23T09:05:12.179909Z"
    }
   },
   "cell_type": "code",
   "source": [
    "from langchain_google_genai import GoogleGenerativeAIEmbeddings\n",
    "from langchain.vectorstores import DocArrayInMemorySearch\n",
    "from langchain.indexes import VectorstoreIndexCreator\n",
    "from langchain.document_loaders import CSVLoader"
   ],
   "id": "86df43c32de0ed6c",
   "outputs": [],
   "execution_count": 34
  },
  {
   "metadata": {
    "ExecuteTime": {
     "end_time": "2025-02-23T09:07:33.926510Z",
     "start_time": "2025-02-23T09:07:33.914922Z"
    }
   },
   "cell_type": "code",
   "source": "embeddings = GoogleGenerativeAIEmbeddings(model=llm_model)",
   "id": "18dae1e765ee3ab4",
   "outputs": [],
   "execution_count": 39
  },
  {
   "metadata": {
    "ExecuteTime": {
     "end_time": "2025-02-23T09:07:37.911337Z",
     "start_time": "2025-02-23T09:07:34.369566Z"
    }
   },
   "cell_type": "code",
   "source": [
    "index = VectorstoreIndexCreator(\n",
    "    vectorstore_cls=DocArrayInMemorySearch,\n",
    "    embedding=embeddings,\n",
    ").from_loaders([loader]) "
   ],
   "id": "285774a02c20a3c4",
   "outputs": [
    {
     "ename": "GoogleGenerativeAIError",
     "evalue": "Error embedding content: 400 * BatchEmbedContentsRequest.model: unexpected model name format\n* BatchEmbedContentsRequest.requests[0].model: unexpected model name format\n* BatchEmbedContentsRequest.requests[1].model: unexpected model name format\n* BatchEmbedContentsRequest.requests[2].model: unexpected model name format\n* BatchEmbedContentsRequest.requests[3].model: unexpected model name format\n* BatchEmbedContentsRequest.requests[4].model: unexpected model name format\n* BatchEmbedContentsRequest.requests[5].model: unexpected model name format\n* BatchEmbedContentsRequest.requests[6].model: unexpected model name format\n* BatchEmbedContentsRequest.requests[7].model: unexpected model name format\n* BatchEmbedContentsRequest.requests[8].model: unexpected model name format\n* BatchEmbedContentsRequest.requests[9].model: unexpected model name format\n* BatchEmbedContentsRequest.requests[10].model: unexpected model name format\n* BatchEmbedContentsRequest.requests[11].model: unexpected model name format\n* BatchEmbedContentsRequest.requests[12].model: unexpected model name format\n* BatchEmbedContentsRequest.requests[13].model: unexpected model name format\n* BatchEmbedContentsRequest.requests[14].model: unexpected model name format\n* BatchEmbedContentsRequest.requests[15].model: unexpected model name format\n* BatchEmbedContentsRequest.requests[16].model: unexpected model name format\n* BatchEmbedContentsRequest.requests[17].model: unexpected model name format\n* BatchEmbedContentsRequest.requests[18].model: unexpected model name format\n* BatchEmbedContentsRequest.requests[19].model: unexpected model name format\n* BatchEmbedContentsRequest.requests[20].model: unexpected model name format\n* BatchEmbedContentsRequest.requests[21].model: unexpected model name format\n* BatchEmbedContentsRequest.requests[22].model: unexpected model name format\n* BatchEmbedContentsRequest.requests[23].model: unexpected model name format\n* BatchEmbedContentsRequest.requests[24].model: unexpected model name format\n* BatchEmbedContentsRequest.requests[25].model: unexpected model name format\n* BatchEmbedContentsRequest.requests[26].model: unexpected model name format\n* BatchEmbedContentsRequest.requests[27].model: unexpected model name format\n* BatchEmbedContentsRequest.requests[28].model: unexpected model name format\n* BatchEmbedContentsRequest.requests[29].model: unexpected model name format\n* BatchEmbedContentsRequest.requests[30].model: unexpected model name format\n* BatchEmbedContentsRequest.requests[31].model: unexpected model name format\n* BatchEmbedContentsRequest.requests[32].model: unexpected model name format\n* BatchEmbedContentsRequest.requests[33].model: unexpected model name format\n* BatchEmbedContentsRequest.requests[34].model: unexpected model name format\n* BatchEmbedContentsRequest.requests[35].model: unexpected model name format\n* BatchEmbedContentsRequest.requests[36].model: unexpected model name format\n* BatchEmbedContentsRequest.requests[37].model: unexpected model name format\n",
     "output_type": "error",
     "traceback": [
      "\u001B[1;31m---------------------------------------------------------------------------\u001B[0m",
      "\u001B[1;31mInvalidArgument\u001B[0m                           Traceback (most recent call last)",
      "File \u001B[1;32m~\\anaconda3\\Lib\\site-packages\\langchain_google_genai\\embeddings.py:227\u001B[0m, in \u001B[0;36mGoogleGenerativeAIEmbeddings.embed_documents\u001B[1;34m(self, texts, batch_size, task_type, titles, output_dimensionality)\u001B[0m\n\u001B[0;32m    226\u001B[0m \u001B[38;5;28;01mtry\u001B[39;00m:\n\u001B[1;32m--> 227\u001B[0m     result \u001B[38;5;241m=\u001B[39m \u001B[38;5;28mself\u001B[39m\u001B[38;5;241m.\u001B[39mclient\u001B[38;5;241m.\u001B[39mbatch_embed_contents(\n\u001B[0;32m    228\u001B[0m         BatchEmbedContentsRequest(requests\u001B[38;5;241m=\u001B[39mrequests, model\u001B[38;5;241m=\u001B[39m\u001B[38;5;28mself\u001B[39m\u001B[38;5;241m.\u001B[39mmodel)\n\u001B[0;32m    229\u001B[0m     )\n\u001B[0;32m    230\u001B[0m \u001B[38;5;28;01mexcept\u001B[39;00m \u001B[38;5;167;01mException\u001B[39;00m \u001B[38;5;28;01mas\u001B[39;00m e:\n",
      "File \u001B[1;32m~\\anaconda3\\Lib\\site-packages\\google\\ai\\generativelanguage_v1beta\\services\\generative_service\\client.py:1392\u001B[0m, in \u001B[0;36mGenerativeServiceClient.batch_embed_contents\u001B[1;34m(self, request, model, requests, retry, timeout, metadata)\u001B[0m\n\u001B[0;32m   1391\u001B[0m \u001B[38;5;66;03m# Send the request.\u001B[39;00m\n\u001B[1;32m-> 1392\u001B[0m response \u001B[38;5;241m=\u001B[39m rpc(\n\u001B[0;32m   1393\u001B[0m     request,\n\u001B[0;32m   1394\u001B[0m     retry\u001B[38;5;241m=\u001B[39mretry,\n\u001B[0;32m   1395\u001B[0m     timeout\u001B[38;5;241m=\u001B[39mtimeout,\n\u001B[0;32m   1396\u001B[0m     metadata\u001B[38;5;241m=\u001B[39mmetadata,\n\u001B[0;32m   1397\u001B[0m )\n\u001B[0;32m   1399\u001B[0m \u001B[38;5;66;03m# Done; return the response.\u001B[39;00m\n",
      "File \u001B[1;32m~\\anaconda3\\Lib\\site-packages\\google\\api_core\\gapic_v1\\method.py:131\u001B[0m, in \u001B[0;36m_GapicCallable.__call__\u001B[1;34m(self, timeout, retry, compression, *args, **kwargs)\u001B[0m\n\u001B[0;32m    129\u001B[0m     kwargs[\u001B[38;5;124m\"\u001B[39m\u001B[38;5;124mcompression\u001B[39m\u001B[38;5;124m\"\u001B[39m] \u001B[38;5;241m=\u001B[39m compression\n\u001B[1;32m--> 131\u001B[0m \u001B[38;5;28;01mreturn\u001B[39;00m wrapped_func(\u001B[38;5;241m*\u001B[39margs, \u001B[38;5;241m*\u001B[39m\u001B[38;5;241m*\u001B[39mkwargs)\n",
      "File \u001B[1;32m~\\anaconda3\\Lib\\site-packages\\google\\api_core\\retry\\retry_unary.py:293\u001B[0m, in \u001B[0;36mRetry.__call__.<locals>.retry_wrapped_func\u001B[1;34m(*args, **kwargs)\u001B[0m\n\u001B[0;32m    290\u001B[0m sleep_generator \u001B[38;5;241m=\u001B[39m exponential_sleep_generator(\n\u001B[0;32m    291\u001B[0m     \u001B[38;5;28mself\u001B[39m\u001B[38;5;241m.\u001B[39m_initial, \u001B[38;5;28mself\u001B[39m\u001B[38;5;241m.\u001B[39m_maximum, multiplier\u001B[38;5;241m=\u001B[39m\u001B[38;5;28mself\u001B[39m\u001B[38;5;241m.\u001B[39m_multiplier\n\u001B[0;32m    292\u001B[0m )\n\u001B[1;32m--> 293\u001B[0m \u001B[38;5;28;01mreturn\u001B[39;00m retry_target(\n\u001B[0;32m    294\u001B[0m     target,\n\u001B[0;32m    295\u001B[0m     \u001B[38;5;28mself\u001B[39m\u001B[38;5;241m.\u001B[39m_predicate,\n\u001B[0;32m    296\u001B[0m     sleep_generator,\n\u001B[0;32m    297\u001B[0m     timeout\u001B[38;5;241m=\u001B[39m\u001B[38;5;28mself\u001B[39m\u001B[38;5;241m.\u001B[39m_timeout,\n\u001B[0;32m    298\u001B[0m     on_error\u001B[38;5;241m=\u001B[39mon_error,\n\u001B[0;32m    299\u001B[0m )\n",
      "File \u001B[1;32m~\\anaconda3\\Lib\\site-packages\\google\\api_core\\retry\\retry_unary.py:153\u001B[0m, in \u001B[0;36mretry_target\u001B[1;34m(target, predicate, sleep_generator, timeout, on_error, exception_factory, **kwargs)\u001B[0m\n\u001B[0;32m    151\u001B[0m \u001B[38;5;28;01mexcept\u001B[39;00m \u001B[38;5;167;01mException\u001B[39;00m \u001B[38;5;28;01mas\u001B[39;00m exc:\n\u001B[0;32m    152\u001B[0m     \u001B[38;5;66;03m# defer to shared logic for handling errors\u001B[39;00m\n\u001B[1;32m--> 153\u001B[0m     _retry_error_helper(\n\u001B[0;32m    154\u001B[0m         exc,\n\u001B[0;32m    155\u001B[0m         deadline,\n\u001B[0;32m    156\u001B[0m         sleep,\n\u001B[0;32m    157\u001B[0m         error_list,\n\u001B[0;32m    158\u001B[0m         predicate,\n\u001B[0;32m    159\u001B[0m         on_error,\n\u001B[0;32m    160\u001B[0m         exception_factory,\n\u001B[0;32m    161\u001B[0m         timeout,\n\u001B[0;32m    162\u001B[0m     )\n\u001B[0;32m    163\u001B[0m     \u001B[38;5;66;03m# if exception not raised, sleep before next attempt\u001B[39;00m\n",
      "File \u001B[1;32m~\\anaconda3\\Lib\\site-packages\\google\\api_core\\retry\\retry_base.py:212\u001B[0m, in \u001B[0;36m_retry_error_helper\u001B[1;34m(exc, deadline, next_sleep, error_list, predicate_fn, on_error_fn, exc_factory_fn, original_timeout)\u001B[0m\n\u001B[0;32m    207\u001B[0m     final_exc, source_exc \u001B[38;5;241m=\u001B[39m exc_factory_fn(\n\u001B[0;32m    208\u001B[0m         error_list,\n\u001B[0;32m    209\u001B[0m         RetryFailureReason\u001B[38;5;241m.\u001B[39mNON_RETRYABLE_ERROR,\n\u001B[0;32m    210\u001B[0m         original_timeout,\n\u001B[0;32m    211\u001B[0m     )\n\u001B[1;32m--> 212\u001B[0m     \u001B[38;5;28;01mraise\u001B[39;00m final_exc \u001B[38;5;28;01mfrom\u001B[39;00m \u001B[38;5;21;01msource_exc\u001B[39;00m\n\u001B[0;32m    213\u001B[0m \u001B[38;5;28;01mif\u001B[39;00m on_error_fn \u001B[38;5;129;01mis\u001B[39;00m \u001B[38;5;129;01mnot\u001B[39;00m \u001B[38;5;28;01mNone\u001B[39;00m:\n",
      "File \u001B[1;32m~\\anaconda3\\Lib\\site-packages\\google\\api_core\\retry\\retry_unary.py:144\u001B[0m, in \u001B[0;36mretry_target\u001B[1;34m(target, predicate, sleep_generator, timeout, on_error, exception_factory, **kwargs)\u001B[0m\n\u001B[0;32m    143\u001B[0m \u001B[38;5;28;01mtry\u001B[39;00m:\n\u001B[1;32m--> 144\u001B[0m     result \u001B[38;5;241m=\u001B[39m target()\n\u001B[0;32m    145\u001B[0m     \u001B[38;5;28;01mif\u001B[39;00m inspect\u001B[38;5;241m.\u001B[39misawaitable(result):\n",
      "File \u001B[1;32m~\\anaconda3\\Lib\\site-packages\\google\\api_core\\timeout.py:130\u001B[0m, in \u001B[0;36mTimeToDeadlineTimeout.__call__.<locals>.func_with_timeout\u001B[1;34m(*args, **kwargs)\u001B[0m\n\u001B[0;32m    128\u001B[0m     kwargs[\u001B[38;5;124m\"\u001B[39m\u001B[38;5;124mtimeout\u001B[39m\u001B[38;5;124m\"\u001B[39m] \u001B[38;5;241m=\u001B[39m remaining_timeout\n\u001B[1;32m--> 130\u001B[0m \u001B[38;5;28;01mreturn\u001B[39;00m func(\u001B[38;5;241m*\u001B[39margs, \u001B[38;5;241m*\u001B[39m\u001B[38;5;241m*\u001B[39mkwargs)\n",
      "File \u001B[1;32m~\\anaconda3\\Lib\\site-packages\\google\\api_core\\grpc_helpers.py:78\u001B[0m, in \u001B[0;36m_wrap_unary_errors.<locals>.error_remapped_callable\u001B[1;34m(*args, **kwargs)\u001B[0m\n\u001B[0;32m     77\u001B[0m \u001B[38;5;28;01mexcept\u001B[39;00m grpc\u001B[38;5;241m.\u001B[39mRpcError \u001B[38;5;28;01mas\u001B[39;00m exc:\n\u001B[1;32m---> 78\u001B[0m     \u001B[38;5;28;01mraise\u001B[39;00m exceptions\u001B[38;5;241m.\u001B[39mfrom_grpc_error(exc) \u001B[38;5;28;01mfrom\u001B[39;00m \u001B[38;5;21;01mexc\u001B[39;00m\n",
      "\u001B[1;31mInvalidArgument\u001B[0m: 400 * BatchEmbedContentsRequest.model: unexpected model name format\n* BatchEmbedContentsRequest.requests[0].model: unexpected model name format\n* BatchEmbedContentsRequest.requests[1].model: unexpected model name format\n* BatchEmbedContentsRequest.requests[2].model: unexpected model name format\n* BatchEmbedContentsRequest.requests[3].model: unexpected model name format\n* BatchEmbedContentsRequest.requests[4].model: unexpected model name format\n* BatchEmbedContentsRequest.requests[5].model: unexpected model name format\n* BatchEmbedContentsRequest.requests[6].model: unexpected model name format\n* BatchEmbedContentsRequest.requests[7].model: unexpected model name format\n* BatchEmbedContentsRequest.requests[8].model: unexpected model name format\n* BatchEmbedContentsRequest.requests[9].model: unexpected model name format\n* BatchEmbedContentsRequest.requests[10].model: unexpected model name format\n* BatchEmbedContentsRequest.requests[11].model: unexpected model name format\n* BatchEmbedContentsRequest.requests[12].model: unexpected model name format\n* BatchEmbedContentsRequest.requests[13].model: unexpected model name format\n* BatchEmbedContentsRequest.requests[14].model: unexpected model name format\n* BatchEmbedContentsRequest.requests[15].model: unexpected model name format\n* BatchEmbedContentsRequest.requests[16].model: unexpected model name format\n* BatchEmbedContentsRequest.requests[17].model: unexpected model name format\n* BatchEmbedContentsRequest.requests[18].model: unexpected model name format\n* BatchEmbedContentsRequest.requests[19].model: unexpected model name format\n* BatchEmbedContentsRequest.requests[20].model: unexpected model name format\n* BatchEmbedContentsRequest.requests[21].model: unexpected model name format\n* BatchEmbedContentsRequest.requests[22].model: unexpected model name format\n* BatchEmbedContentsRequest.requests[23].model: unexpected model name format\n* BatchEmbedContentsRequest.requests[24].model: unexpected model name format\n* BatchEmbedContentsRequest.requests[25].model: unexpected model name format\n* BatchEmbedContentsRequest.requests[26].model: unexpected model name format\n* BatchEmbedContentsRequest.requests[27].model: unexpected model name format\n* BatchEmbedContentsRequest.requests[28].model: unexpected model name format\n* BatchEmbedContentsRequest.requests[29].model: unexpected model name format\n* BatchEmbedContentsRequest.requests[30].model: unexpected model name format\n* BatchEmbedContentsRequest.requests[31].model: unexpected model name format\n* BatchEmbedContentsRequest.requests[32].model: unexpected model name format\n* BatchEmbedContentsRequest.requests[33].model: unexpected model name format\n* BatchEmbedContentsRequest.requests[34].model: unexpected model name format\n* BatchEmbedContentsRequest.requests[35].model: unexpected model name format\n* BatchEmbedContentsRequest.requests[36].model: unexpected model name format\n* BatchEmbedContentsRequest.requests[37].model: unexpected model name format\n",
      "\nThe above exception was the direct cause of the following exception:\n",
      "\u001B[1;31mGoogleGenerativeAIError\u001B[0m                   Traceback (most recent call last)",
      "Cell \u001B[1;32mIn[40], line 4\u001B[0m\n\u001B[0;32m      1\u001B[0m index \u001B[38;5;241m=\u001B[39m VectorstoreIndexCreator(\n\u001B[0;32m      2\u001B[0m     vectorstore_cls\u001B[38;5;241m=\u001B[39mDocArrayInMemorySearch,\n\u001B[0;32m      3\u001B[0m     embedding\u001B[38;5;241m=\u001B[39membeddings,\n\u001B[1;32m----> 4\u001B[0m )\u001B[38;5;241m.\u001B[39mfrom_loaders([loader])\n",
      "File \u001B[1;32m~\\anaconda3\\Lib\\site-packages\\langchain\\indexes\\vectorstore.py:206\u001B[0m, in \u001B[0;36mVectorstoreIndexCreator.from_loaders\u001B[1;34m(self, loaders)\u001B[0m\n\u001B[0;32m    204\u001B[0m \u001B[38;5;28;01mfor\u001B[39;00m loader \u001B[38;5;129;01min\u001B[39;00m loaders:\n\u001B[0;32m    205\u001B[0m     docs\u001B[38;5;241m.\u001B[39mextend(loader\u001B[38;5;241m.\u001B[39mload())\n\u001B[1;32m--> 206\u001B[0m \u001B[38;5;28;01mreturn\u001B[39;00m \u001B[38;5;28mself\u001B[39m\u001B[38;5;241m.\u001B[39mfrom_documents(docs)\n",
      "File \u001B[1;32m~\\anaconda3\\Lib\\site-packages\\langchain\\indexes\\vectorstore.py:233\u001B[0m, in \u001B[0;36mVectorstoreIndexCreator.from_documents\u001B[1;34m(self, documents)\u001B[0m\n\u001B[0;32m    224\u001B[0m \u001B[38;5;250m\u001B[39m\u001B[38;5;124;03m\"\"\"Create a vectorstore index from a list of documents.\u001B[39;00m\n\u001B[0;32m    225\u001B[0m \n\u001B[0;32m    226\u001B[0m \u001B[38;5;124;03mArgs:\u001B[39;00m\n\u001B[1;32m   (...)\u001B[0m\n\u001B[0;32m    230\u001B[0m \u001B[38;5;124;03m    A `VectorStoreIndexWrapper` containing the constructed vectorstore.\u001B[39;00m\n\u001B[0;32m    231\u001B[0m \u001B[38;5;124;03m\"\"\"\u001B[39;00m\n\u001B[0;32m    232\u001B[0m sub_docs \u001B[38;5;241m=\u001B[39m \u001B[38;5;28mself\u001B[39m\u001B[38;5;241m.\u001B[39mtext_splitter\u001B[38;5;241m.\u001B[39msplit_documents(documents)\n\u001B[1;32m--> 233\u001B[0m vectorstore \u001B[38;5;241m=\u001B[39m \u001B[38;5;28mself\u001B[39m\u001B[38;5;241m.\u001B[39mvectorstore_cls\u001B[38;5;241m.\u001B[39mfrom_documents(\n\u001B[0;32m    234\u001B[0m     sub_docs, \u001B[38;5;28mself\u001B[39m\u001B[38;5;241m.\u001B[39membedding, \u001B[38;5;241m*\u001B[39m\u001B[38;5;241m*\u001B[39m\u001B[38;5;28mself\u001B[39m\u001B[38;5;241m.\u001B[39mvectorstore_kwargs\n\u001B[0;32m    235\u001B[0m )\n\u001B[0;32m    236\u001B[0m \u001B[38;5;28;01mreturn\u001B[39;00m VectorStoreIndexWrapper(vectorstore\u001B[38;5;241m=\u001B[39mvectorstore)\n",
      "File \u001B[1;32m~\\anaconda3\\Lib\\site-packages\\langchain_core\\vectorstores\\base.py:843\u001B[0m, in \u001B[0;36mVectorStore.from_documents\u001B[1;34m(cls, documents, embedding, **kwargs)\u001B[0m\n\u001B[0;32m    840\u001B[0m     \u001B[38;5;28;01mif\u001B[39;00m \u001B[38;5;28many\u001B[39m(ids):\n\u001B[0;32m    841\u001B[0m         kwargs[\u001B[38;5;124m\"\u001B[39m\u001B[38;5;124mids\u001B[39m\u001B[38;5;124m\"\u001B[39m] \u001B[38;5;241m=\u001B[39m ids\n\u001B[1;32m--> 843\u001B[0m \u001B[38;5;28;01mreturn\u001B[39;00m \u001B[38;5;28mcls\u001B[39m\u001B[38;5;241m.\u001B[39mfrom_texts(texts, embedding, metadatas\u001B[38;5;241m=\u001B[39mmetadatas, \u001B[38;5;241m*\u001B[39m\u001B[38;5;241m*\u001B[39mkwargs)\n",
      "File \u001B[1;32m~\\anaconda3\\Lib\\site-packages\\langchain_community\\vectorstores\\docarray\\in_memory.py:68\u001B[0m, in \u001B[0;36mDocArrayInMemorySearch.from_texts\u001B[1;34m(cls, texts, embedding, metadatas, **kwargs)\u001B[0m\n\u001B[0;32m     55\u001B[0m \u001B[38;5;250m\u001B[39m\u001B[38;5;124;03m\"\"\"Create an DocArrayInMemorySearch store and insert data.\u001B[39;00m\n\u001B[0;32m     56\u001B[0m \n\u001B[0;32m     57\u001B[0m \u001B[38;5;124;03mArgs:\u001B[39;00m\n\u001B[1;32m   (...)\u001B[0m\n\u001B[0;32m     65\u001B[0m \u001B[38;5;124;03m    DocArrayInMemorySearch Vector Store\u001B[39;00m\n\u001B[0;32m     66\u001B[0m \u001B[38;5;124;03m\"\"\"\u001B[39;00m\n\u001B[0;32m     67\u001B[0m store \u001B[38;5;241m=\u001B[39m \u001B[38;5;28mcls\u001B[39m\u001B[38;5;241m.\u001B[39mfrom_params(embedding, \u001B[38;5;241m*\u001B[39m\u001B[38;5;241m*\u001B[39mkwargs)\n\u001B[1;32m---> 68\u001B[0m store\u001B[38;5;241m.\u001B[39madd_texts(texts\u001B[38;5;241m=\u001B[39mtexts, metadatas\u001B[38;5;241m=\u001B[39mmetadatas)\n\u001B[0;32m     69\u001B[0m \u001B[38;5;28;01mreturn\u001B[39;00m store\n",
      "File \u001B[1;32m~\\anaconda3\\Lib\\site-packages\\langchain_community\\vectorstores\\docarray\\base.py:82\u001B[0m, in \u001B[0;36mDocArrayIndex.add_texts\u001B[1;34m(self, texts, metadatas, **kwargs)\u001B[0m\n\u001B[0;32m     72\u001B[0m \u001B[38;5;250m\u001B[39m\u001B[38;5;124;03m\"\"\"Embed texts and add to the vector store.\u001B[39;00m\n\u001B[0;32m     73\u001B[0m \n\u001B[0;32m     74\u001B[0m \u001B[38;5;124;03mArgs:\u001B[39;00m\n\u001B[1;32m   (...)\u001B[0m\n\u001B[0;32m     79\u001B[0m \u001B[38;5;124;03m    List of ids from adding the texts into the vectorstore.\u001B[39;00m\n\u001B[0;32m     80\u001B[0m \u001B[38;5;124;03m\"\"\"\u001B[39;00m\n\u001B[0;32m     81\u001B[0m ids: List[\u001B[38;5;28mstr\u001B[39m] \u001B[38;5;241m=\u001B[39m []\n\u001B[1;32m---> 82\u001B[0m embeddings \u001B[38;5;241m=\u001B[39m \u001B[38;5;28mself\u001B[39m\u001B[38;5;241m.\u001B[39membedding\u001B[38;5;241m.\u001B[39membed_documents(\u001B[38;5;28mlist\u001B[39m(texts))\n\u001B[0;32m     83\u001B[0m \u001B[38;5;28;01mfor\u001B[39;00m i, (t, e) \u001B[38;5;129;01min\u001B[39;00m \u001B[38;5;28menumerate\u001B[39m(\u001B[38;5;28mzip\u001B[39m(texts, embeddings)):\n\u001B[0;32m     84\u001B[0m     m \u001B[38;5;241m=\u001B[39m metadatas[i] \u001B[38;5;28;01mif\u001B[39;00m metadatas \u001B[38;5;28;01melse\u001B[39;00m {}\n",
      "File \u001B[1;32m~\\anaconda3\\Lib\\site-packages\\langchain_google_genai\\embeddings.py:231\u001B[0m, in \u001B[0;36mGoogleGenerativeAIEmbeddings.embed_documents\u001B[1;34m(self, texts, batch_size, task_type, titles, output_dimensionality)\u001B[0m\n\u001B[0;32m    227\u001B[0m         result \u001B[38;5;241m=\u001B[39m \u001B[38;5;28mself\u001B[39m\u001B[38;5;241m.\u001B[39mclient\u001B[38;5;241m.\u001B[39mbatch_embed_contents(\n\u001B[0;32m    228\u001B[0m             BatchEmbedContentsRequest(requests\u001B[38;5;241m=\u001B[39mrequests, model\u001B[38;5;241m=\u001B[39m\u001B[38;5;28mself\u001B[39m\u001B[38;5;241m.\u001B[39mmodel)\n\u001B[0;32m    229\u001B[0m         )\n\u001B[0;32m    230\u001B[0m     \u001B[38;5;28;01mexcept\u001B[39;00m \u001B[38;5;167;01mException\u001B[39;00m \u001B[38;5;28;01mas\u001B[39;00m e:\n\u001B[1;32m--> 231\u001B[0m         \u001B[38;5;28;01mraise\u001B[39;00m GoogleGenerativeAIError(\u001B[38;5;124mf\u001B[39m\u001B[38;5;124m\"\u001B[39m\u001B[38;5;124mError embedding content: \u001B[39m\u001B[38;5;132;01m{\u001B[39;00me\u001B[38;5;132;01m}\u001B[39;00m\u001B[38;5;124m\"\u001B[39m) \u001B[38;5;28;01mfrom\u001B[39;00m \u001B[38;5;21;01me\u001B[39;00m\n\u001B[0;32m    232\u001B[0m     embeddings\u001B[38;5;241m.\u001B[39mextend([\u001B[38;5;28mlist\u001B[39m(e\u001B[38;5;241m.\u001B[39mvalues) \u001B[38;5;28;01mfor\u001B[39;00m e \u001B[38;5;129;01min\u001B[39;00m result\u001B[38;5;241m.\u001B[39membeddings])\n\u001B[0;32m    233\u001B[0m \u001B[38;5;28;01mreturn\u001B[39;00m embeddings\n",
      "\u001B[1;31mGoogleGenerativeAIError\u001B[0m: Error embedding content: 400 * BatchEmbedContentsRequest.model: unexpected model name format\n* BatchEmbedContentsRequest.requests[0].model: unexpected model name format\n* BatchEmbedContentsRequest.requests[1].model: unexpected model name format\n* BatchEmbedContentsRequest.requests[2].model: unexpected model name format\n* BatchEmbedContentsRequest.requests[3].model: unexpected model name format\n* BatchEmbedContentsRequest.requests[4].model: unexpected model name format\n* BatchEmbedContentsRequest.requests[5].model: unexpected model name format\n* BatchEmbedContentsRequest.requests[6].model: unexpected model name format\n* BatchEmbedContentsRequest.requests[7].model: unexpected model name format\n* BatchEmbedContentsRequest.requests[8].model: unexpected model name format\n* BatchEmbedContentsRequest.requests[9].model: unexpected model name format\n* BatchEmbedContentsRequest.requests[10].model: unexpected model name format\n* BatchEmbedContentsRequest.requests[11].model: unexpected model name format\n* BatchEmbedContentsRequest.requests[12].model: unexpected model name format\n* BatchEmbedContentsRequest.requests[13].model: unexpected model name format\n* BatchEmbedContentsRequest.requests[14].model: unexpected model name format\n* BatchEmbedContentsRequest.requests[15].model: unexpected model name format\n* BatchEmbedContentsRequest.requests[16].model: unexpected model name format\n* BatchEmbedContentsRequest.requests[17].model: unexpected model name format\n* BatchEmbedContentsRequest.requests[18].model: unexpected model name format\n* BatchEmbedContentsRequest.requests[19].model: unexpected model name format\n* BatchEmbedContentsRequest.requests[20].model: unexpected model name format\n* BatchEmbedContentsRequest.requests[21].model: unexpected model name format\n* BatchEmbedContentsRequest.requests[22].model: unexpected model name format\n* BatchEmbedContentsRequest.requests[23].model: unexpected model name format\n* BatchEmbedContentsRequest.requests[24].model: unexpected model name format\n* BatchEmbedContentsRequest.requests[25].model: unexpected model name format\n* BatchEmbedContentsRequest.requests[26].model: unexpected model name format\n* BatchEmbedContentsRequest.requests[27].model: unexpected model name format\n* BatchEmbedContentsRequest.requests[28].model: unexpected model name format\n* BatchEmbedContentsRequest.requests[29].model: unexpected model name format\n* BatchEmbedContentsRequest.requests[30].model: unexpected model name format\n* BatchEmbedContentsRequest.requests[31].model: unexpected model name format\n* BatchEmbedContentsRequest.requests[32].model: unexpected model name format\n* BatchEmbedContentsRequest.requests[33].model: unexpected model name format\n* BatchEmbedContentsRequest.requests[34].model: unexpected model name format\n* BatchEmbedContentsRequest.requests[35].model: unexpected model name format\n* BatchEmbedContentsRequest.requests[36].model: unexpected model name format\n* BatchEmbedContentsRequest.requests[37].model: unexpected model name format\n"
     ]
    }
   ],
   "execution_count": 40
  },
  {
   "metadata": {},
   "cell_type": "code",
   "outputs": [],
   "execution_count": null,
   "source": "",
   "id": "f4d3f7d12d5c7eb3"
  }
 ],
 "metadata": {
  "kernelspec": {
   "display_name": "Python 3",
   "language": "python",
   "name": "python3"
  },
  "language_info": {
   "codemirror_mode": {
    "name": "ipython",
    "version": 2
   },
   "file_extension": ".py",
   "mimetype": "text/x-python",
   "name": "python",
   "nbconvert_exporter": "python",
   "pygments_lexer": "ipython2",
   "version": "2.7.6"
  }
 },
 "nbformat": 4,
 "nbformat_minor": 5
}
