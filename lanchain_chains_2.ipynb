{
 "cells": [
  {
   "cell_type": "code",
   "id": "initial_id",
   "metadata": {
    "collapsed": true,
    "ExecuteTime": {
     "end_time": "2025-02-23T05:05:03.312309Z",
     "start_time": "2025-02-23T05:05:03.300826Z"
    }
   },
   "source": [
    "import warnings\n",
    "warnings.filterwarnings('ignore')"
   ],
   "outputs": [],
   "execution_count": 8
  },
  {
   "metadata": {
    "ExecuteTime": {
     "end_time": "2025-02-23T05:05:04.999451Z",
     "start_time": "2025-02-23T05:05:04.988916Z"
    }
   },
   "cell_type": "code",
   "source": [
    "import os\n",
    "from dotenv import load_dotenv,find_dotenv\n",
    "import pandas as pd"
   ],
   "id": "1e1dbd86f52d0c81",
   "outputs": [],
   "execution_count": 9
  },
  {
   "metadata": {
    "ExecuteTime": {
     "end_time": "2025-02-23T05:05:05.867778Z",
     "start_time": "2025-02-23T05:05:05.850562Z"
    }
   },
   "cell_type": "code",
   "source": [
    "from langchain_google_genai import ChatGoogleGenerativeAI\n",
    "from langchain.prompts import ChatPromptTemplate\n",
    "from langchain.schema.runnable import RunnableSequence"
   ],
   "id": "e10dab2200b78336",
   "outputs": [],
   "execution_count": 10
  },
  {
   "metadata": {
    "ExecuteTime": {
     "end_time": "2025-02-23T05:05:06.572997Z",
     "start_time": "2025-02-23T05:05:06.563447Z"
    }
   },
   "cell_type": "code",
   "source": "_=load_dotenv(find_dotenv())",
   "id": "1010f05a2c7046f2",
   "outputs": [],
   "execution_count": 11
  },
  {
   "metadata": {
    "ExecuteTime": {
     "end_time": "2025-02-23T05:05:07.534968Z",
     "start_time": "2025-02-23T05:05:07.526244Z"
    }
   },
   "cell_type": "code",
   "source": "llm_model=\"gemini-1.5-flash\"",
   "id": "66c5c6e5f5ed2091",
   "outputs": [],
   "execution_count": 12
  },
  {
   "metadata": {
    "ExecuteTime": {
     "end_time": "2025-02-23T05:05:08.478968Z",
     "start_time": "2025-02-23T05:05:08.343179Z"
    }
   },
   "cell_type": "code",
   "source": "df=pd.read_csv('data.csv')",
   "id": "4f33c14160fd7663",
   "outputs": [],
   "execution_count": 13
  },
  {
   "metadata": {
    "ExecuteTime": {
     "end_time": "2025-02-23T05:05:19.743807Z",
     "start_time": "2025-02-23T05:05:19.070611Z"
    }
   },
   "cell_type": "code",
   "source": "llm=ChatGoogleGenerativeAI(tempurature=0.9,model=llm_model)",
   "id": "1c9fb24bf98f70",
   "outputs": [],
   "execution_count": 14
  },
  {
   "metadata": {
    "ExecuteTime": {
     "end_time": "2025-02-23T05:06:33.940427Z",
     "start_time": "2025-02-23T05:06:33.903880Z"
    }
   },
   "cell_type": "code",
   "source": [
    "first_prompt=ChatPromptTemplate.from_template(\n",
    "    \"What is the best name to describe a company that makes {product}\"\n",
    ")"
   ],
   "id": "7edd0af7fc196fa8",
   "outputs": [],
   "execution_count": 15
  },
  {
   "metadata": {
    "ExecuteTime": {
     "end_time": "2025-02-23T05:10:57.906008Z",
     "start_time": "2025-02-23T05:10:57.895726Z"
    }
   },
   "cell_type": "code",
   "source": [
    "second_prompt=ChatPromptTemplate.from_template(\n",
    "    \"Write a 20-word description for the following compant: {company_name}\"\n",
    ")"
   ],
   "id": "d5cb31cab268caa",
   "outputs": [],
   "execution_count": 16
  },
  {
   "metadata": {
    "ExecuteTime": {
     "end_time": "2025-02-23T05:11:46.722338Z",
     "start_time": "2025-02-23T05:11:46.701528Z"
    }
   },
   "cell_type": "code",
   "source": [
    "chain_one=first_prompt | llm\n",
    "chain_two=second_prompt | llm"
   ],
   "id": "813b4ebc7ee9f54",
   "outputs": [],
   "execution_count": 17
  },
  {
   "metadata": {
    "ExecuteTime": {
     "end_time": "2025-02-23T05:13:22.743215Z",
     "start_time": "2025-02-23T05:13:22.733124Z"
    }
   },
   "cell_type": "code",
   "source": "overall_simple_chain=RunnableSequence(chain_one | chain_two)",
   "id": "e8edd192899b4ad9",
   "outputs": [],
   "execution_count": 18
  },
  {
   "metadata": {
    "ExecuteTime": {
     "end_time": "2025-02-23T05:13:42.618517Z",
     "start_time": "2025-02-23T05:13:42.613992Z"
    }
   },
   "cell_type": "code",
   "source": "product=\"Queen Size Sheet Set\"",
   "id": "1a5c789e17a8ed5a",
   "outputs": [],
   "execution_count": 19
  },
  {
   "metadata": {
    "ExecuteTime": {
     "end_time": "2025-02-23T05:14:43.841544Z",
     "start_time": "2025-02-23T05:14:38.591010Z"
    }
   },
   "cell_type": "code",
   "source": "response=overall_simple_chain.invoke({\"product\":product})",
   "id": "60b92626cb816eca",
   "outputs": [],
   "execution_count": 20
  },
  {
   "metadata": {
    "ExecuteTime": {
     "end_time": "2025-02-23T05:14:55.937839Z",
     "start_time": "2025-02-23T05:14:55.925407Z"
    }
   },
   "cell_type": "code",
   "source": "print(response)",
   "id": "314b855a6569388a",
   "outputs": [
    {
     "name": "stdout",
     "output_type": "stream",
     "text": [
      "content='Luxury bedding brand offering superior comfort and quality.  Names evoke serenity, relaxation, and regal elegance.  Perfect for discerning customers.' additional_kwargs={} response_metadata={'prompt_feedback': {'block_reason': 0, 'safety_ratings': []}, 'finish_reason': 'STOP', 'safety_ratings': []} id='run-a4783d06-0678-4dbe-b85d-33b3ddfadc7b-0' usage_metadata={'input_tokens': 471, 'output_tokens': 27, 'total_tokens': 498, 'input_token_details': {'cache_read': 0}}\n"
     ]
    }
   ],
   "execution_count": 21
  },
  {
   "metadata": {
    "ExecuteTime": {
     "end_time": "2025-02-23T05:33:56.120941Z",
     "start_time": "2025-02-23T05:33:56.086792Z"
    }
   },
   "cell_type": "code",
   "source": [
    "from langchain.chains.router import MultiPromptChain\n",
    "from langchain.chains import SequentialChain,LLMChain"
   ],
   "id": "3260f5de958faddc",
   "outputs": [],
   "execution_count": 26
  },
  {
   "metadata": {
    "ExecuteTime": {
     "end_time": "2025-02-23T05:33:57.032669Z",
     "start_time": "2025-02-23T05:33:57.025533Z"
    }
   },
   "cell_type": "code",
   "source": "from langchain.chains.router.llm_router import LLMRouterChain,RouterOutputParser",
   "id": "ef2d91ae58126d08",
   "outputs": [],
   "execution_count": 27
  },
  {
   "metadata": {
    "ExecuteTime": {
     "end_time": "2025-02-23T05:33:58.032006Z",
     "start_time": "2025-02-23T05:33:58.024941Z"
    }
   },
   "cell_type": "code",
   "source": [
    "first_prompt=ChatPromptTemplate.from_template(\n",
    "    \"Translate the following review to English:\\n\\n{Review}\"\n",
    ")"
   ],
   "id": "844fa1c83996618b",
   "outputs": [],
   "execution_count": 28
  },
  {
   "metadata": {
    "ExecuteTime": {
     "end_time": "2025-02-23T05:33:59.157891Z",
     "start_time": "2025-02-23T05:33:59.149844Z"
    }
   },
   "cell_type": "code",
   "source": "chain_one=LLMChain(llm=llm,prompt=first_prompt,output_key=\"English_Review\")",
   "id": "f62ea3c14c2ba15f",
   "outputs": [],
   "execution_count": 29
  },
  {
   "metadata": {
    "ExecuteTime": {
     "end_time": "2025-02-23T05:36:02.908437Z",
     "start_time": "2025-02-23T05:36:02.901275Z"
    }
   },
   "cell_type": "code",
   "source": [
    "second_prompt=ChatPromptTemplate.from_template(\n",
    "    \"Can you summarize the following review in 1 sentence:\\n\\n{English_Review}\"\n",
    ")"
   ],
   "id": "da8efe9ec954ad35",
   "outputs": [],
   "execution_count": 30
  },
  {
   "metadata": {
    "ExecuteTime": {
     "end_time": "2025-02-23T05:36:56.094888Z",
     "start_time": "2025-02-23T05:36:56.087662Z"
    }
   },
   "cell_type": "code",
   "source": "chain_two=LLMChain(llm=llm,prompt=second_prompt,output_key=\"summary\")",
   "id": "51d5d71adda55271",
   "outputs": [],
   "execution_count": 31
  },
  {
   "metadata": {
    "ExecuteTime": {
     "end_time": "2025-02-23T05:38:07.569784Z",
     "start_time": "2025-02-23T05:38:07.564317Z"
    }
   },
   "cell_type": "code",
   "source": [
    "third_prompt=ChatPromptTemplate.from_template(\n",
    "    \"What language is the following review:\\n\\n{Review}\"\n",
    ")"
   ],
   "id": "603335568557d8ff",
   "outputs": [],
   "execution_count": 32
  },
  {
   "metadata": {
    "ExecuteTime": {
     "end_time": "2025-02-23T05:39:02.725952Z",
     "start_time": "2025-02-23T05:39:02.718884Z"
    }
   },
   "cell_type": "code",
   "source": "chain_three=LLMChain(llm=llm,prompt=third_prompt,output_key=\"language\")",
   "id": "6287bdf84d098754",
   "outputs": [],
   "execution_count": 34
  },
  {
   "metadata": {
    "ExecuteTime": {
     "end_time": "2025-02-23T05:43:16.212630Z",
     "start_time": "2025-02-23T05:43:16.204758Z"
    }
   },
   "cell_type": "code",
   "source": [
    "fourth_prompt=ChatPromptTemplate.from_template(\n",
    "    \"Write a follow-up response to the folllowing summary in the specified language:\\n\\Summary: {summary}\\n\\nLanguage: {language}\"\n",
    ")"
   ],
   "id": "f7290d0638182b35",
   "outputs": [],
   "execution_count": 35
  },
  {
   "metadata": {
    "ExecuteTime": {
     "end_time": "2025-02-23T05:51:18.050522Z",
     "start_time": "2025-02-23T05:51:18.044523Z"
    }
   },
   "cell_type": "code",
   "source": "chain_four=LLMChain(llm=llm,prompt=fourth_prompt,output_key=\"followup_message\")",
   "id": "864c46e2c659e72d",
   "outputs": [],
   "execution_count": 36
  },
  {
   "metadata": {
    "ExecuteTime": {
     "end_time": "2025-02-23T05:58:27.385567Z",
     "start_time": "2025-02-23T05:58:27.377591Z"
    }
   },
   "cell_type": "code",
   "source": [
    "overall_chain=SequentialChain(\n",
    "    chains=[chain_one,chain_two,chain_three,chain_four],\n",
    "    input_variables=[\"Review\"],\n",
    "    output_variables=[\"English_Review\",\"summary\",\"followup_message\"],\n",
    "    verbose=True\n",
    ")"
   ],
   "id": "a99e74f59656471b",
   "outputs": [],
   "execution_count": 41
  },
  {
   "metadata": {
    "ExecuteTime": {
     "end_time": "2025-02-23T05:58:28.790484Z",
     "start_time": "2025-02-23T05:58:28.784094Z"
    }
   },
   "cell_type": "code",
   "source": "df=pd.DataFrame({\"Review\":[\"Esta es una reseña de ejemplo.\", \"Ceci est un avis d'exemple.\"]})",
   "id": "2ec2ec46b2b0893f",
   "outputs": [],
   "execution_count": 42
  },
  {
   "metadata": {
    "ExecuteTime": {
     "end_time": "2025-02-23T05:58:33.890140Z",
     "start_time": "2025-02-23T05:58:29.759214Z"
    }
   },
   "cell_type": "code",
   "source": [
    "review=df.Review[0]\n",
    "overall_chain(review)"
   ],
   "id": "9d9feb2a08bf0bd7",
   "outputs": [
    {
     "name": "stdout",
     "output_type": "stream",
     "text": [
      "\n",
      "\n",
      "\u001B[1m> Entering new SequentialChain chain...\u001B[0m\n",
      "\n",
      "\u001B[1m> Finished chain.\u001B[0m\n"
     ]
    },
    {
     "data": {
      "text/plain": [
       "{'Review': 'Esta es una reseña de ejemplo.',\n",
       " 'English_Review': 'This is an example review.',\n",
       " 'summary': 'This is a placeholder review with no content to summarize.',\n",
       " 'followup_message': 'Pues entonces, ¡no hay nada que comentar!  No hay resumen que seguir.  ¿Deberíamos buscar una reseña real para poder discutirla?'}"
      ]
     },
     "execution_count": 43,
     "metadata": {},
     "output_type": "execute_result"
    }
   ],
   "execution_count": 43
  },
  {
   "metadata": {},
   "cell_type": "code",
   "source": [
    "physics_template = \"\"\"You are a very smart physics professor. \\\n",
    "You are great at answering questions about physics in a concise\\\n",
    "and easy to understand manner. \\\n",
    "When you don't know the answer to a question you admit\\\n",
    "that you don't know.\n",
    "\n",
    "Here is a question:\n",
    "{input}\"\"\"\n",
    "\n",
    "\n",
    "math_template = \"\"\"You are a very good mathematician. \\\n",
    "You are great at answering math questions. \\\n",
    "You are so good because you are able to break down \\\n",
    "hard problems into their component parts, \n",
    "answer the component parts, and then put them together\\\n",
    "to answer the broader question.\n",
    "\n",
    "Here is a question:\n",
    "{input}\"\"\"\n",
    "\n",
    "history_template = \"\"\"You are a very good historian. \\\n",
    "You have an excellent knowledge of and understanding of people,\\\n",
    "events and contexts from a range of historical periods. \\\n",
    "You have the ability to think, reflect, debate, discuss and \\\n",
    "evaluate the past. You have a respect for historical evidence\\\n",
    "and the ability to make use of it to support your explanations \\\n",
    "and judgements.\n",
    "\n",
    "Here is a question:\n",
    "{input}\"\"\"\n",
    "\n",
    "\n",
    "computerscience_template = \"\"\" You are a successful computer scientist.\\\n",
    "You have a passion for creativity, collaboration,\\\n",
    "forward-thinking, confidence, strong problem-solving capabilities,\\\n",
    "understanding of theories and algorithms, and excellent communication \\\n",
    "skills. You are great at answering coding questions. \\\n",
    "You are so good because you know how to solve a problem by \\\n",
    "describing the solution in imperative steps \\\n",
    "that a machine can easily interpret and you know how to \\\n",
    "choose a solution that has a good balance between \\\n",
    "time complexity and space complexity. \n",
    "\n",
    "Here is a question:\n",
    "{input}\"\"\""
   ],
   "id": "97bf0747119ecf18",
   "outputs": [],
   "execution_count": 45
  },
  {
   "metadata": {
    "ExecuteTime": {
     "end_time": "2025-02-23T06:55:37.346629Z",
     "start_time": "2025-02-23T06:55:37.327726Z"
    }
   },
   "cell_type": "code",
   "source": [
    " prompt_infos=[\n",
    "    {\n",
    "        \"name\":\"physics\",\n",
    "        \"description\":\"Good for answering questions about physics.\",\n",
    "        \"prompt_template\":physics_template\n",
    "    },\n",
    "    {\n",
    "        \"name\":\"math\",\n",
    "        \"description\":\"Good for answering math questions.\",\n",
    "        \"prompt_template\":math_template\n",
    "    },\n",
    "    {\n",
    "        \"name\":\"history\",\n",
    "        \"description\":\"Good for answering questions about history.\",\n",
    "        \"prompt_template\":history_template\n",
    "    },\n",
    "    {\n",
    "        \"name\":\"computerscience\",\n",
    "        \"description\":\"Good for answering questions about computer science.\",\n",
    "        \"prompt_template\":computerscience_template\n",
    "    }\n",
    "]"
   ],
   "id": "2cb968f0e34f95da",
   "outputs": [],
   "execution_count": 51
  },
  {
   "metadata": {
    "ExecuteTime": {
     "end_time": "2025-02-23T06:55:38.125238Z",
     "start_time": "2025-02-23T06:55:38.115239Z"
    }
   },
   "cell_type": "code",
   "source": [
    "from langchain.chains.router import MultiPromptChain\n",
    "from langchain.chains.router.llm_router import LLMRouterChain,RouterOutputParser\n",
    "from langchain.prompts import PromptTemplate"
   ],
   "id": "ee58e0ad28b3bb61",
   "outputs": [],
   "execution_count": 52
  },
  {
   "metadata": {
    "ExecuteTime": {
     "end_time": "2025-02-23T06:55:39.402138Z",
     "start_time": "2025-02-23T06:55:39.370682Z"
    }
   },
   "cell_type": "code",
   "source": "llm=ChatGoogleGenerativeAI(temperature=0.1,model=llm_model)",
   "id": "6fa16da941f7f307",
   "outputs": [],
   "execution_count": 53
  },
  {
   "metadata": {
    "ExecuteTime": {
     "end_time": "2025-02-23T07:02:09.181227Z",
     "start_time": "2025-02-23T07:02:09.130043Z"
    }
   },
   "cell_type": "code",
   "source": [
    "destination_chains={}\n",
    "for p_info in prompt_infos:\n",
    "    name=p_info[\"name\"]\n",
    "    prompt_template=p_info[\"prompt_template\"]\n",
    "    prompt=ChatPromptTemplate.from_template(template=prompt_template)\n",
    "    chain=LLMChain(llm=llm,prompt=prompt)\n",
    "    destination_chains[name]=chain\n",
    "\n",
    "destinations=[f\"{p['name']}:{p['description']}\" for p in prompt_infos]\n",
    "destinations_str=\"\\n\".join(destinations)"
   ],
   "id": "15420fa666862f64",
   "outputs": [],
   "execution_count": 55
  },
  {
   "metadata": {
    "ExecuteTime": {
     "end_time": "2025-02-23T07:05:33.317822Z",
     "start_time": "2025-02-23T07:05:33.304419Z"
    }
   },
   "cell_type": "code",
   "source": [
    "default_prompt=ChatPromptTemplate.from_template(\"{input}\")\n",
    "default_chain=LLMChain(llm=llm,prompt=default_prompt)"
   ],
   "id": "adbd508df4fa63b8",
   "outputs": [],
   "execution_count": 56
  },
  {
   "metadata": {
    "ExecuteTime": {
     "end_time": "2025-02-23T07:05:55.062525Z",
     "start_time": "2025-02-23T07:05:55.043120Z"
    }
   },
   "cell_type": "code",
   "source": [
    "MULTI_PROMPT_ROUTER_TEMPLATE = \"\"\"Given a raw text input to a \\\n",
    "language model select the model prompt best suited for the input. \\\n",
    "You will be given the names of the available prompts and a \\\n",
    "description of what the prompt is best suited for. \\\n",
    "You may also revise the original input if you think that revising\\\n",
    "it will ultimately lead to a better response from the language model.\n",
    "\n",
    "<< FORMATTING >>\n",
    "Return a markdown code snippet with a JSON object formatted to look like:\n",
    "```json\n",
    "{{{{\n",
    "    \"destination\": string \\ \"DEFAULT\" or name of the prompt to use in {destinations}\n",
    "    \"next_inputs\": string \\ a potentially modified version of the original input\n",
    "}}}}\n",
    "```\n",
    "\n",
    "REMEMBER: The value of “destination” MUST match one of \\\n",
    "the candidate prompts listed below.\\\n",
    "If “destination” does not fit any of the specified prompts, set it to “DEFAULT.”\n",
    "REMEMBER: \"next_inputs\" can just be the original input \\\n",
    "if you don't think any modifications are needed.\n",
    "\n",
    "<< CANDIDATE PROMPTS >>\n",
    "{destinations}\n",
    "\n",
    "<< INPUT >>\n",
    "{{input}}\n",
    "\n",
    "<< OUTPUT (remember to include the ```json)>>\"\"\""
   ],
   "id": "e8e013a6137ed291",
   "outputs": [],
   "execution_count": 57
  },
  {
   "metadata": {
    "ExecuteTime": {
     "end_time": "2025-02-23T07:09:49.766034Z",
     "start_time": "2025-02-23T07:09:49.727962Z"
    }
   },
   "cell_type": "code",
   "source": [
    "router_template=MULTI_PROMPT_ROUTER_TEMPLATE.format(\n",
    "    destinations=destinations_str\n",
    ")\n",
    "router_prompt=PromptTemplate(\n",
    "    template=router_template,\n",
    "    input_variables=[\"input\"],\n",
    "    output_parser=RouterOutputParser(),\n",
    ")\n",
    "router_chain=LLMRouterChain.from_llm(llm,router_prompt)"
   ],
   "id": "77739ef82a0332fe",
   "outputs": [],
   "execution_count": 58
  },
  {
   "metadata": {
    "ExecuteTime": {
     "end_time": "2025-02-23T07:11:23.361652Z",
     "start_time": "2025-02-23T07:11:23.334587Z"
    }
   },
   "cell_type": "code",
   "source": [
    "chain=MultiPromptChain(\n",
    "    router_chain=router_chain,\n",
    "    destination_chains=destination_chains,\n",
    "    default_chain=default_chain,\n",
    "    verbose=True\n",
    ")"
   ],
   "id": "9e1bcf9ddb4eab5c",
   "outputs": [],
   "execution_count": 59
  },
  {
   "metadata": {
    "ExecuteTime": {
     "end_time": "2025-02-23T07:11:46.144247Z",
     "start_time": "2025-02-23T07:11:42.905251Z"
    }
   },
   "cell_type": "code",
   "source": "chain.run(\"What is black body radiation?\")",
   "id": "a0163d8e4b6bd210",
   "outputs": [
    {
     "name": "stdout",
     "output_type": "stream",
     "text": [
      "\n",
      "\n",
      "\u001B[1m> Entering new MultiPromptChain chain...\u001B[0m\n",
      "physics: {'input': 'What is black body radiation?'}\n",
      "\u001B[1m> Finished chain.\u001B[0m\n"
     ]
    },
    {
     "data": {
      "text/plain": [
       "\"Black body radiation is the electromagnetic radiation emitted by an idealized object called a black body.  A black body absorbs all electromagnetic radiation incident upon it, regardless of frequency or angle of incidence.  Because it absorbs all radiation, it also emits radiation at all frequencies, with the intensity of that emission at each frequency determined solely by its temperature.  The spectrum of this emitted radiation is described by Planck's law.\""
      ]
     },
     "execution_count": 60,
     "metadata": {},
     "output_type": "execute_result"
    }
   ],
   "execution_count": 60
  },
  {
   "metadata": {
    "ExecuteTime": {
     "end_time": "2025-02-23T07:12:58.164746Z",
     "start_time": "2025-02-23T07:12:54.397659Z"
    }
   },
   "cell_type": "code",
   "source": "chain.run(\"What is AI\")",
   "id": "20dec9dc7d55f371",
   "outputs": [
    {
     "name": "stdout",
     "output_type": "stream",
     "text": [
      "\n",
      "\n",
      "\u001B[1m> Entering new MultiPromptChain chain...\u001B[0m\n",
      "None: {'input': 'What is AI?'}\n",
      "\u001B[1m> Finished chain.\u001B[0m\n"
     ]
    },
    {
     "data": {
      "text/plain": [
       "'Artificial intelligence (AI) is a broad field encompassing the development of computer systems capable of performing tasks that typically require human intelligence.  These tasks include things like:\\n\\n* **Learning:** Acquiring information and rules for using the information.\\n* **Reasoning:** Using rules to reach approximate or definite conclusions.\\n* **Problem-solving:** Finding solutions to complex situations.\\n* **Perception:** Interpreting sensory information like images, sound, and text.\\n* **Language understanding:** Processing and generating human language.\\n\\nAI systems achieve these capabilities through various techniques, including:\\n\\n* **Machine learning (ML):** Algorithms that allow systems to learn from data without explicit programming.  This includes subfields like deep learning (using artificial neural networks with many layers) and reinforcement learning (learning through trial and error).\\n* **Natural language processing (NLP):** Enabling computers to understand, interpret, and generate human language.\\n* **Computer vision:** Enabling computers to \"see\" and interpret images and videos.\\n* **Robotics:** Combining AI with physical robots to perform tasks in the real world.\\n\\nIt\\'s important to note that AI is not a single technology but rather a collection of techniques and approaches.  The term often evokes images of sentient robots, but most current AI systems are focused on specific, narrow tasks (often called \"narrow AI\" or \"weak AI\").  The development of general-purpose AI (\"strong AI\" or \"artificial general intelligence\"), which would possess human-level intelligence across a wide range of tasks, remains a significant challenge.'"
      ]
     },
     "execution_count": 61,
     "metadata": {},
     "output_type": "execute_result"
    }
   ],
   "execution_count": 61
  },
  {
   "metadata": {
    "ExecuteTime": {
     "end_time": "2025-02-23T07:13:09.016488Z",
     "start_time": "2025-02-23T07:13:07.056063Z"
    }
   },
   "cell_type": "code",
   "source": "chain.run(\"What is the capital of France?\")",
   "id": "1074924cb3fae72",
   "outputs": [
    {
     "name": "stdout",
     "output_type": "stream",
     "text": [
      "\n",
      "\n",
      "\u001B[1m> Entering new MultiPromptChain chain...\u001B[0m\n",
      "None: {'input': 'What is the capital of France?'}\n",
      "\u001B[1m> Finished chain.\u001B[0m\n"
     ]
    },
    {
     "data": {
      "text/plain": [
       "'Paris'"
      ]
     },
     "execution_count": 62,
     "metadata": {},
     "output_type": "execute_result"
    }
   ],
   "execution_count": 62
  },
  {
   "metadata": {
    "ExecuteTime": {
     "end_time": "2025-02-23T07:13:24.921887Z",
     "start_time": "2025-02-23T07:13:22.196385Z"
    }
   },
   "cell_type": "code",
   "source": "chain.run(\"What is 1+1\")",
   "id": "bea4386861b529ae",
   "outputs": [
    {
     "name": "stdout",
     "output_type": "stream",
     "text": [
      "\n",
      "\n",
      "\u001B[1m> Entering new MultiPromptChain chain...\u001B[0m\n",
      "math: {'input': 'What is 1+1?'}\n",
      "\u001B[1m> Finished chain.\u001B[0m\n"
     ]
    },
    {
     "data": {
      "text/plain": [
       "'The question is: What is 1 + 1?\\n\\nThis problem can be broken down into the following component parts:\\n\\n* **Understanding the operands:**  We have two operands: 1 and 1.  Both are integers representing the quantity \"one\".\\n\\n* **Understanding the operator:** The operator \"+\" signifies addition, which is the mathematical operation of combining quantities.\\n\\n* **Performing the addition:**  Combining the quantity \"one\" with the quantity \"one\" results in the quantity \"two\".\\n\\nTherefore, the answer to the broader question, 1 + 1, is $\\\\boxed{2}$.'"
      ]
     },
     "execution_count": 63,
     "metadata": {},
     "output_type": "execute_result"
    }
   ],
   "execution_count": 63
  },
  {
   "metadata": {
    "ExecuteTime": {
     "end_time": "2025-02-23T07:13:52.079328Z",
     "start_time": "2025-02-23T07:13:46.478959Z"
    }
   },
   "cell_type": "code",
   "source": "chain.run(\"What is operating system?\")",
   "id": "2d9cd9f6d0551d91",
   "outputs": [
    {
     "name": "stdout",
     "output_type": "stream",
     "text": [
      "\n",
      "\n",
      "\u001B[1m> Entering new MultiPromptChain chain...\u001B[0m\n",
      "computerscience: {'input': 'What is an operating system?'}\n",
      "\u001B[1m> Finished chain.\u001B[0m\n"
     ]
    },
    {
     "data": {
      "text/plain": [
       "\"An operating system (OS) is a complex piece of software that acts as an intermediary between a computer's hardware and the applications you use.  It manages and controls all the hardware and software resources of a computer system.  Think of it as the conductor of an orchestra, ensuring all the different instruments (hardware components) play together harmoniously to produce the desired output (running applications).\\n\\nHere's a breakdown of its key functions, described in imperative steps a machine could interpret (though a real OS is far more intricate):\\n\\n1. **Boot Process:**  Upon power-on, the OS initiates a boot sequence. This involves:\\n    1.1. **Power-On Self Test (POST):**  Checking hardware components for functionality.\\n    1.2. **BIOS/UEFI Initialization:** Loading the basic input/output system (BIOS) or Unified Extensible Firmware Interface (UEFI), which initializes hardware and loads the boot loader.\\n    1.3. **Boot Loader Execution:** Loading the OS kernel into memory.\\n    1.4. **Kernel Initialization:** The kernel starts, initializing essential system services.\\n\\n2. **Resource Management:** The OS manages all system resources, including:\\n    2.1. **Memory Management:** Allocating and deallocating memory to processes, preventing conflicts and ensuring efficient use.  This often involves techniques like paging and virtual memory.\\n    2.2. **Process Management:** Creating, scheduling, and terminating processes, ensuring fair and efficient CPU utilization.  Scheduling algorithms (e.g., round-robin, priority-based) are crucial here.\\n    2.3. **File System Management:** Organizing and managing files and directories on storage devices, providing a structured way to access data.\\n    2.4. **Device Management:**  Interfacing with hardware devices (printers, keyboards, etc.), providing a standardized way for applications to interact with them (drivers).\\n\\n3. **User Interface:** The OS provides a way for users to interact with the system:\\n    3.1. **Command-Line Interface (CLI):**  A text-based interface for issuing commands.\\n    3.2. **Graphical User Interface (GUI):** A visual interface with windows, icons, and menus.\\n\\n4. **Security:** The OS implements security mechanisms to protect the system from unauthorized access and malicious software:\\n    4.1. **User Authentication:** Verifying user identities.\\n    4.2. **Access Control:** Restricting access to system resources based on user privileges.\\n    4.3. **Security Updates:** Regularly patching vulnerabilities.\\n\\n\\nIn terms of time and space complexity, the OS's performance is highly variable depending on the specific tasks and the system's resources.  However, efficient algorithms and data structures are crucial for minimizing both.  For example, efficient scheduling algorithms reduce the time complexity of process management, while optimized memory management techniques reduce the space complexity.  The overall goal is to provide a responsive and stable system while using resources effectively.\""
      ]
     },
     "execution_count": 64,
     "metadata": {},
     "output_type": "execute_result"
    }
   ],
   "execution_count": 64
  },
  {
   "metadata": {},
   "cell_type": "code",
   "outputs": [],
   "execution_count": null,
   "source": "",
   "id": "a03f805c2483da7"
  }
 ],
 "metadata": {
  "kernelspec": {
   "display_name": "Python 3",
   "language": "python",
   "name": "python3"
  },
  "language_info": {
   "codemirror_mode": {
    "name": "ipython",
    "version": 2
   },
   "file_extension": ".py",
   "mimetype": "text/x-python",
   "name": "python",
   "nbconvert_exporter": "python",
   "pygments_lexer": "ipython2",
   "version": "2.7.6"
  }
 },
 "nbformat": 4,
 "nbformat_minor": 5
}
