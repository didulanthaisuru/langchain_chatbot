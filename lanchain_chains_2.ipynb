{
 "cells": [
  {
   "cell_type": "code",
   "id": "initial_id",
   "metadata": {
    "collapsed": true,
    "ExecuteTime": {
     "end_time": "2025-02-23T05:05:03.312309Z",
     "start_time": "2025-02-23T05:05:03.300826Z"
    }
   },
   "source": [
    "import warnings\n",
    "warnings.filterwarnings('ignore')"
   ],
   "outputs": [],
   "execution_count": 8
  },
  {
   "metadata": {
    "ExecuteTime": {
     "end_time": "2025-02-23T05:05:04.999451Z",
     "start_time": "2025-02-23T05:05:04.988916Z"
    }
   },
   "cell_type": "code",
   "source": [
    "import os\n",
    "from dotenv import load_dotenv,find_dotenv\n",
    "import pandas as pd"
   ],
   "id": "1e1dbd86f52d0c81",
   "outputs": [],
   "execution_count": 9
  },
  {
   "metadata": {
    "ExecuteTime": {
     "end_time": "2025-02-23T05:05:05.867778Z",
     "start_time": "2025-02-23T05:05:05.850562Z"
    }
   },
   "cell_type": "code",
   "source": [
    "from langchain_google_genai import ChatGoogleGenerativeAI\n",
    "from langchain.prompts import ChatPromptTemplate\n",
    "from langchain.schema.runnable import RunnableSequence"
   ],
   "id": "e10dab2200b78336",
   "outputs": [],
   "execution_count": 10
  },
  {
   "metadata": {
    "ExecuteTime": {
     "end_time": "2025-02-23T05:05:06.572997Z",
     "start_time": "2025-02-23T05:05:06.563447Z"
    }
   },
   "cell_type": "code",
   "source": "_=load_dotenv(find_dotenv())",
   "id": "1010f05a2c7046f2",
   "outputs": [],
   "execution_count": 11
  },
  {
   "metadata": {
    "ExecuteTime": {
     "end_time": "2025-02-23T05:05:07.534968Z",
     "start_time": "2025-02-23T05:05:07.526244Z"
    }
   },
   "cell_type": "code",
   "source": "llm_model=\"gemini-1.5-flash\"",
   "id": "66c5c6e5f5ed2091",
   "outputs": [],
   "execution_count": 12
  },
  {
   "metadata": {
    "ExecuteTime": {
     "end_time": "2025-02-23T05:05:08.478968Z",
     "start_time": "2025-02-23T05:05:08.343179Z"
    }
   },
   "cell_type": "code",
   "source": "df=pd.read_csv('data.csv')",
   "id": "4f33c14160fd7663",
   "outputs": [],
   "execution_count": 13
  },
  {
   "metadata": {
    "ExecuteTime": {
     "end_time": "2025-02-23T05:05:19.743807Z",
     "start_time": "2025-02-23T05:05:19.070611Z"
    }
   },
   "cell_type": "code",
   "source": "llm=ChatGoogleGenerativeAI(tempurature=0.9,model=llm_model)",
   "id": "1c9fb24bf98f70",
   "outputs": [],
   "execution_count": 14
  },
  {
   "metadata": {
    "ExecuteTime": {
     "end_time": "2025-02-23T05:06:33.940427Z",
     "start_time": "2025-02-23T05:06:33.903880Z"
    }
   },
   "cell_type": "code",
   "source": [
    "first_prompt=ChatPromptTemplate.from_template(\n",
    "    \"What is the best name to describe a company that makes {product}\"\n",
    ")"
   ],
   "id": "7edd0af7fc196fa8",
   "outputs": [],
   "execution_count": 15
  },
  {
   "metadata": {
    "ExecuteTime": {
     "end_time": "2025-02-23T05:10:57.906008Z",
     "start_time": "2025-02-23T05:10:57.895726Z"
    }
   },
   "cell_type": "code",
   "source": [
    "second_prompt=ChatPromptTemplate.from_template(\n",
    "    \"Write a 20-word description for the following compant: {company_name}\"\n",
    ")"
   ],
   "id": "d5cb31cab268caa",
   "outputs": [],
   "execution_count": 16
  },
  {
   "metadata": {
    "ExecuteTime": {
     "end_time": "2025-02-23T05:11:46.722338Z",
     "start_time": "2025-02-23T05:11:46.701528Z"
    }
   },
   "cell_type": "code",
   "source": [
    "chain_one=first_prompt | llm\n",
    "chain_two=second_prompt | llm"
   ],
   "id": "813b4ebc7ee9f54",
   "outputs": [],
   "execution_count": 17
  },
  {
   "metadata": {
    "ExecuteTime": {
     "end_time": "2025-02-23T05:13:22.743215Z",
     "start_time": "2025-02-23T05:13:22.733124Z"
    }
   },
   "cell_type": "code",
   "source": "overall_simple_chain=RunnableSequence(chain_one | chain_two)",
   "id": "e8edd192899b4ad9",
   "outputs": [],
   "execution_count": 18
  },
  {
   "metadata": {
    "ExecuteTime": {
     "end_time": "2025-02-23T05:13:42.618517Z",
     "start_time": "2025-02-23T05:13:42.613992Z"
    }
   },
   "cell_type": "code",
   "source": "product=\"Queen Size Sheet Set\"",
   "id": "1a5c789e17a8ed5a",
   "outputs": [],
   "execution_count": 19
  },
  {
   "metadata": {
    "ExecuteTime": {
     "end_time": "2025-02-23T05:14:43.841544Z",
     "start_time": "2025-02-23T05:14:38.591010Z"
    }
   },
   "cell_type": "code",
   "source": "response=overall_simple_chain.invoke({\"product\":product})",
   "id": "60b92626cb816eca",
   "outputs": [],
   "execution_count": 20
  },
  {
   "metadata": {
    "ExecuteTime": {
     "end_time": "2025-02-23T05:14:55.937839Z",
     "start_time": "2025-02-23T05:14:55.925407Z"
    }
   },
   "cell_type": "code",
   "source": "print(response)",
   "id": "314b855a6569388a",
   "outputs": [
    {
     "name": "stdout",
     "output_type": "stream",
     "text": [
      "content='Luxury bedding brand offering superior comfort and quality.  Names evoke serenity, relaxation, and regal elegance.  Perfect for discerning customers.' additional_kwargs={} response_metadata={'prompt_feedback': {'block_reason': 0, 'safety_ratings': []}, 'finish_reason': 'STOP', 'safety_ratings': []} id='run-a4783d06-0678-4dbe-b85d-33b3ddfadc7b-0' usage_metadata={'input_tokens': 471, 'output_tokens': 27, 'total_tokens': 498, 'input_token_details': {'cache_read': 0}}\n"
     ]
    }
   ],
   "execution_count": 21
  },
  {
   "metadata": {
    "ExecuteTime": {
     "end_time": "2025-02-23T05:33:56.120941Z",
     "start_time": "2025-02-23T05:33:56.086792Z"
    }
   },
   "cell_type": "code",
   "source": [
    "from langchain.chains.router import MultiPromptChain\n",
    "from langchain.chains import SequentialChain,LLMChain"
   ],
   "id": "3260f5de958faddc",
   "outputs": [],
   "execution_count": 26
  },
  {
   "metadata": {
    "ExecuteTime": {
     "end_time": "2025-02-23T05:33:57.032669Z",
     "start_time": "2025-02-23T05:33:57.025533Z"
    }
   },
   "cell_type": "code",
   "source": "from langchain.chains.router.llm_router import LLMRouterChain,RouterOutputParser",
   "id": "ef2d91ae58126d08",
   "outputs": [],
   "execution_count": 27
  },
  {
   "metadata": {
    "ExecuteTime": {
     "end_time": "2025-02-23T05:33:58.032006Z",
     "start_time": "2025-02-23T05:33:58.024941Z"
    }
   },
   "cell_type": "code",
   "source": [
    "first_prompt=ChatPromptTemplate.from_template(\n",
    "    \"Translate the following review to English:\\n\\n{Review}\"\n",
    ")"
   ],
   "id": "844fa1c83996618b",
   "outputs": [],
   "execution_count": 28
  },
  {
   "metadata": {
    "ExecuteTime": {
     "end_time": "2025-02-23T05:33:59.157891Z",
     "start_time": "2025-02-23T05:33:59.149844Z"
    }
   },
   "cell_type": "code",
   "source": "chain_one=LLMChain(llm=llm,prompt=first_prompt,output_key=\"English_Review\")",
   "id": "f62ea3c14c2ba15f",
   "outputs": [],
   "execution_count": 29
  },
  {
   "metadata": {
    "ExecuteTime": {
     "end_time": "2025-02-23T05:36:02.908437Z",
     "start_time": "2025-02-23T05:36:02.901275Z"
    }
   },
   "cell_type": "code",
   "source": [
    "second_prompt=ChatPromptTemplate.from_template(\n",
    "    \"Can you summarize the following review in 1 sentence:\\n\\n{English_Review}\"\n",
    ")"
   ],
   "id": "da8efe9ec954ad35",
   "outputs": [],
   "execution_count": 30
  },
  {
   "metadata": {
    "ExecuteTime": {
     "end_time": "2025-02-23T05:36:56.094888Z",
     "start_time": "2025-02-23T05:36:56.087662Z"
    }
   },
   "cell_type": "code",
   "source": "chain_two=LLMChain(llm=llm,prompt=second_prompt,output_key=\"summary\")",
   "id": "51d5d71adda55271",
   "outputs": [],
   "execution_count": 31
  },
  {
   "metadata": {
    "ExecuteTime": {
     "end_time": "2025-02-23T05:38:07.569784Z",
     "start_time": "2025-02-23T05:38:07.564317Z"
    }
   },
   "cell_type": "code",
   "source": [
    "third_prompt=ChatPromptTemplate.from_template(\n",
    "    \"What language is the following review:\\n\\n{Review}\"\n",
    ")"
   ],
   "id": "603335568557d8ff",
   "outputs": [],
   "execution_count": 32
  },
  {
   "metadata": {
    "ExecuteTime": {
     "end_time": "2025-02-23T05:39:02.725952Z",
     "start_time": "2025-02-23T05:39:02.718884Z"
    }
   },
   "cell_type": "code",
   "source": "chain_three=LLMChain(llm=llm,prompt=third_prompt,output_key=\"language\")",
   "id": "6287bdf84d098754",
   "outputs": [],
   "execution_count": 34
  },
  {
   "metadata": {
    "ExecuteTime": {
     "end_time": "2025-02-23T05:43:16.212630Z",
     "start_time": "2025-02-23T05:43:16.204758Z"
    }
   },
   "cell_type": "code",
   "source": [
    "fourth_prompt=ChatPromptTemplate.from_template(\n",
    "    \"Write a follow-up response to the folllowing summary in the specified language:\\n\\Summary: {summary}\\n\\nLanguage: {language}\"\n",
    ")"
   ],
   "id": "f7290d0638182b35",
   "outputs": [],
   "execution_count": 35
  },
  {
   "metadata": {
    "ExecuteTime": {
     "end_time": "2025-02-23T05:51:18.050522Z",
     "start_time": "2025-02-23T05:51:18.044523Z"
    }
   },
   "cell_type": "code",
   "source": "chain_four=LLMChain(llm=llm,prompt=fourth_prompt,output_key=\"followup_message\")",
   "id": "864c46e2c659e72d",
   "outputs": [],
   "execution_count": 36
  },
  {
   "metadata": {
    "ExecuteTime": {
     "end_time": "2025-02-23T05:58:27.385567Z",
     "start_time": "2025-02-23T05:58:27.377591Z"
    }
   },
   "cell_type": "code",
   "source": [
    "overall_chain=SequentialChain(\n",
    "    chains=[chain_one,chain_two,chain_three,chain_four],\n",
    "    input_variables=[\"Review\"],\n",
    "    output_variables=[\"English_Review\",\"summary\",\"followup_message\"],\n",
    "    verbose=True\n",
    ")"
   ],
   "id": "a99e74f59656471b",
   "outputs": [],
   "execution_count": 41
  },
  {
   "metadata": {
    "ExecuteTime": {
     "end_time": "2025-02-23T05:58:28.790484Z",
     "start_time": "2025-02-23T05:58:28.784094Z"
    }
   },
   "cell_type": "code",
   "source": "df=pd.DataFrame({\"Review\":[\"Esta es una reseña de ejemplo.\", \"Ceci est un avis d'exemple.\"]})",
   "id": "2ec2ec46b2b0893f",
   "outputs": [],
   "execution_count": 42
  },
  {
   "metadata": {
    "ExecuteTime": {
     "end_time": "2025-02-23T05:58:33.890140Z",
     "start_time": "2025-02-23T05:58:29.759214Z"
    }
   },
   "cell_type": "code",
   "source": [
    "review=df.Review[0]\n",
    "overall_chain(review)"
   ],
   "id": "9d9feb2a08bf0bd7",
   "outputs": [
    {
     "name": "stdout",
     "output_type": "stream",
     "text": [
      "\n",
      "\n",
      "\u001B[1m> Entering new SequentialChain chain...\u001B[0m\n",
      "\n",
      "\u001B[1m> Finished chain.\u001B[0m\n"
     ]
    },
    {
     "data": {
      "text/plain": [
       "{'Review': 'Esta es una reseña de ejemplo.',\n",
       " 'English_Review': 'This is an example review.',\n",
       " 'summary': 'This is a placeholder review with no content to summarize.',\n",
       " 'followup_message': 'Pues entonces, ¡no hay nada que comentar!  No hay resumen que seguir.  ¿Deberíamos buscar una reseña real para poder discutirla?'}"
      ]
     },
     "execution_count": 43,
     "metadata": {},
     "output_type": "execute_result"
    }
   ],
   "execution_count": 43
  },
  {
   "metadata": {},
   "cell_type": "code",
   "outputs": [],
   "execution_count": null,
   "source": "",
   "id": "97bf0747119ecf18"
  }
 ],
 "metadata": {
  "kernelspec": {
   "display_name": "Python 3",
   "language": "python",
   "name": "python3"
  },
  "language_info": {
   "codemirror_mode": {
    "name": "ipython",
    "version": 2
   },
   "file_extension": ".py",
   "mimetype": "text/x-python",
   "name": "python",
   "nbconvert_exporter": "python",
   "pygments_lexer": "ipython2",
   "version": "2.7.6"
  }
 },
 "nbformat": 4,
 "nbformat_minor": 5
}
