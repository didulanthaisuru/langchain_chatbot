{
 "cells": [
  {
   "cell_type": "code",
   "id": "initial_id",
   "metadata": {
    "collapsed": true,
    "ExecuteTime": {
     "end_time": "2025-03-01T17:55:24.712620Z",
     "start_time": "2025-03-01T17:55:24.668379Z"
    }
   },
   "source": [
    "import os\n",
    "from dotenv import load_dotenv, find_dotenv\n",
    "_ = load_dotenv(find_dotenv())\n",
    "\n",
    "import warnings\n",
    "warnings.filterwarnings(\"ignore\")"
   ],
   "outputs": [],
   "execution_count": 1
  },
  {
   "metadata": {
    "ExecuteTime": {
     "end_time": "2025-03-01T17:59:01.001539Z",
     "start_time": "2025-03-01T17:59:00.993486Z"
    }
   },
   "cell_type": "code",
   "source": "llm_model=\"gemini-1.5-flash\"",
   "id": "bfa8b2370f9b8e90",
   "outputs": [],
   "execution_count": 3
  },
  {
   "metadata": {
    "ExecuteTime": {
     "end_time": "2025-03-01T18:10:15.359043Z",
     "start_time": "2025-03-01T18:10:13.901206Z"
    }
   },
   "cell_type": "code",
   "source": [
    "from langchain_experimental.agents.agent_toolkits import create_python_agent\n",
    "from langchain.agents import load_tools, initialize_agent\n",
    "from langchain_google_genai import GoogleGenerativeAI"
   ],
   "id": "82e1b34050e4c01b",
   "outputs": [],
   "execution_count": 10
  },
  {
   "metadata": {
    "ExecuteTime": {
     "end_time": "2025-03-01T18:12:11.635287Z",
     "start_time": "2025-03-01T18:12:11.627131Z"
    }
   },
   "cell_type": "code",
   "source": "from langchain_experimental.tools import PythonAstREPLTool",
   "id": "797360d54ce91d2b",
   "outputs": [],
   "execution_count": 13
  },
  {
   "metadata": {},
   "cell_type": "code",
   "outputs": [],
   "execution_count": null,
   "source": "",
   "id": "d5086e48883b9b99"
  }
 ],
 "metadata": {
  "kernelspec": {
   "display_name": "Python 3",
   "language": "python",
   "name": "python3"
  },
  "language_info": {
   "codemirror_mode": {
    "name": "ipython",
    "version": 2
   },
   "file_extension": ".py",
   "mimetype": "text/x-python",
   "name": "python",
   "nbconvert_exporter": "python",
   "pygments_lexer": "ipython2",
   "version": "2.7.6"
  }
 },
 "nbformat": 4,
 "nbformat_minor": 5
}
