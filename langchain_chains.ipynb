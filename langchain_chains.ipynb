{
 "cells": [
  {
   "cell_type": "code",
   "id": "initial_id",
   "metadata": {
    "collapsed": true,
    "ExecuteTime": {
     "end_time": "2025-02-23T04:10:44.308988Z",
     "start_time": "2025-02-23T04:10:44.301450Z"
    }
   },
   "source": [
    "import warnings\n",
    "warnings.filterwarnings('ignore')"
   ],
   "outputs": [],
   "execution_count": 20
  },
  {
   "metadata": {
    "ExecuteTime": {
     "end_time": "2025-02-23T04:11:17.536455Z",
     "start_time": "2025-02-23T04:11:17.508205Z"
    }
   },
   "cell_type": "code",
   "source": [
    "import os\n",
    "\n",
    "from dotenv import load_dotenv,find_dotenv\n",
    "_=load_dotenv(find_dotenv())"
   ],
   "id": "991f7519bdb43b4f",
   "outputs": [],
   "execution_count": 21
  },
  {
   "metadata": {
    "ExecuteTime": {
     "end_time": "2025-02-23T04:11:18.527579Z",
     "start_time": "2025-02-23T04:11:18.521582Z"
    }
   },
   "cell_type": "code",
   "source": "llm_model=\"gemini-1.5-flash\"",
   "id": "8c8af4f8af53c732",
   "outputs": [],
   "execution_count": 22
  },
  {
   "metadata": {
    "ExecuteTime": {
     "end_time": "2025-02-23T04:06:13.027772Z",
     "start_time": "2025-02-23T04:06:10.474032Z"
    }
   },
   "cell_type": "code",
   "source": "import pandas as pd",
   "id": "f20ec084c74cb04",
   "outputs": [],
   "execution_count": 4
  },
  {
   "metadata": {
    "ExecuteTime": {
     "end_time": "2025-02-23T04:06:29.505456Z",
     "start_time": "2025-02-23T04:06:29.450993Z"
    }
   },
   "cell_type": "code",
   "source": "df=pd.read_csv('data.csv')",
   "id": "e67e61abfd4ea7ab",
   "outputs": [],
   "execution_count": 5
  },
  {
   "metadata": {
    "ExecuteTime": {
     "end_time": "2025-02-23T04:06:30.620958Z",
     "start_time": "2025-02-23T04:06:30.588774Z"
    }
   },
   "cell_type": "code",
   "source": "df.head()",
   "id": "c833b303211519f9",
   "outputs": [
    {
     "data": {
      "text/plain": [
       "                   Product                                             Review\n",
       "0     Queen Size Sheet Set  I ordered a king size set. My only criticism w...\n",
       "1   Waterproof Phone Pouch  I loved the waterproof sac, although the openi...\n",
       "2      Luxury Air Mattress  This mattress had a small hole in the top of i...\n",
       "3           Pillows Insert  This is the best throw pillow fillers on Amazo...\n",
       "4  Milk Frother Handheld\\n   I loved this product. But they only seem to l..."
      ],
      "text/html": [
       "<div>\n",
       "<style scoped>\n",
       "    .dataframe tbody tr th:only-of-type {\n",
       "        vertical-align: middle;\n",
       "    }\n",
       "\n",
       "    .dataframe tbody tr th {\n",
       "        vertical-align: top;\n",
       "    }\n",
       "\n",
       "    .dataframe thead th {\n",
       "        text-align: right;\n",
       "    }\n",
       "</style>\n",
       "<table border=\"1\" class=\"dataframe\">\n",
       "  <thead>\n",
       "    <tr style=\"text-align: right;\">\n",
       "      <th></th>\n",
       "      <th>Product</th>\n",
       "      <th>Review</th>\n",
       "    </tr>\n",
       "  </thead>\n",
       "  <tbody>\n",
       "    <tr>\n",
       "      <th>0</th>\n",
       "      <td>Queen Size Sheet Set</td>\n",
       "      <td>I ordered a king size set. My only criticism w...</td>\n",
       "    </tr>\n",
       "    <tr>\n",
       "      <th>1</th>\n",
       "      <td>Waterproof Phone Pouch</td>\n",
       "      <td>I loved the waterproof sac, although the openi...</td>\n",
       "    </tr>\n",
       "    <tr>\n",
       "      <th>2</th>\n",
       "      <td>Luxury Air Mattress</td>\n",
       "      <td>This mattress had a small hole in the top of i...</td>\n",
       "    </tr>\n",
       "    <tr>\n",
       "      <th>3</th>\n",
       "      <td>Pillows Insert</td>\n",
       "      <td>This is the best throw pillow fillers on Amazo...</td>\n",
       "    </tr>\n",
       "    <tr>\n",
       "      <th>4</th>\n",
       "      <td>Milk Frother Handheld\\n</td>\n",
       "      <td>I loved this product. But they only seem to l...</td>\n",
       "    </tr>\n",
       "  </tbody>\n",
       "</table>\n",
       "</div>"
      ]
     },
     "execution_count": 6,
     "metadata": {},
     "output_type": "execute_result"
    }
   ],
   "execution_count": 6
  },
  {
   "metadata": {
    "ExecuteTime": {
     "end_time": "2025-02-23T04:06:38.997246Z",
     "start_time": "2025-02-23T04:06:31.951345Z"
    }
   },
   "cell_type": "code",
   "source": "from langchain_google_genai import ChatGoogleGenerativeAI",
   "id": "a7ac7417f1f7653c",
   "outputs": [],
   "execution_count": 7
  },
  {
   "metadata": {
    "ExecuteTime": {
     "end_time": "2025-02-23T04:06:39.031959Z",
     "start_time": "2025-02-23T04:06:38.998263Z"
    }
   },
   "cell_type": "code",
   "source": "from langchain.prompts import ChatPromptTemplate",
   "id": "3bb21a2e7ac0057a",
   "outputs": [],
   "execution_count": 8
  },
  {
   "metadata": {
    "ExecuteTime": {
     "end_time": "2025-02-23T04:06:44.629975Z",
     "start_time": "2025-02-23T04:06:44.514403Z"
    }
   },
   "cell_type": "code",
   "source": "from langchain.chains import LLMChain",
   "id": "5c079e6a161ddbd0",
   "outputs": [],
   "execution_count": 9
  },
  {
   "metadata": {
    "ExecuteTime": {
     "end_time": "2025-02-23T04:06:45.692268Z",
     "start_time": "2025-02-23T04:06:45.686367Z"
    }
   },
   "cell_type": "code",
   "source": "",
   "id": "a792eda0cabfa922",
   "outputs": [],
   "execution_count": 9
  },
  {
   "metadata": {
    "ExecuteTime": {
     "end_time": "2025-02-23T04:06:46.589541Z",
     "start_time": "2025-02-23T04:06:46.457464Z"
    }
   },
   "cell_type": "code",
   "source": "llm=ChatGoogleGenerativeAI(temparature=0.9,model=llm_model)",
   "id": "c87ca480780c99ff",
   "outputs": [],
   "execution_count": 10
  },
  {
   "metadata": {
    "ExecuteTime": {
     "end_time": "2025-02-23T04:06:57.489719Z",
     "start_time": "2025-02-23T04:06:57.482716Z"
    }
   },
   "cell_type": "code",
   "source": [
    "prompt=ChatPromptTemplate.from_template(\n",
    "    \"What is the best name to describe \\\n",
    "    a company that makes {product}\"\n",
    ")"
   ],
   "id": "589cb7fb9709ba16",
   "outputs": [],
   "execution_count": 11
  },
  {
   "metadata": {
    "ExecuteTime": {
     "end_time": "2025-02-23T04:07:02.780436Z",
     "start_time": "2025-02-23T04:07:02.772172Z"
    }
   },
   "cell_type": "code",
   "source": "chain=prompt | llm",
   "id": "ce80655c27635be5",
   "outputs": [],
   "execution_count": 12
  },
  {
   "metadata": {
    "ExecuteTime": {
     "end_time": "2025-02-23T04:07:06.767173Z",
     "start_time": "2025-02-23T04:07:05.122603Z"
    }
   },
   "cell_type": "code",
   "source": "response=chain.invoke({\"product\":product})",
   "id": "16fc87e3c413dd3a",
   "outputs": [
    {
     "ename": "NameError",
     "evalue": "name 'product' is not defined",
     "output_type": "error",
     "traceback": [
      "\u001B[1;31m---------------------------------------------------------------------------\u001B[0m",
      "\u001B[1;31mNameError\u001B[0m                                 Traceback (most recent call last)",
      "Cell \u001B[1;32mIn[13], line 1\u001B[0m\n\u001B[1;32m----> 1\u001B[0m response\u001B[38;5;241m=\u001B[39mchain\u001B[38;5;241m.\u001B[39minvoke({\u001B[38;5;124m\"\u001B[39m\u001B[38;5;124mproduct\u001B[39m\u001B[38;5;124m\"\u001B[39m:product})\n",
      "\u001B[1;31mNameError\u001B[0m: name 'product' is not defined"
     ]
    }
   ],
   "execution_count": 13
  },
  {
   "metadata": {},
   "cell_type": "markdown",
   "source": "",
   "id": "5891ae52041b8f91"
  },
  {
   "metadata": {
    "ExecuteTime": {
     "end_time": "2025-02-23T04:07:35.253777Z",
     "start_time": "2025-02-23T04:07:35.216333Z"
    }
   },
   "cell_type": "code",
   "source": "print(response.content.strip())",
   "id": "345c47e945cfe5fc",
   "outputs": [
    {
     "ename": "NameError",
     "evalue": "name 'response' is not defined",
     "output_type": "error",
     "traceback": [
      "\u001B[1;31m---------------------------------------------------------------------------\u001B[0m",
      "\u001B[1;31mNameError\u001B[0m                                 Traceback (most recent call last)",
      "Cell \u001B[1;32mIn[14], line 1\u001B[0m\n\u001B[1;32m----> 1\u001B[0m \u001B[38;5;28mprint\u001B[39m(response\u001B[38;5;241m.\u001B[39mcontent\u001B[38;5;241m.\u001B[39mstrip())\n",
      "\u001B[1;31mNameError\u001B[0m: name 'response' is not defined"
     ]
    }
   ],
   "execution_count": 14
  },
  {
   "metadata": {
    "ExecuteTime": {
     "end_time": "2025-02-23T04:07:37.645683Z",
     "start_time": "2025-02-23T04:07:37.619678Z"
    }
   },
   "cell_type": "code",
   "source": "from langchain.chains import SimpleSequentialChain",
   "id": "65ce1d1aa23dc79b",
   "outputs": [],
   "execution_count": 15
  },
  {
   "metadata": {
    "ExecuteTime": {
     "end_time": "2025-02-23T04:07:40.097950Z",
     "start_time": "2025-02-23T04:07:40.091940Z"
    }
   },
   "cell_type": "code",
   "source": "from langchain.chains import SimpleSequentialChain",
   "id": "2e67ed0f1fc51710",
   "outputs": [],
   "execution_count": 16
  },
  {
   "metadata": {
    "ExecuteTime": {
     "end_time": "2025-02-23T04:07:41.050493Z",
     "start_time": "2025-02-23T04:07:41.037578Z"
    }
   },
   "cell_type": "code",
   "source": "llm=ChatGoogleGenerativeAI(temperature=0.9,model=llm_model)",
   "id": "bf0aedfbee2b5be4",
   "outputs": [],
   "execution_count": 17
  },
  {
   "metadata": {
    "ExecuteTime": {
     "end_time": "2025-02-23T04:07:41.640781Z",
     "start_time": "2025-02-23T04:07:41.630698Z"
    }
   },
   "cell_type": "code",
   "source": [
    "#template1\n",
    "first_prompt=ChatPromptTemplate.from_template(\n",
    "    \"WHat is the best name to describe a company that makes {product}?\"\n",
    ")\n",
    "\n",
    "chain_one=LLMChain(llm=llm,prompt=first_prompt)"
   ],
   "id": "c58526ec73ae28c5",
   "outputs": [
    {
     "name": "stderr",
     "output_type": "stream",
     "text": [
      "C:\\Users\\isuru\\AppData\\Local\\Temp\\ipykernel_28128\\573339452.py:6: LangChainDeprecationWarning: The class `LLMChain` was deprecated in LangChain 0.1.17 and will be removed in 1.0. Use :meth:`~RunnableSequence, e.g., `prompt | llm`` instead.\n",
      "  chain_one=LLMChain(llm=llm,prompt=first_prompt)\n"
     ]
    }
   ],
   "execution_count": 18
  },
  {
   "metadata": {
    "ExecuteTime": {
     "end_time": "2025-02-23T04:07:43.905587Z",
     "start_time": "2025-02-23T04:07:43.895579Z"
    }
   },
   "cell_type": "code",
   "source": [
    "#template2\n",
    "second_prompt=ChatPromptTemplate.from_template(\n",
    "    \"Write a 20 words description for the following company:{company_name}\"\n",
    ")\n",
    "chain_two=LLMChain(llm=llm,prompt=second_prompt)"
   ],
   "id": "5a46405d9aff7ea2",
   "outputs": [],
   "execution_count": 19
  },
  {
   "metadata": {
    "ExecuteTime": {
     "end_time": "2025-02-22T18:32:34.259192Z",
     "start_time": "2025-02-22T18:32:34.046206Z"
    }
   },
   "cell_type": "code",
   "source": "df.head()",
   "id": "3e6dce174047e754",
   "outputs": [
    {
     "data": {
      "text/plain": [
       "                   Product                                             Review\n",
       "0     Queen Size Sheet Set  I ordered a king size set. My only criticism w...\n",
       "1   Waterproof Phone Pouch  I loved the waterproof sac, although the openi...\n",
       "2      Luxury Air Mattress  This mattress had a small hole in the top of i...\n",
       "3           Pillows Insert  This is the best throw pillow fillers on Amazo...\n",
       "4  Milk Frother Handheld\\n   I loved this product. But they only seem to l..."
      ],
      "text/html": [
       "<div>\n",
       "<style scoped>\n",
       "    .dataframe tbody tr th:only-of-type {\n",
       "        vertical-align: middle;\n",
       "    }\n",
       "\n",
       "    .dataframe tbody tr th {\n",
       "        vertical-align: top;\n",
       "    }\n",
       "\n",
       "    .dataframe thead th {\n",
       "        text-align: right;\n",
       "    }\n",
       "</style>\n",
       "<table border=\"1\" class=\"dataframe\">\n",
       "  <thead>\n",
       "    <tr style=\"text-align: right;\">\n",
       "      <th></th>\n",
       "      <th>Product</th>\n",
       "      <th>Review</th>\n",
       "    </tr>\n",
       "  </thead>\n",
       "  <tbody>\n",
       "    <tr>\n",
       "      <th>0</th>\n",
       "      <td>Queen Size Sheet Set</td>\n",
       "      <td>I ordered a king size set. My only criticism w...</td>\n",
       "    </tr>\n",
       "    <tr>\n",
       "      <th>1</th>\n",
       "      <td>Waterproof Phone Pouch</td>\n",
       "      <td>I loved the waterproof sac, although the openi...</td>\n",
       "    </tr>\n",
       "    <tr>\n",
       "      <th>2</th>\n",
       "      <td>Luxury Air Mattress</td>\n",
       "      <td>This mattress had a small hole in the top of i...</td>\n",
       "    </tr>\n",
       "    <tr>\n",
       "      <th>3</th>\n",
       "      <td>Pillows Insert</td>\n",
       "      <td>This is the best throw pillow fillers on Amazo...</td>\n",
       "    </tr>\n",
       "    <tr>\n",
       "      <th>4</th>\n",
       "      <td>Milk Frother Handheld\\n</td>\n",
       "      <td>I loved this product. But they only seem to l...</td>\n",
       "    </tr>\n",
       "  </tbody>\n",
       "</table>\n",
       "</div>"
      ]
     },
     "execution_count": 38,
     "metadata": {},
     "output_type": "execute_result"
    }
   ],
   "execution_count": 38
  },
  {
   "metadata": {
    "ExecuteTime": {
     "end_time": "2025-02-22T18:38:08.947365Z",
     "start_time": "2025-02-22T18:38:08.923154Z"
    }
   },
   "cell_type": "code",
   "source": [
    "overall_simple_chain=SimpleSequentialChain(chains=[chain_one,chain_two],\n",
    "                                           verbose=True\n",
    "                                           )"
   ],
   "id": "afd72a530c4a2cae",
   "outputs": [],
   "execution_count": 40
  },
  {
   "metadata": {
    "jupyter": {
     "is_executing": true
    },
    "ExecuteTime": {
     "start_time": "2025-02-22T18:38:29.964326Z"
    }
   },
   "cell_type": "code",
   "source": "overall_simple_chain.run(product)",
   "id": "38de1a06cdba0ee1",
   "outputs": [
    {
     "name": "stderr",
     "output_type": "stream",
     "text": [
      "C:\\Users\\isuru\\AppData\\Local\\Temp\\ipykernel_6192\\1112261147.py:1: LangChainDeprecationWarning: The method `Chain.run` was deprecated in langchain 0.1.0 and will be removed in 1.0. Use :meth:`~invoke` instead.\n",
      "  overall_simple_chain.run(product)\n"
     ]
    },
    {
     "name": "stdout",
     "output_type": "stream",
     "text": [
      "\n",
      "\n",
      "\u001B[1m> Entering new SimpleSequentialChain chain...\u001B[0m\n"
     ]
    }
   ],
   "execution_count": null
  },
  {
   "metadata": {},
   "cell_type": "code",
   "outputs": [],
   "execution_count": null,
   "source": "",
   "id": "70af127a69f31207"
  }
 ],
 "metadata": {
  "kernelspec": {
   "display_name": "Python 3",
   "language": "python",
   "name": "python3"
  },
  "language_info": {
   "codemirror_mode": {
    "name": "ipython",
    "version": 2
   },
   "file_extension": ".py",
   "mimetype": "text/x-python",
   "name": "python",
   "nbconvert_exporter": "python",
   "pygments_lexer": "ipython2",
   "version": "2.7.6"
  }
 },
 "nbformat": 4,
 "nbformat_minor": 5
}
