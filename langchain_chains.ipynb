{
 "cells": [
  {
   "cell_type": "code",
   "id": "initial_id",
   "metadata": {
    "collapsed": true,
    "ExecuteTime": {
     "end_time": "2025-02-22T05:48:45.137781Z",
     "start_time": "2025-02-22T05:48:45.129120Z"
    }
   },
   "source": [
    "import warnings\n",
    "warnings.filterwarnings('ignore')"
   ],
   "outputs": [],
   "execution_count": 1
  },
  {
   "metadata": {
    "ExecuteTime": {
     "end_time": "2025-02-22T05:50:16.066459Z",
     "start_time": "2025-02-22T05:50:16.034628Z"
    }
   },
   "cell_type": "code",
   "source": [
    "import os\n",
    "\n",
    "from dotenv import load_dotenv,find_dotenv\n",
    "_=load_dotenv(find_dotenv())"
   ],
   "id": "991f7519bdb43b4f",
   "outputs": [],
   "execution_count": 2
  },
  {
   "metadata": {
    "ExecuteTime": {
     "end_time": "2025-02-22T05:51:53.376255Z",
     "start_time": "2025-02-22T05:51:53.371370Z"
    }
   },
   "cell_type": "code",
   "source": "llm_model=\"gemini-1.5-flash\"",
   "id": "8c8af4f8af53c732",
   "outputs": [],
   "execution_count": 4
  },
  {
   "metadata": {
    "ExecuteTime": {
     "end_time": "2025-02-22T05:52:17.418017Z",
     "start_time": "2025-02-22T05:52:15.916084Z"
    }
   },
   "cell_type": "code",
   "source": "import pandas as pd",
   "id": "f20ec084c74cb04",
   "outputs": [],
   "execution_count": 5
  },
  {
   "metadata": {
    "ExecuteTime": {
     "end_time": "2025-02-22T17:32:11.280738Z",
     "start_time": "2025-02-22T17:32:10.820829Z"
    }
   },
   "cell_type": "code",
   "source": "df=pd.read_csv('data.csv')",
   "id": "e67e61abfd4ea7ab",
   "outputs": [],
   "execution_count": 14
  },
  {
   "metadata": {
    "ExecuteTime": {
     "end_time": "2025-02-22T17:32:12.744018Z",
     "start_time": "2025-02-22T17:32:12.647373Z"
    }
   },
   "cell_type": "code",
   "source": "df.head()",
   "id": "c833b303211519f9",
   "outputs": [
    {
     "data": {
      "text/plain": [
       "                   Product                                             Review\n",
       "0     Queen Size Sheet Set  I ordered a king size set. My only criticism w...\n",
       "1   Waterproof Phone Pouch  I loved the waterproof sac, although the openi...\n",
       "2      Luxury Air Mattress  This mattress had a small hole in the top of i...\n",
       "3           Pillows Insert  This is the best throw pillow fillers on Amazo...\n",
       "4  Milk Frother Handheld\\n   I loved this product. But they only seem to l..."
      ],
      "text/html": [
       "<div>\n",
       "<style scoped>\n",
       "    .dataframe tbody tr th:only-of-type {\n",
       "        vertical-align: middle;\n",
       "    }\n",
       "\n",
       "    .dataframe tbody tr th {\n",
       "        vertical-align: top;\n",
       "    }\n",
       "\n",
       "    .dataframe thead th {\n",
       "        text-align: right;\n",
       "    }\n",
       "</style>\n",
       "<table border=\"1\" class=\"dataframe\">\n",
       "  <thead>\n",
       "    <tr style=\"text-align: right;\">\n",
       "      <th></th>\n",
       "      <th>Product</th>\n",
       "      <th>Review</th>\n",
       "    </tr>\n",
       "  </thead>\n",
       "  <tbody>\n",
       "    <tr>\n",
       "      <th>0</th>\n",
       "      <td>Queen Size Sheet Set</td>\n",
       "      <td>I ordered a king size set. My only criticism w...</td>\n",
       "    </tr>\n",
       "    <tr>\n",
       "      <th>1</th>\n",
       "      <td>Waterproof Phone Pouch</td>\n",
       "      <td>I loved the waterproof sac, although the openi...</td>\n",
       "    </tr>\n",
       "    <tr>\n",
       "      <th>2</th>\n",
       "      <td>Luxury Air Mattress</td>\n",
       "      <td>This mattress had a small hole in the top of i...</td>\n",
       "    </tr>\n",
       "    <tr>\n",
       "      <th>3</th>\n",
       "      <td>Pillows Insert</td>\n",
       "      <td>This is the best throw pillow fillers on Amazo...</td>\n",
       "    </tr>\n",
       "    <tr>\n",
       "      <th>4</th>\n",
       "      <td>Milk Frother Handheld\\n</td>\n",
       "      <td>I loved this product. But they only seem to l...</td>\n",
       "    </tr>\n",
       "  </tbody>\n",
       "</table>\n",
       "</div>"
      ]
     },
     "execution_count": 15,
     "metadata": {},
     "output_type": "execute_result"
    }
   ],
   "execution_count": 15
  },
  {
   "metadata": {
    "ExecuteTime": {
     "end_time": "2025-02-22T17:32:15.724235Z",
     "start_time": "2025-02-22T17:32:15.682486Z"
    }
   },
   "cell_type": "code",
   "source": "from langchain_google_genai import ChatGoogleGenerativeAI",
   "id": "a7ac7417f1f7653c",
   "outputs": [],
   "execution_count": 16
  },
  {
   "metadata": {
    "ExecuteTime": {
     "end_time": "2025-02-22T17:32:17.619970Z",
     "start_time": "2025-02-22T17:32:16.823692Z"
    }
   },
   "cell_type": "code",
   "source": "from langchain.prompts import ChatPromptTemplate",
   "id": "3bb21a2e7ac0057a",
   "outputs": [],
   "execution_count": 17
  },
  {
   "metadata": {
    "ExecuteTime": {
     "end_time": "2025-02-22T17:32:19.937200Z",
     "start_time": "2025-02-22T17:32:19.908836Z"
    }
   },
   "cell_type": "code",
   "source": "from langchain.chains import LLMChain",
   "id": "5c079e6a161ddbd0",
   "outputs": [],
   "execution_count": 18
  },
  {
   "metadata": {
    "ExecuteTime": {
     "end_time": "2025-02-22T17:32:20.658953Z",
     "start_time": "2025-02-22T17:32:20.650422Z"
    }
   },
   "cell_type": "code",
   "source": "",
   "id": "a792eda0cabfa922",
   "outputs": [],
   "execution_count": 18
  },
  {
   "metadata": {
    "ExecuteTime": {
     "end_time": "2025-02-22T17:32:21.733579Z",
     "start_time": "2025-02-22T17:32:21.531670Z"
    }
   },
   "cell_type": "code",
   "source": "llm=ChatGoogleGenerativeAI(temparature=0.9,model=llm_model)",
   "id": "c87ca480780c99ff",
   "outputs": [],
   "execution_count": 19
  },
  {
   "metadata": {
    "ExecuteTime": {
     "end_time": "2025-02-22T17:32:56.745585Z",
     "start_time": "2025-02-22T17:32:56.680222Z"
    }
   },
   "cell_type": "code",
   "source": [
    "prompt=ChatPromptTemplate.from_template(\n",
    "    \"What is the best name to describe \\\n",
    "    a company that makes {product}\"\n",
    ")"
   ],
   "id": "589cb7fb9709ba16",
   "outputs": [],
   "execution_count": 20
  },
  {
   "metadata": {
    "ExecuteTime": {
     "end_time": "2025-02-22T17:40:12.525847Z",
     "start_time": "2025-02-22T17:40:12.501221Z"
    }
   },
   "cell_type": "code",
   "source": "chain=prompt | llm",
   "id": "ce80655c27635be5",
   "outputs": [],
   "execution_count": 25
  },
  {
   "metadata": {
    "ExecuteTime": {
     "end_time": "2025-02-22T17:41:01.363570Z",
     "start_time": "2025-02-22T17:40:55.218571Z"
    }
   },
   "cell_type": "code",
   "source": "response=chain.invoke({\"product\":product})",
   "id": "16fc87e3c413dd3a",
   "outputs": [],
   "execution_count": 27
  },
  {
   "metadata": {
    "ExecuteTime": {
     "end_time": "2025-02-22T17:43:06.343468Z",
     "start_time": "2025-02-22T17:43:06.336476Z"
    }
   },
   "cell_type": "code",
   "source": "print(response.content.strip())",
   "id": "345c47e945cfe5fc",
   "outputs": [
    {
     "name": "stdout",
     "output_type": "stream",
     "text": [
      "The best name depends on the brand's desired image and target audience. Here are some options, categorized by approach:\n",
      "\n",
      "**Focusing on Quality & Luxury:**\n",
      "\n",
      "* Royal Rest\n",
      "* Empress Linens\n",
      "* Sovereign Sheets\n",
      "* Regal Sleep\n",
      "* Velvet Dreams (if the sheets are particularly soft)\n",
      "* The Queen's Collection\n",
      "\n",
      "**Focusing on Comfort & Relaxation:**\n",
      "\n",
      "* Cozy Kingdom\n",
      "* Slumber Haven\n",
      "* Dream Weaver Sheets\n",
      "* Peaceful Nights\n",
      "* Sweet Dreams Sheets\n",
      "\n",
      "**Focusing on Simplicity & Clarity:**\n",
      "\n",
      "* Queen Sheets\n",
      "* Queen's Bedding\n",
      "* The Sheet Set Company\n",
      "* Simply Queen\n",
      "\n",
      "**Focusing on a Unique Selling Proposition (USP) -  you'll need to fill in the blanks:**\n",
      "\n",
      "* [Material] Queen Sheets (e.g., Egyptian Cotton Queen Sheets)\n",
      "* [Feature] Queen Sheets (e.g., Cooling Queen Sheets)\n",
      "* [Location/Inspiration] Queen Sheets (e.g.,  Coastal Queen Sheets)\n",
      "\n",
      "\n",
      "**Tips for Choosing:**\n",
      "\n",
      "* **Check for availability:** Make sure the name is not already in use (website domain, trademark).\n",
      "* **Keep it short and memorable:**  Easy to recall and share.\n",
      "* **Reflect your brand values:**  Luxury, comfort, affordability, etc.\n",
      "* **Get feedback:** Ask potential customers for their opinions.\n",
      "\n",
      "\n",
      "Ultimately, the \"best\" name is subjective and depends on your specific business goals and branding strategy.  Consider brainstorming variations on these suggestions to find the perfect fit.\n"
     ]
    }
   ],
   "execution_count": 30
  },
  {
   "metadata": {},
   "cell_type": "code",
   "outputs": [],
   "execution_count": null,
   "source": "",
   "id": "65ce1d1aa23dc79b"
  }
 ],
 "metadata": {
  "kernelspec": {
   "display_name": "Python 3",
   "language": "python",
   "name": "python3"
  },
  "language_info": {
   "codemirror_mode": {
    "name": "ipython",
    "version": 2
   },
   "file_extension": ".py",
   "mimetype": "text/x-python",
   "name": "python",
   "nbconvert_exporter": "python",
   "pygments_lexer": "ipython2",
   "version": "2.7.6"
  }
 },
 "nbformat": 4,
 "nbformat_minor": 5
}
