{
 "cells": [
  {
   "cell_type": "code",
   "id": "initial_id",
   "metadata": {
    "collapsed": true,
    "ExecuteTime": {
     "end_time": "2025-02-28T13:23:41.807079Z",
     "start_time": "2025-02-28T13:23:41.743219Z"
    }
   },
   "source": [
    "import os\n",
    "\n",
    "from dotenv import load_dotenv, find_dotenv\n",
    "_ = load_dotenv(find_dotenv())"
   ],
   "outputs": [],
   "execution_count": 1
  },
  {
   "metadata": {
    "ExecuteTime": {
     "end_time": "2025-02-28T13:25:39.152201Z",
     "start_time": "2025-02-28T13:25:39.147030Z"
    }
   },
   "cell_type": "code",
   "source": "llm_model=\"gemini-1.5-flash\"",
   "id": "694f7eb31388343d",
   "outputs": [],
   "execution_count": 2
  },
  {
   "metadata": {
    "ExecuteTime": {
     "end_time": "2025-02-28T13:41:14.165816Z",
     "start_time": "2025-02-28T13:41:14.143271Z"
    }
   },
   "cell_type": "code",
   "source": [
    "from langchain.chains import RetrievalQA\n",
    "from langchain_google_genai import ChatGoogleGenerativeAI\n",
    "from langchain.document_loaders import CSVLoader\n",
    "from langchain.indexes import VectorstoreIndexCreator\n",
    "from langchain.vectorstores import DocArrayInMemorySearch\n",
    "from langchain_google_genai import GoogleGenerativeAIEmbeddings"
   ],
   "id": "56fa2ba1c7cce916",
   "outputs": [],
   "execution_count": 10
  },
  {
   "metadata": {
    "ExecuteTime": {
     "end_time": "2025-02-28T13:41:17.263311Z",
     "start_time": "2025-02-28T13:41:17.183361Z"
    }
   },
   "cell_type": "code",
   "source": [
    "from langchain_community.document_loaders import CSVLoader\n",
    "\n",
    "file = 'OutdoorClothingCatalog_1000.csv'\n",
    "loader = CSVLoader(file_path=file, encoding=\"utf-8\")\n",
    "data = loader.load()\n"
   ],
   "id": "46fea10a9e24f1fd",
   "outputs": [],
   "execution_count": 11
  },
  {
   "metadata": {
    "ExecuteTime": {
     "end_time": "2025-02-28T13:45:52.895028Z",
     "start_time": "2025-02-28T13:44:58.024810Z"
    }
   },
   "cell_type": "code",
   "source": [
    "from langchain.indexes import VectorstoreIndexCreator\n",
    "from langchain_community.vectorstores import DocArrayInMemorySearch\n",
    "from langchain_google_genai import GoogleGenerativeAIEmbeddings\n",
    "\n",
    "# Initialize Google Gemini embedding model\n",
    "embedding_model = GoogleGenerativeAIEmbeddings(model=\"models/embedding-001\")\n",
    "\n",
    "# Create the index with the correct embedding model\n",
    "index = VectorstoreIndexCreator(\n",
    "    vectorstore_cls=DocArrayInMemorySearch,\n",
    "    embedding=embedding_model\n",
    ").from_loaders([loader])\n"
   ],
   "id": "b28d079995df6d2a",
   "outputs": [],
   "execution_count": 14
  },
  {
   "metadata": {
    "ExecuteTime": {
     "end_time": "2025-02-28T13:55:28.863742Z",
     "start_time": "2025-02-28T13:55:28.511861Z"
    }
   },
   "cell_type": "code",
   "source": [
    "llm = ChatGoogleGenerativeAI(temperature=0.0, model=llm_model)\n",
    "qa = RetrievalQA.from_chain_type(\n",
    "    llm=llm,\n",
    "    chain_type=\"stuff\",\n",
    "    retriever=index.vectorstore.as_retriever(),\n",
    "    verbose=True,\n",
    "    chain_type_kwargs={\n",
    "        \"document_separator\": \"<<<<>>>>\"\n",
    "    }\n",
    ")"
   ],
   "id": "74ed46689bcb0b40",
   "outputs": [],
   "execution_count": 15
  },
  {
   "metadata": {
    "ExecuteTime": {
     "end_time": "2025-02-28T13:55:52.307657Z",
     "start_time": "2025-02-28T13:55:52.233516Z"
    }
   },
   "cell_type": "code",
   "source": "data[10]",
   "id": "d06787b2e736ba1",
   "outputs": [
    {
     "data": {
      "text/plain": [
       "Document(metadata={'source': 'OutdoorClothingCatalog_1000.csv', 'row': 10}, page_content=\": 10\\nname: Cozy Comfort Pullover Set, Stripe\\ndescription: Perfect for lounging, this striped knit set lives up to its name. We used ultrasoft fabric and an easy design that's as comfortable at bedtime as it is when we have to make a quick run out.\\n\\nSize & Fit\\n- Pants are Favorite Fit: Sits lower on the waist.\\n- Relaxed Fit: Our most generous fit sits farthest from the body.\\n\\nFabric & Care\\n- In the softest blend of 63% polyester, 35% rayon and 2% spandex.\\n\\nAdditional Features\\n- Relaxed fit top with raglan sleeves and rounded hem.\\n- Pull-on pants have a wide elastic waistband and drawstring, side pockets and a modern slim leg.\\n\\nImported.\")"
      ]
     },
     "execution_count": 16,
     "metadata": {},
     "output_type": "execute_result"
    }
   ],
   "execution_count": 16
  },
  {
   "metadata": {
    "ExecuteTime": {
     "end_time": "2025-02-28T13:57:19.074061Z",
     "start_time": "2025-02-28T13:57:19.054436Z"
    }
   },
   "cell_type": "code",
   "source": "data[11]",
   "id": "c0026516c01a1ad1",
   "outputs": [
    {
     "data": {
      "text/plain": [
       "Document(metadata={'source': 'OutdoorClothingCatalog_1000.csv', 'row': 11}, page_content=': 11\\nname: Ultra-Lofty 850 Stretch Down Hooded Jacket\\ndescription: This technical stretch down jacket from our DownTek collection is sure to keep you warm and comfortable with its full-stretch construction providing exceptional range of motion. With a slightly fitted style that falls at the hip and best with a midweight layer, this jacket is suitable for light activity up to 20° and moderate activity up to -30°. The soft and durable 100% polyester shell offers complete windproof protection and is insulated with warm, lofty goose down. Other features include welded baffles for a no-stitch construction and excellent stretch, an adjustable hood, an interior media port and mesh stash pocket and a hem drawcord. Machine wash and dry. Imported.')"
      ]
     },
     "execution_count": 17,
     "metadata": {},
     "output_type": "execute_result"
    }
   ],
   "execution_count": 17
  },
  {
   "metadata": {
    "ExecuteTime": {
     "end_time": "2025-02-28T14:02:54.892805Z",
     "start_time": "2025-02-28T14:02:54.881376Z"
    }
   },
   "cell_type": "code",
   "source": [
    "examples = [\n",
    "    {\n",
    "        \"query\": \"Do the Cozy Comfort Pullover Set have side pockets?\",\n",
    "        \"answer\": \"Yes\"\n",
    "    },\n",
    "    {\n",
    "        \"query\": \"What collection is the Ultra-lofty 850 Stretch Down Hooded jacked from?\",\n",
    "        \"answer\": \"The DownTek collection\"\n",
    "    }\n",
    "]"
   ],
   "id": "be3d27d87254cb1b",
   "outputs": [],
   "execution_count": 18
  },
  {
   "metadata": {
    "ExecuteTime": {
     "end_time": "2025-02-28T14:06:33.516578Z",
     "start_time": "2025-02-28T14:06:31.182265Z"
    }
   },
   "cell_type": "code",
   "source": "from langchain.evaluation.qa import QAGenerateChain",
   "id": "9bb6aa6c6f283b22",
   "outputs": [],
   "execution_count": 19
  },
  {
   "metadata": {
    "ExecuteTime": {
     "end_time": "2025-02-28T14:07:55.602475Z",
     "start_time": "2025-02-28T14:07:55.540905Z"
    }
   },
   "cell_type": "code",
   "source": "example_gen_chain = QAGenerateChain.from_llm(ChatGoogleGenerativeAI(model=llm_model))",
   "id": "8f8a33ffeae5a2c",
   "outputs": [],
   "execution_count": 20
  },
  {
   "metadata": {
    "ExecuteTime": {
     "end_time": "2025-02-28T14:09:30.603630Z",
     "start_time": "2025-02-28T14:09:23.611978Z"
    }
   },
   "cell_type": "code",
   "source": [
    "new_examples = example_gen_chain.apply_and_parse(\n",
    "    [{\"doc\":t} for t in data[:5]]\n",
    ")"
   ],
   "id": "290481c3e82c3c0e",
   "outputs": [
    {
     "name": "stderr",
     "output_type": "stream",
     "text": [
      "C:\\Users\\isuru\\anaconda3\\Lib\\site-packages\\langchain\\chains\\llm.py:369: UserWarning: The apply_and_parse method is deprecated, instead pass an output parser directly to LLMChain.\n",
      "  warnings.warn(\n"
     ]
    }
   ],
   "execution_count": 21
  },
  {
   "metadata": {
    "ExecuteTime": {
     "end_time": "2025-02-28T14:10:19.867941Z",
     "start_time": "2025-02-28T14:10:19.803798Z"
    }
   },
   "cell_type": "code",
   "source": "new_examples[0]",
   "id": "45431d771197ae26",
   "outputs": [
    {
     "data": {
      "text/plain": [
       "{'qa_pairs': {'query': 'According to the product description, what specific features contribute to the \"broken-in feel\" of the Women\\'s Campside Oxfords?',\n",
       "  'answer': 'The \"broken-in feel\" of the Women\\'s Campside Oxfords is attributed to the ultra-soft canvas material and the thick cushioning.'}}"
      ]
     },
     "execution_count": 22,
     "metadata": {},
     "output_type": "execute_result"
    }
   ],
   "execution_count": 22
  },
  {
   "metadata": {},
   "cell_type": "code",
   "outputs": [],
   "execution_count": null,
   "source": "",
   "id": "7f358d3a0fc70272"
  }
 ],
 "metadata": {
  "kernelspec": {
   "display_name": "Python 3",
   "language": "python",
   "name": "python3"
  },
  "language_info": {
   "codemirror_mode": {
    "name": "ipython",
    "version": 2
   },
   "file_extension": ".py",
   "mimetype": "text/x-python",
   "name": "python",
   "nbconvert_exporter": "python",
   "pygments_lexer": "ipython2",
   "version": "2.7.6"
  }
 },
 "nbformat": 4,
 "nbformat_minor": 5
}
