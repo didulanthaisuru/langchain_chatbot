{
 "cells": [
  {
   "cell_type": "code",
   "id": "initial_id",
   "metadata": {
    "collapsed": true,
    "ExecuteTime": {
     "end_time": "2025-02-19T13:17:28.904568Z",
     "start_time": "2025-02-19T13:17:28.881713Z"
    }
   },
   "source": [
    "import os\n",
    "\n",
    "from dotenv import load_dotenv,find_dotenv\n",
    "_=load_dotenv(find_dotenv())\n",
    "\n",
    "import warnings\n",
    "warnings.filterwarnings('ignore')"
   ],
   "outputs": [],
   "execution_count": 1
  },
  {
   "metadata": {
    "ExecuteTime": {
     "end_time": "2025-02-19T13:22:15.322270Z",
     "start_time": "2025-02-19T13:22:15.256643Z"
    }
   },
   "cell_type": "code",
   "source": "llm_model=\"gemini-1.5-flash\"",
   "id": "9dbbdffe5009110f",
   "outputs": [],
   "execution_count": 2
  },
  {
   "metadata": {
    "ExecuteTime": {
     "end_time": "2025-02-19T13:32:41.076911Z",
     "start_time": "2025-02-19T13:32:38.775016Z"
    }
   },
   "cell_type": "code",
   "source": "from langchain_google_genai import ChatGoogleGenerativeAI",
   "id": "38f53347a4aaa029",
   "outputs": [],
   "execution_count": 6
  },
  {
   "metadata": {
    "ExecuteTime": {
     "end_time": "2025-02-19T13:39:42.674952Z",
     "start_time": "2025-02-19T13:39:41.940315Z"
    }
   },
   "cell_type": "code",
   "source": [
    "from langchain.chains import ConversationChain\n",
    "from langchain.memory import ConversationBufferMemory"
   ],
   "id": "eaba4a586947f34d",
   "outputs": [],
   "execution_count": 7
  },
  {
   "metadata": {
    "ExecuteTime": {
     "end_time": "2025-02-19T13:46:38.118900Z",
     "start_time": "2025-02-19T13:46:38.069313Z"
    }
   },
   "cell_type": "code",
   "source": [
    "llm=ChatGoogleGenerativeAI(temperature=0.0,model=llm_model)\n",
    "memory=ConversationBufferMemory()\n",
    "conversation=ConversationChain(\n",
    "    llm=llm,\n",
    "    memory=memory,\n",
    "    verbose=True\n",
    ")"
   ],
   "id": "63802f241bfc162b",
   "outputs": [],
   "execution_count": 9
  },
  {
   "metadata": {
    "ExecuteTime": {
     "end_time": "2025-02-19T13:51:33.452139Z",
     "start_time": "2025-02-19T13:51:30.672761Z"
    }
   },
   "cell_type": "code",
   "source": "conversation.predict(input=\"Hi,my name is Andrew\")",
   "id": "ac8dd7259afbccb6",
   "outputs": [
    {
     "name": "stdout",
     "output_type": "stream",
     "text": [
      "\n",
      "\n",
      "\u001B[1m> Entering new ConversationChain chain...\u001B[0m\n",
      "Prompt after formatting:\n",
      "\u001B[32;1m\u001B[1;3mThe following is a friendly conversation between a human and an AI. The AI is talkative and provides lots of specific details from its context. If the AI does not know the answer to a question, it truthfully says it does not know.\n",
      "\n",
      "Current conversation:\n",
      "\n",
      "Human: Hi,my name is Andrew\n",
      "AI:\u001B[0m\n",
      "\n",
      "\u001B[1m> Finished chain.\u001B[0m\n"
     ]
    },
    {
     "data": {
      "text/plain": [
       "'Hi Andrew! It\\'s nice to meet you.  My name isn\\'t really a \"name\" in the human sense, as I don\\'t have a personal identity like you do.  I\\'m a large language model, trained by Google.  I don\\'t have feelings or experiences, but I can access and process information from a massive dataset of text and code.  Think of me as a really advanced research assistant who can answer your questions and generate text in various styles.  So, what can I help you with today?'"
      ]
     },
     "execution_count": 10,
     "metadata": {},
     "output_type": "execute_result"
    }
   ],
   "execution_count": 10
  },
  {
   "metadata": {
    "ExecuteTime": {
     "end_time": "2025-02-19T13:52:56.150786Z",
     "start_time": "2025-02-19T13:52:55.227512Z"
    }
   },
   "cell_type": "code",
   "source": "conversation.predict(input=\"What is 1+1?\")",
   "id": "edb717e7787dc2c3",
   "outputs": [
    {
     "name": "stdout",
     "output_type": "stream",
     "text": [
      "\n",
      "\n",
      "\u001B[1m> Entering new ConversationChain chain...\u001B[0m\n",
      "Prompt after formatting:\n",
      "\u001B[32;1m\u001B[1;3mThe following is a friendly conversation between a human and an AI. The AI is talkative and provides lots of specific details from its context. If the AI does not know the answer to a question, it truthfully says it does not know.\n",
      "\n",
      "Current conversation:\n",
      "Human: Hi,my name is Andrew\n",
      "AI: Hi Andrew! It's nice to meet you.  My name isn't really a \"name\" in the human sense, as I don't have a personal identity like you do.  I'm a large language model, trained by Google.  I don't have feelings or experiences, but I can access and process information from a massive dataset of text and code.  Think of me as a really advanced research assistant who can answer your questions and generate text in various styles.  So, what can I help you with today?\n",
      "Human: What is 1+1?\n",
      "AI:\u001B[0m\n",
      "\n",
      "\u001B[1m> Finished chain.\u001B[0m\n"
     ]
    },
    {
     "data": {
      "text/plain": [
       "\"1 + 1 = 2.  That's a pretty straightforward calculation!  My training data includes a vast amount of mathematical information, so even simple arithmetic problems like this are easily within my capabilities.  Is there anything else I can help you with? Perhaps a more complex equation, or something completely different?\""
      ]
     },
     "execution_count": 11,
     "metadata": {},
     "output_type": "execute_result"
    }
   ],
   "execution_count": 11
  },
  {
   "metadata": {
    "ExecuteTime": {
     "end_time": "2025-02-19T13:55:17.931029Z",
     "start_time": "2025-02-19T13:55:17.063787Z"
    }
   },
   "cell_type": "code",
   "source": "conversation.predict(input=\"What is my name?\")",
   "id": "7e05d16ef757828",
   "outputs": [
    {
     "name": "stdout",
     "output_type": "stream",
     "text": [
      "\n",
      "\n",
      "\u001B[1m> Entering new ConversationChain chain...\u001B[0m\n",
      "Prompt after formatting:\n",
      "\u001B[32;1m\u001B[1;3mThe following is a friendly conversation between a human and an AI. The AI is talkative and provides lots of specific details from its context. If the AI does not know the answer to a question, it truthfully says it does not know.\n",
      "\n",
      "Current conversation:\n",
      "Human: Hi,my name is Andrew\n",
      "AI: Hi Andrew! It's nice to meet you.  My name isn't really a \"name\" in the human sense, as I don't have a personal identity like you do.  I'm a large language model, trained by Google.  I don't have feelings or experiences, but I can access and process information from a massive dataset of text and code.  Think of me as a really advanced research assistant who can answer your questions and generate text in various styles.  So, what can I help you with today?\n",
      "Human: What is 1+1?\n",
      "AI: 1 + 1 = 2.  That's a pretty straightforward calculation!  My training data includes a vast amount of mathematical information, so even simple arithmetic problems like this are easily within my capabilities.  Is there anything else I can help you with? Perhaps a more complex equation, or something completely different?\n",
      "Human: What is my name?\n",
      "AI:\u001B[0m\n",
      "\n",
      "\u001B[1m> Finished chain.\u001B[0m\n"
     ]
    },
    {
     "data": {
      "text/plain": [
       "\"Your name is Andrew.  We established that at the beginning of our conversation.  I have a good memory (within the constraints of my current session, of course!), and I'm able to retain information from our interaction.  Is there anything else I can assist you with?\""
      ]
     },
     "execution_count": 12,
     "metadata": {},
     "output_type": "execute_result"
    }
   ],
   "execution_count": 12
  },
  {
   "metadata": {
    "ExecuteTime": {
     "end_time": "2025-02-19T13:55:45.989875Z",
     "start_time": "2025-02-19T13:55:45.981366Z"
    }
   },
   "cell_type": "code",
   "source": "print(memory.buffer)",
   "id": "3930df0e23780bc9",
   "outputs": [
    {
     "name": "stdout",
     "output_type": "stream",
     "text": [
      "Human: Hi,my name is Andrew\n",
      "AI: Hi Andrew! It's nice to meet you.  My name isn't really a \"name\" in the human sense, as I don't have a personal identity like you do.  I'm a large language model, trained by Google.  I don't have feelings or experiences, but I can access and process information from a massive dataset of text and code.  Think of me as a really advanced research assistant who can answer your questions and generate text in various styles.  So, what can I help you with today?\n",
      "Human: What is 1+1?\n",
      "AI: 1 + 1 = 2.  That's a pretty straightforward calculation!  My training data includes a vast amount of mathematical information, so even simple arithmetic problems like this are easily within my capabilities.  Is there anything else I can help you with? Perhaps a more complex equation, or something completely different?\n",
      "Human: What is my name?\n",
      "AI: Your name is Andrew.  We established that at the beginning of our conversation.  I have a good memory (within the constraints of my current session, of course!), and I'm able to retain information from our interaction.  Is there anything else I can assist you with?\n"
     ]
    }
   ],
   "execution_count": 13
  },
  {
   "metadata": {
    "ExecuteTime": {
     "end_time": "2025-02-19T15:45:21.519342Z",
     "start_time": "2025-02-19T15:45:21.437284Z"
    }
   },
   "cell_type": "code",
   "source": "memory.load_memory_variables({})",
   "id": "bc5e76990dad718d",
   "outputs": [
    {
     "data": {
      "text/plain": [
       "{'history': 'Human: Hi,my name is Andrew\\nAI: Hi Andrew! It\\'s nice to meet you.  My name isn\\'t really a \"name\" in the human sense, as I don\\'t have a personal identity like you do.  I\\'m a large language model, trained by Google.  I don\\'t have feelings or experiences, but I can access and process information from a massive dataset of text and code.  Think of me as a really advanced research assistant who can answer your questions and generate text in various styles.  So, what can I help you with today?\\nHuman: What is 1+1?\\nAI: 1 + 1 = 2.  That\\'s a pretty straightforward calculation!  My training data includes a vast amount of mathematical information, so even simple arithmetic problems like this are easily within my capabilities.  Is there anything else I can help you with? Perhaps a more complex equation, or something completely different?\\nHuman: What is my name?\\nAI: Your name is Andrew.  We established that at the beginning of our conversation.  I have a good memory (within the constraints of my current session, of course!), and I\\'m able to retain information from our interaction.  Is there anything else I can assist you with?'}"
      ]
     },
     "execution_count": 14,
     "metadata": {},
     "output_type": "execute_result"
    }
   ],
   "execution_count": 14
  },
  {
   "metadata": {
    "ExecuteTime": {
     "end_time": "2025-02-19T15:45:47.746347Z",
     "start_time": "2025-02-19T15:45:47.726369Z"
    }
   },
   "cell_type": "code",
   "source": "memory=ConversationBufferMemory()",
   "id": "f0ca4b0201404c1f",
   "outputs": [],
   "execution_count": 15
  },
  {
   "metadata": {
    "ExecuteTime": {
     "end_time": "2025-02-19T15:47:02.638997Z",
     "start_time": "2025-02-19T15:47:02.619663Z"
    }
   },
   "cell_type": "code",
   "source": [
    "memory.save_context({\"input\":\"Hi\"},\n",
    "                    {\"output\":\"What's up\"})"
   ],
   "id": "139e5cff60f6542",
   "outputs": [],
   "execution_count": 16
  },
  {
   "metadata": {
    "ExecuteTime": {
     "end_time": "2025-02-19T15:47:14.247210Z",
     "start_time": "2025-02-19T15:47:14.236234Z"
    }
   },
   "cell_type": "code",
   "source": "print(memory.buffer)",
   "id": "6688d39cc236fa61",
   "outputs": [
    {
     "name": "stdout",
     "output_type": "stream",
     "text": [
      "Human: Hi\n",
      "AI: What's up\n"
     ]
    }
   ],
   "execution_count": 17
  },
  {
   "metadata": {
    "ExecuteTime": {
     "end_time": "2025-02-19T15:47:27.274752Z",
     "start_time": "2025-02-19T15:47:27.260718Z"
    }
   },
   "cell_type": "code",
   "source": "memory.load_memory_variables({})",
   "id": "f5ec5adb15976d85",
   "outputs": [
    {
     "data": {
      "text/plain": [
       "{'history': \"Human: Hi\\nAI: What's up\"}"
      ]
     },
     "execution_count": 18,
     "metadata": {},
     "output_type": "execute_result"
    }
   ],
   "execution_count": 18
  },
  {
   "metadata": {
    "ExecuteTime": {
     "end_time": "2025-02-19T15:48:33.681144Z",
     "start_time": "2025-02-19T15:48:33.673184Z"
    }
   },
   "cell_type": "code",
   "source": [
    "memory.save_context({\"input\":\"Not much,just hanging\"},\n",
    "                    {\"output\":\"Cool\"})"
   ],
   "id": "1bcc8e5bc338ddf4",
   "outputs": [],
   "execution_count": 19
  },
  {
   "metadata": {
    "ExecuteTime": {
     "end_time": "2025-02-19T15:48:55.758379Z",
     "start_time": "2025-02-19T15:48:55.748508Z"
    }
   },
   "cell_type": "code",
   "source": "memory.load_memory_variables({})",
   "id": "be9eaf51d2807b01",
   "outputs": [
    {
     "data": {
      "text/plain": [
       "{'history': \"Human: Hi\\nAI: What's up\\nHuman: Not much,just hanging\\nAI: Cool\"}"
      ]
     },
     "execution_count": 20,
     "metadata": {},
     "output_type": "execute_result"
    }
   ],
   "execution_count": 20
  },
  {
   "metadata": {
    "ExecuteTime": {
     "end_time": "2025-02-20T05:21:19.421597Z",
     "start_time": "2025-02-20T05:21:19.374972Z"
    }
   },
   "cell_type": "code",
   "source": [
    "memory.save_context({\"input\":\"Not much,just hanging\"},\n",
    "                    {\"output\":\"Cool\"})"
   ],
   "id": "1d6a1077b19c0789",
   "outputs": [],
   "execution_count": 21
  },
  {
   "metadata": {
    "ExecuteTime": {
     "end_time": "2025-02-20T05:21:37.367699Z",
     "start_time": "2025-02-20T05:21:37.353039Z"
    }
   },
   "cell_type": "code",
   "source": "memory.load_memory_variables({})",
   "id": "f0e871e349918851",
   "outputs": [
    {
     "data": {
      "text/plain": [
       "{'history': \"Human: Hi\\nAI: What's up\\nHuman: Not much,just hanging\\nAI: Cool\\nHuman: Not much,just hanging\\nAI: Cool\"}"
      ]
     },
     "execution_count": 22,
     "metadata": {},
     "output_type": "execute_result"
    }
   ],
   "execution_count": 22
  },
  {
   "metadata": {},
   "cell_type": "code",
   "outputs": [],
   "execution_count": null,
   "source": "",
   "id": "6773ee3340d64675"
  }
 ],
 "metadata": {
  "kernelspec": {
   "display_name": "Python 3",
   "language": "python",
   "name": "python3"
  },
  "language_info": {
   "codemirror_mode": {
    "name": "ipython",
    "version": 2
   },
   "file_extension": ".py",
   "mimetype": "text/x-python",
   "name": "python",
   "nbconvert_exporter": "python",
   "pygments_lexer": "ipython2",
   "version": "2.7.6"
  }
 },
 "nbformat": 4,
 "nbformat_minor": 5
}
