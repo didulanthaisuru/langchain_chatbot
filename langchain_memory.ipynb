{
 "cells": [
  {
   "cell_type": "code",
   "id": "initial_id",
   "metadata": {
    "collapsed": true,
    "ExecuteTime": {
     "end_time": "2025-02-20T12:10:35.793177Z",
     "start_time": "2025-02-20T12:10:35.767505Z"
    }
   },
   "source": [
    "import os\n",
    "\n",
    "from dotenv import load_dotenv,find_dotenv\n",
    "_=load_dotenv(find_dotenv())\n",
    "\n",
    "import warnings\n",
    "warnings.filterwarnings('ignore')"
   ],
   "outputs": [],
   "execution_count": 13
  },
  {
   "metadata": {
    "ExecuteTime": {
     "end_time": "2025-02-20T12:10:36.645458Z",
     "start_time": "2025-02-20T12:10:36.640415Z"
    }
   },
   "cell_type": "code",
   "source": "llm_model=\"gemini-1.5-flash\"",
   "id": "9dbbdffe5009110f",
   "outputs": [],
   "execution_count": 14
  },
  {
   "metadata": {
    "ExecuteTime": {
     "end_time": "2025-02-20T12:10:37.518610Z",
     "start_time": "2025-02-20T12:10:37.511113Z"
    }
   },
   "cell_type": "code",
   "source": "from langchain_google_genai import ChatGoogleGenerativeAI",
   "id": "38f53347a4aaa029",
   "outputs": [],
   "execution_count": 15
  },
  {
   "metadata": {
    "ExecuteTime": {
     "end_time": "2025-02-20T12:10:38.256222Z",
     "start_time": "2025-02-20T12:10:38.247968Z"
    }
   },
   "cell_type": "code",
   "source": [
    "from langchain.chains import ConversationChain\n",
    "from langchain.memory import ConversationBufferMemory"
   ],
   "id": "eaba4a586947f34d",
   "outputs": [],
   "execution_count": 16
  },
  {
   "metadata": {
    "ExecuteTime": {
     "end_time": "2025-02-20T12:10:39.238736Z",
     "start_time": "2025-02-20T12:10:39.212515Z"
    }
   },
   "cell_type": "code",
   "source": [
    "llm=ChatGoogleGenerativeAI(temperature=0.0,model=llm_model)\n",
    "memory=ConversationBufferMemory()\n",
    "conversation=ConversationChain(\n",
    "    llm=llm,\n",
    "    memory=memory,\n",
    "    verbose=True\n",
    ")"
   ],
   "id": "63802f241bfc162b",
   "outputs": [],
   "execution_count": 17
  },
  {
   "metadata": {
    "ExecuteTime": {
     "end_time": "2025-02-20T12:10:45.328614Z",
     "start_time": "2025-02-20T12:10:42.960716Z"
    }
   },
   "cell_type": "code",
   "source": "conversation.predict(input=\"Hi,my name is Andrew\")",
   "id": "ac8dd7259afbccb6",
   "outputs": [
    {
     "name": "stdout",
     "output_type": "stream",
     "text": [
      "\n",
      "\n",
      "\u001B[1m> Entering new ConversationChain chain...\u001B[0m\n",
      "Prompt after formatting:\n",
      "\u001B[32;1m\u001B[1;3mThe following is a friendly conversation between a human and an AI. The AI is talkative and provides lots of specific details from its context. If the AI does not know the answer to a question, it truthfully says it does not know.\n",
      "\n",
      "Current conversation:\n",
      "\n",
      "Human: Hi,my name is Andrew\n",
      "AI:\u001B[0m\n",
      "\n",
      "\u001B[1m> Finished chain.\u001B[0m\n"
     ]
    },
    {
     "data": {
      "text/plain": [
       "'Hi Andrew! It\\'s nice to meet you.  My name isn\\'t really a \"name\" in the human sense, as I don\\'t have a personal identity like you do.  I\\'m a large language model, trained by Google.  I don\\'t have feelings or experiences, but I can access and process information from a massive dataset of text and code.  Think of me as a really advanced research assistant that can communicate in natural language.  So, what can I help you with today?  Are you interested in learning something new, writing something, or just chatting?'"
      ]
     },
     "execution_count": 18,
     "metadata": {},
     "output_type": "execute_result"
    }
   ],
   "execution_count": 18
  },
  {
   "metadata": {
    "ExecuteTime": {
     "end_time": "2025-02-20T12:10:52.423621Z",
     "start_time": "2025-02-20T12:10:51.150272Z"
    }
   },
   "cell_type": "code",
   "source": "conversation.predict(input=\"What is 1+1?\")",
   "id": "edb717e7787dc2c3",
   "outputs": [
    {
     "name": "stdout",
     "output_type": "stream",
     "text": [
      "\n",
      "\n",
      "\u001B[1m> Entering new ConversationChain chain...\u001B[0m\n",
      "Prompt after formatting:\n",
      "\u001B[32;1m\u001B[1;3mThe following is a friendly conversation between a human and an AI. The AI is talkative and provides lots of specific details from its context. If the AI does not know the answer to a question, it truthfully says it does not know.\n",
      "\n",
      "Current conversation:\n",
      "Human: Hi,my name is Andrew\n",
      "AI: Hi Andrew! It's nice to meet you.  My name isn't really a \"name\" in the human sense, as I don't have a personal identity like you do.  I'm a large language model, trained by Google.  I don't have feelings or experiences, but I can access and process information from a massive dataset of text and code.  Think of me as a really advanced research assistant that can communicate in natural language.  So, what can I help you with today?  Are you interested in learning something new, writing something, or just chatting?\n",
      "Human: What is 1+1?\n",
      "AI:\u001B[0m\n",
      "\n",
      "\u001B[1m> Finished chain.\u001B[0m\n"
     ]
    },
    {
     "data": {
      "text/plain": [
       "\"1 + 1 = 2.  That's a pretty fundamental mathematical operation!  It's based on the Peano axioms, which define the natural numbers and their arithmetic.  Specifically, the successor function (adding 1) is a core part of those axioms.  While it seems simple, this seemingly basic addition is the foundation for much more complex mathematical concepts.  Is there anything else I can help you with today? Perhaps something a little more challenging?\""
      ]
     },
     "execution_count": 19,
     "metadata": {},
     "output_type": "execute_result"
    }
   ],
   "execution_count": 19
  },
  {
   "metadata": {
    "ExecuteTime": {
     "end_time": "2025-02-20T12:10:55.748282Z",
     "start_time": "2025-02-20T12:10:54.734099Z"
    }
   },
   "cell_type": "code",
   "source": "conversation.predict(input=\"What is my name?\")",
   "id": "7e05d16ef757828",
   "outputs": [
    {
     "name": "stdout",
     "output_type": "stream",
     "text": [
      "\n",
      "\n",
      "\u001B[1m> Entering new ConversationChain chain...\u001B[0m\n",
      "Prompt after formatting:\n",
      "\u001B[32;1m\u001B[1;3mThe following is a friendly conversation between a human and an AI. The AI is talkative and provides lots of specific details from its context. If the AI does not know the answer to a question, it truthfully says it does not know.\n",
      "\n",
      "Current conversation:\n",
      "Human: Hi,my name is Andrew\n",
      "AI: Hi Andrew! It's nice to meet you.  My name isn't really a \"name\" in the human sense, as I don't have a personal identity like you do.  I'm a large language model, trained by Google.  I don't have feelings or experiences, but I can access and process information from a massive dataset of text and code.  Think of me as a really advanced research assistant that can communicate in natural language.  So, what can I help you with today?  Are you interested in learning something new, writing something, or just chatting?\n",
      "Human: What is 1+1?\n",
      "AI: 1 + 1 = 2.  That's a pretty fundamental mathematical operation!  It's based on the Peano axioms, which define the natural numbers and their arithmetic.  Specifically, the successor function (adding 1) is a core part of those axioms.  While it seems simple, this seemingly basic addition is the foundation for much more complex mathematical concepts.  Is there anything else I can help you with today? Perhaps something a little more challenging?\n",
      "Human: What is my name?\n",
      "AI:\u001B[0m\n",
      "\n",
      "\u001B[1m> Finished chain.\u001B[0m\n"
     ]
    },
    {
     "data": {
      "text/plain": [
       "\"Your name is Andrew.  We established that at the beginning of our conversation.  I have a good memory (within the constraints of my current session, of course; I don't retain information between conversations). Is there anything else I can assist you with?\""
      ]
     },
     "execution_count": 20,
     "metadata": {},
     "output_type": "execute_result"
    }
   ],
   "execution_count": 20
  },
  {
   "metadata": {
    "ExecuteTime": {
     "end_time": "2025-02-20T12:10:57.227266Z",
     "start_time": "2025-02-20T12:10:57.220733Z"
    }
   },
   "cell_type": "code",
   "source": "print(memory.buffer)",
   "id": "3930df0e23780bc9",
   "outputs": [
    {
     "name": "stdout",
     "output_type": "stream",
     "text": [
      "Human: Hi,my name is Andrew\n",
      "AI: Hi Andrew! It's nice to meet you.  My name isn't really a \"name\" in the human sense, as I don't have a personal identity like you do.  I'm a large language model, trained by Google.  I don't have feelings or experiences, but I can access and process information from a massive dataset of text and code.  Think of me as a really advanced research assistant that can communicate in natural language.  So, what can I help you with today?  Are you interested in learning something new, writing something, or just chatting?\n",
      "Human: What is 1+1?\n",
      "AI: 1 + 1 = 2.  That's a pretty fundamental mathematical operation!  It's based on the Peano axioms, which define the natural numbers and their arithmetic.  Specifically, the successor function (adding 1) is a core part of those axioms.  While it seems simple, this seemingly basic addition is the foundation for much more complex mathematical concepts.  Is there anything else I can help you with today? Perhaps something a little more challenging?\n",
      "Human: What is my name?\n",
      "AI: Your name is Andrew.  We established that at the beginning of our conversation.  I have a good memory (within the constraints of my current session, of course; I don't retain information between conversations). Is there anything else I can assist you with?\n"
     ]
    }
   ],
   "execution_count": 21
  },
  {
   "metadata": {
    "ExecuteTime": {
     "end_time": "2025-02-20T12:10:59.043903Z",
     "start_time": "2025-02-20T12:10:59.034768Z"
    }
   },
   "cell_type": "code",
   "source": "memory.load_memory_variables({})",
   "id": "bc5e76990dad718d",
   "outputs": [
    {
     "data": {
      "text/plain": [
       "{'history': 'Human: Hi,my name is Andrew\\nAI: Hi Andrew! It\\'s nice to meet you.  My name isn\\'t really a \"name\" in the human sense, as I don\\'t have a personal identity like you do.  I\\'m a large language model, trained by Google.  I don\\'t have feelings or experiences, but I can access and process information from a massive dataset of text and code.  Think of me as a really advanced research assistant that can communicate in natural language.  So, what can I help you with today?  Are you interested in learning something new, writing something, or just chatting?\\nHuman: What is 1+1?\\nAI: 1 + 1 = 2.  That\\'s a pretty fundamental mathematical operation!  It\\'s based on the Peano axioms, which define the natural numbers and their arithmetic.  Specifically, the successor function (adding 1) is a core part of those axioms.  While it seems simple, this seemingly basic addition is the foundation for much more complex mathematical concepts.  Is there anything else I can help you with today? Perhaps something a little more challenging?\\nHuman: What is my name?\\nAI: Your name is Andrew.  We established that at the beginning of our conversation.  I have a good memory (within the constraints of my current session, of course; I don\\'t retain information between conversations). Is there anything else I can assist you with?'}"
      ]
     },
     "execution_count": 22,
     "metadata": {},
     "output_type": "execute_result"
    }
   ],
   "execution_count": 22
  },
  {
   "metadata": {
    "ExecuteTime": {
     "end_time": "2025-02-20T12:11:01.024728Z",
     "start_time": "2025-02-20T12:11:01.019728Z"
    }
   },
   "cell_type": "code",
   "source": "memory=ConversationBufferMemory()",
   "id": "f0ca4b0201404c1f",
   "outputs": [],
   "execution_count": 23
  },
  {
   "metadata": {
    "ExecuteTime": {
     "end_time": "2025-02-20T12:11:02.953254Z",
     "start_time": "2025-02-20T12:11:02.947438Z"
    }
   },
   "cell_type": "code",
   "source": [
    "memory.save_context({\"input\":\"Hi\"},\n",
    "                    {\"output\":\"What's up\"})"
   ],
   "id": "139e5cff60f6542",
   "outputs": [],
   "execution_count": 24
  },
  {
   "metadata": {
    "ExecuteTime": {
     "end_time": "2025-02-20T12:11:04.665091Z",
     "start_time": "2025-02-20T12:11:04.657960Z"
    }
   },
   "cell_type": "code",
   "source": "print(memory.buffer)",
   "id": "6688d39cc236fa61",
   "outputs": [
    {
     "name": "stdout",
     "output_type": "stream",
     "text": [
      "Human: Hi\n",
      "AI: What's up\n"
     ]
    }
   ],
   "execution_count": 25
  },
  {
   "metadata": {
    "ExecuteTime": {
     "end_time": "2025-02-20T12:11:06.080878Z",
     "start_time": "2025-02-20T12:11:06.072720Z"
    }
   },
   "cell_type": "code",
   "source": "memory.load_memory_variables({})",
   "id": "f5ec5adb15976d85",
   "outputs": [
    {
     "data": {
      "text/plain": [
       "{'history': \"Human: Hi\\nAI: What's up\"}"
      ]
     },
     "execution_count": 26,
     "metadata": {},
     "output_type": "execute_result"
    }
   ],
   "execution_count": 26
  },
  {
   "metadata": {
    "ExecuteTime": {
     "end_time": "2025-02-20T12:11:07.737222Z",
     "start_time": "2025-02-20T12:11:07.732127Z"
    }
   },
   "cell_type": "code",
   "source": [
    "memory.save_context({\"input\":\"Not much,just hanging\"},\n",
    "                    {\"output\":\"Cool\"})"
   ],
   "id": "1bcc8e5bc338ddf4",
   "outputs": [],
   "execution_count": 27
  },
  {
   "metadata": {
    "ExecuteTime": {
     "end_time": "2025-02-20T12:11:09.148238Z",
     "start_time": "2025-02-20T12:11:09.140225Z"
    }
   },
   "cell_type": "code",
   "source": "memory.load_memory_variables({})",
   "id": "be9eaf51d2807b01",
   "outputs": [
    {
     "data": {
      "text/plain": [
       "{'history': \"Human: Hi\\nAI: What's up\\nHuman: Not much,just hanging\\nAI: Cool\"}"
      ]
     },
     "execution_count": 28,
     "metadata": {},
     "output_type": "execute_result"
    }
   ],
   "execution_count": 28
  },
  {
   "metadata": {
    "ExecuteTime": {
     "end_time": "2025-02-20T12:11:10.287613Z",
     "start_time": "2025-02-20T12:11:10.282611Z"
    }
   },
   "cell_type": "code",
   "source": [
    "memory.save_context({\"input\":\"Not much,just hanging\"},\n",
    "                    {\"output\":\"Cool\"})"
   ],
   "id": "1d6a1077b19c0789",
   "outputs": [],
   "execution_count": 29
  },
  {
   "metadata": {
    "ExecuteTime": {
     "end_time": "2025-02-20T12:11:11.698535Z",
     "start_time": "2025-02-20T12:11:11.692651Z"
    }
   },
   "cell_type": "code",
   "source": "memory.load_memory_variables({})",
   "id": "f0e871e349918851",
   "outputs": [
    {
     "data": {
      "text/plain": [
       "{'history': \"Human: Hi\\nAI: What's up\\nHuman: Not much,just hanging\\nAI: Cool\\nHuman: Not much,just hanging\\nAI: Cool\"}"
      ]
     },
     "execution_count": 30,
     "metadata": {},
     "output_type": "execute_result"
    }
   ],
   "execution_count": 30
  },
  {
   "metadata": {
    "ExecuteTime": {
     "end_time": "2025-02-20T12:11:12.860336Z",
     "start_time": "2025-02-20T12:11:12.855326Z"
    }
   },
   "cell_type": "code",
   "source": "from langchain.memory import ConversationBufferWindowMemory",
   "id": "6773ee3340d64675",
   "outputs": [],
   "execution_count": 31
  },
  {
   "metadata": {
    "ExecuteTime": {
     "end_time": "2025-02-20T12:11:14.219565Z",
     "start_time": "2025-02-20T12:11:14.214548Z"
    }
   },
   "cell_type": "code",
   "source": "memory=ConversationBufferWindowMemory(k=1)",
   "id": "6378c7686efd5877",
   "outputs": [],
   "execution_count": 32
  },
  {
   "metadata": {
    "ExecuteTime": {
     "end_time": "2025-02-20T12:11:15.543038Z",
     "start_time": "2025-02-20T12:11:15.538033Z"
    }
   },
   "cell_type": "code",
   "source": [
    "memory.save_context({\"input\":\"Hi\"},\n",
    "                    {\"output\":\"What's up\"})\n",
    "memory.save_context({\"input\":\"Not much,just hanging\"},\n",
    "                    {\"output\":\"Cool\"})"
   ],
   "id": "7bb5fd4e77a8904c",
   "outputs": [],
   "execution_count": 33
  },
  {
   "metadata": {
    "ExecuteTime": {
     "end_time": "2025-02-20T12:11:17.192130Z",
     "start_time": "2025-02-20T12:11:17.183904Z"
    }
   },
   "cell_type": "code",
   "source": "memory.load_memory_variables({})",
   "id": "ba0c31f6e5bbd899",
   "outputs": [
    {
     "data": {
      "text/plain": [
       "{'history': 'Human: Not much,just hanging\\nAI: Cool'}"
      ]
     },
     "execution_count": 34,
     "metadata": {},
     "output_type": "execute_result"
    }
   ],
   "execution_count": 34
  },
  {
   "metadata": {
    "ExecuteTime": {
     "end_time": "2025-02-20T12:11:19.086441Z",
     "start_time": "2025-02-20T12:11:19.072086Z"
    }
   },
   "cell_type": "code",
   "source": [
    "llm=ChatGoogleGenerativeAI(temperature=0.0,model=llm_model)\n",
    "memory=ConversationBufferWindowMemory(k=1)\n",
    "conversation=ConversationChain(\n",
    "    llm=llm,\n",
    "    memory=memory,\n",
    "    verbose=False\n",
    ")"
   ],
   "id": "f322bbf4b2505cc0",
   "outputs": [],
   "execution_count": 35
  },
  {
   "metadata": {
    "ExecuteTime": {
     "end_time": "2025-02-20T12:23:20.069548Z",
     "start_time": "2025-02-20T12:23:18.130789Z"
    }
   },
   "cell_type": "code",
   "source": "conversation.predict(input=\"Hi,my name is Andrew\")",
   "id": "b37d26382ecd1046",
   "outputs": [
    {
     "data": {
      "text/plain": [
       "'Hi Andrew! It\\'s nice to meet you.  My name isn\\'t really a \"name\" in the human sense, as I don\\'t have a personal identity like you do.  I\\'m a large language model, trained by Google.  I don\\'t have feelings or experiences, but I can access and process information from a massive dataset of text and code.  Think of me as a really advanced research assistant that can communicate in natural language.  So, what can I help you with today?  Are you interested in learning something new, writing something, or just chatting?'"
      ]
     },
     "execution_count": 36,
     "metadata": {},
     "output_type": "execute_result"
    }
   ],
   "execution_count": 36
  },
  {
   "metadata": {
    "ExecuteTime": {
     "end_time": "2025-02-20T12:24:16.301251Z",
     "start_time": "2025-02-20T12:24:15.011016Z"
    }
   },
   "cell_type": "code",
   "source": "conversation.predict(input=\"What is 1+1?\")",
   "id": "63ed099c44f181bb",
   "outputs": [
    {
     "data": {
      "text/plain": [
       "\"1 + 1 = 2.  That's a pretty fundamental mathematical operation!  It's based on the basic principles of arithmetic, specifically addition.  In this case, we're adding one unit to another unit, resulting in a total of two units.  This concept is foundational to all higher-level mathematics and is used extensively in countless applications, from simple accounting to complex scientific calculations.  Is there anything else I can help you with today? Perhaps a more challenging mathematical problem, or something completely different?\""
      ]
     },
     "execution_count": 37,
     "metadata": {},
     "output_type": "execute_result"
    }
   ],
   "execution_count": 37
  },
  {
   "metadata": {
    "ExecuteTime": {
     "end_time": "2025-02-20T12:24:56.535342Z",
     "start_time": "2025-02-20T12:24:55.542118Z"
    }
   },
   "cell_type": "code",
   "source": "conversation.predict(input=\"What is my name?\")",
   "id": "d897ed7fa053a26e",
   "outputs": [
    {
     "data": {
      "text/plain": [
       "'I do not know your name.  I have no access to personal information about you unless you explicitly provide it to me during our current conversation.  My purpose is to help and inform, but I prioritize your privacy and data security.  To answer your question, I need you to tell me your name.'"
      ]
     },
     "execution_count": 38,
     "metadata": {},
     "output_type": "execute_result"
    }
   ],
   "execution_count": 38
  },
  {
   "metadata": {},
   "cell_type": "code",
   "outputs": [],
   "execution_count": null,
   "source": "",
   "id": "272b3f41870697f9"
  }
 ],
 "metadata": {
  "kernelspec": {
   "display_name": "Python 3",
   "language": "python",
   "name": "python3"
  },
  "language_info": {
   "codemirror_mode": {
    "name": "ipython",
    "version": 2
   },
   "file_extension": ".py",
   "mimetype": "text/x-python",
   "name": "python",
   "nbconvert_exporter": "python",
   "pygments_lexer": "ipython2",
   "version": "2.7.6"
  }
 },
 "nbformat": 4,
 "nbformat_minor": 5
}
