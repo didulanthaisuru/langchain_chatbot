{
 "cells": [
  {
   "cell_type": "code",
   "id": "initial_id",
   "metadata": {
    "collapsed": true,
    "ExecuteTime": {
     "end_time": "2025-02-21T17:49:47.092609Z",
     "start_time": "2025-02-21T17:49:47.063836Z"
    }
   },
   "source": [
    "import os\n",
    "\n",
    "from dotenv import load_dotenv,find_dotenv\n",
    "_=load_dotenv(find_dotenv())\n",
    "\n",
    "import warnings\n",
    "warnings.filterwarnings('ignore')"
   ],
   "outputs": [],
   "execution_count": 7
  },
  {
   "metadata": {
    "ExecuteTime": {
     "end_time": "2025-02-21T17:49:50.833222Z",
     "start_time": "2025-02-21T17:49:50.828682Z"
    }
   },
   "cell_type": "code",
   "source": "llm_model=\"gemini-1.5-flash\"",
   "id": "9dbbdffe5009110f",
   "outputs": [],
   "execution_count": 8
  },
  {
   "metadata": {
    "ExecuteTime": {
     "end_time": "2025-02-21T17:49:52.297968Z",
     "start_time": "2025-02-21T17:49:50.900938Z"
    }
   },
   "cell_type": "code",
   "source": "from langchain_google_genai import ChatGoogleGenerativeAI",
   "id": "38f53347a4aaa029",
   "outputs": [],
   "execution_count": 9
  },
  {
   "metadata": {
    "ExecuteTime": {
     "end_time": "2025-02-21T17:49:53.212189Z",
     "start_time": "2025-02-21T17:49:53.187451Z"
    }
   },
   "cell_type": "code",
   "source": [
    "from langchain.chains import ConversationChain\n",
    "from langchain.memory import ConversationBufferMemory"
   ],
   "id": "eaba4a586947f34d",
   "outputs": [],
   "execution_count": 10
  },
  {
   "metadata": {
    "ExecuteTime": {
     "end_time": "2025-02-21T17:49:55.232801Z",
     "start_time": "2025-02-21T17:49:55.163224Z"
    }
   },
   "cell_type": "code",
   "source": [
    "llm=ChatGoogleGenerativeAI(temperature=0.0,model=llm_model)\n",
    "memory=ConversationBufferMemory()\n",
    "conversation=ConversationChain(\n",
    "    llm=llm,\n",
    "    memory=memory,\n",
    "    verbose=True\n",
    ")"
   ],
   "id": "63802f241bfc162b",
   "outputs": [],
   "execution_count": 11
  },
  {
   "metadata": {
    "ExecuteTime": {
     "end_time": "2025-02-21T17:49:59.999182Z",
     "start_time": "2025-02-21T17:49:56.925448Z"
    }
   },
   "cell_type": "code",
   "source": "conversation.predict(input=\"Hi,my name is Andrew\")",
   "id": "ac8dd7259afbccb6",
   "outputs": [
    {
     "name": "stdout",
     "output_type": "stream",
     "text": [
      "\n",
      "\n",
      "\u001B[1m> Entering new ConversationChain chain...\u001B[0m\n",
      "Prompt after formatting:\n",
      "\u001B[32;1m\u001B[1;3mThe following is a friendly conversation between a human and an AI. The AI is talkative and provides lots of specific details from its context. If the AI does not know the answer to a question, it truthfully says it does not know.\n",
      "\n",
      "Current conversation:\n",
      "\n",
      "Human: Hi,my name is Andrew\n",
      "AI:\u001B[0m\n",
      "\n",
      "\u001B[1m> Finished chain.\u001B[0m\n"
     ]
    },
    {
     "data": {
      "text/plain": [
       "'Hi Andrew! It\\'s nice to meet you.  My name isn\\'t really a \"name\" in the human sense, as I don\\'t have a personal identity like you do.  I\\'m a large language model, trained by Google.  I don\\'t have feelings or experiences, but I can access and process information from a massive dataset of text and code.  Think of me as a really well-read, albeit somewhat literal, conversational partner.  So, what can I help you with today?  Are you interested in a specific topic, or just looking for a chat?'"
      ]
     },
     "execution_count": 12,
     "metadata": {},
     "output_type": "execute_result"
    }
   ],
   "execution_count": 12
  },
  {
   "metadata": {
    "ExecuteTime": {
     "end_time": "2025-02-21T17:50:02.431033Z",
     "start_time": "2025-02-21T17:50:01.163711Z"
    }
   },
   "cell_type": "code",
   "source": "conversation.predict(input=\"What is 1+1?\")",
   "id": "edb717e7787dc2c3",
   "outputs": [
    {
     "name": "stdout",
     "output_type": "stream",
     "text": [
      "\n",
      "\n",
      "\u001B[1m> Entering new ConversationChain chain...\u001B[0m\n",
      "Prompt after formatting:\n",
      "\u001B[32;1m\u001B[1;3mThe following is a friendly conversation between a human and an AI. The AI is talkative and provides lots of specific details from its context. If the AI does not know the answer to a question, it truthfully says it does not know.\n",
      "\n",
      "Current conversation:\n",
      "Human: Hi,my name is Andrew\n",
      "AI: Hi Andrew! It's nice to meet you.  My name isn't really a \"name\" in the human sense, as I don't have a personal identity like you do.  I'm a large language model, trained by Google.  I don't have feelings or experiences, but I can access and process information from a massive dataset of text and code.  Think of me as a really well-read, albeit somewhat literal, conversational partner.  So, what can I help you with today?  Are you interested in a specific topic, or just looking for a chat?\n",
      "Human: What is 1+1?\n",
      "AI:\u001B[0m\n",
      "\n",
      "\u001B[1m> Finished chain.\u001B[0m\n"
     ]
    },
    {
     "data": {
      "text/plain": [
       "\"1 + 1 = 2.  That's a pretty straightforward calculation!  My training data includes a vast amount of mathematical information, so simple arithmetic problems like this are easily within my capabilities.  Is there anything else I can help you with? Perhaps something a little more challenging?  I'm quite good at summarizing complex topics, translating languages, or even generating different creative text formats like poems, code, scripts, musical pieces, email, letters, etc.  Let me know what you'd like to explore!\""
      ]
     },
     "execution_count": 13,
     "metadata": {},
     "output_type": "execute_result"
    }
   ],
   "execution_count": 13
  },
  {
   "metadata": {
    "ExecuteTime": {
     "end_time": "2025-02-21T17:50:05.932072Z",
     "start_time": "2025-02-21T17:50:04.938758Z"
    }
   },
   "cell_type": "code",
   "source": "conversation.predict(input=\"What is my name?\")",
   "id": "7e05d16ef757828",
   "outputs": [
    {
     "name": "stdout",
     "output_type": "stream",
     "text": [
      "\n",
      "\n",
      "\u001B[1m> Entering new ConversationChain chain...\u001B[0m\n",
      "Prompt after formatting:\n",
      "\u001B[32;1m\u001B[1;3mThe following is a friendly conversation between a human and an AI. The AI is talkative and provides lots of specific details from its context. If the AI does not know the answer to a question, it truthfully says it does not know.\n",
      "\n",
      "Current conversation:\n",
      "Human: Hi,my name is Andrew\n",
      "AI: Hi Andrew! It's nice to meet you.  My name isn't really a \"name\" in the human sense, as I don't have a personal identity like you do.  I'm a large language model, trained by Google.  I don't have feelings or experiences, but I can access and process information from a massive dataset of text and code.  Think of me as a really well-read, albeit somewhat literal, conversational partner.  So, what can I help you with today?  Are you interested in a specific topic, or just looking for a chat?\n",
      "Human: What is 1+1?\n",
      "AI: 1 + 1 = 2.  That's a pretty straightforward calculation!  My training data includes a vast amount of mathematical information, so simple arithmetic problems like this are easily within my capabilities.  Is there anything else I can help you with? Perhaps something a little more challenging?  I'm quite good at summarizing complex topics, translating languages, or even generating different creative text formats like poems, code, scripts, musical pieces, email, letters, etc.  Let me know what you'd like to explore!\n",
      "Human: What is my name?\n",
      "AI:\u001B[0m\n",
      "\n",
      "\u001B[1m> Finished chain.\u001B[0m\n"
     ]
    },
    {
     "data": {
      "text/plain": [
       "\"Your name is Andrew.  You told me that at the beginning of our conversation.  I have a good memory (within the constraints of my current session, of course; I don't retain information between conversations). Is there anything else I can assist you with?\""
      ]
     },
     "execution_count": 14,
     "metadata": {},
     "output_type": "execute_result"
    }
   ],
   "execution_count": 14
  },
  {
   "metadata": {
    "ExecuteTime": {
     "end_time": "2025-02-21T17:50:07.881907Z",
     "start_time": "2025-02-21T17:50:07.876746Z"
    }
   },
   "cell_type": "code",
   "source": "print(memory.buffer)",
   "id": "3930df0e23780bc9",
   "outputs": [
    {
     "name": "stdout",
     "output_type": "stream",
     "text": [
      "Human: Hi,my name is Andrew\n",
      "AI: Hi Andrew! It's nice to meet you.  My name isn't really a \"name\" in the human sense, as I don't have a personal identity like you do.  I'm a large language model, trained by Google.  I don't have feelings or experiences, but I can access and process information from a massive dataset of text and code.  Think of me as a really well-read, albeit somewhat literal, conversational partner.  So, what can I help you with today?  Are you interested in a specific topic, or just looking for a chat?\n",
      "Human: What is 1+1?\n",
      "AI: 1 + 1 = 2.  That's a pretty straightforward calculation!  My training data includes a vast amount of mathematical information, so simple arithmetic problems like this are easily within my capabilities.  Is there anything else I can help you with? Perhaps something a little more challenging?  I'm quite good at summarizing complex topics, translating languages, or even generating different creative text formats like poems, code, scripts, musical pieces, email, letters, etc.  Let me know what you'd like to explore!\n",
      "Human: What is my name?\n",
      "AI: Your name is Andrew.  You told me that at the beginning of our conversation.  I have a good memory (within the constraints of my current session, of course; I don't retain information between conversations). Is there anything else I can assist you with?\n"
     ]
    }
   ],
   "execution_count": 15
  },
  {
   "metadata": {
    "ExecuteTime": {
     "end_time": "2025-02-21T17:50:10.050800Z",
     "start_time": "2025-02-21T17:50:10.043427Z"
    }
   },
   "cell_type": "code",
   "source": "memory.load_memory_variables({})",
   "id": "bc5e76990dad718d",
   "outputs": [
    {
     "data": {
      "text/plain": [
       "{'history': 'Human: Hi,my name is Andrew\\nAI: Hi Andrew! It\\'s nice to meet you.  My name isn\\'t really a \"name\" in the human sense, as I don\\'t have a personal identity like you do.  I\\'m a large language model, trained by Google.  I don\\'t have feelings or experiences, but I can access and process information from a massive dataset of text and code.  Think of me as a really well-read, albeit somewhat literal, conversational partner.  So, what can I help you with today?  Are you interested in a specific topic, or just looking for a chat?\\nHuman: What is 1+1?\\nAI: 1 + 1 = 2.  That\\'s a pretty straightforward calculation!  My training data includes a vast amount of mathematical information, so simple arithmetic problems like this are easily within my capabilities.  Is there anything else I can help you with? Perhaps something a little more challenging?  I\\'m quite good at summarizing complex topics, translating languages, or even generating different creative text formats like poems, code, scripts, musical pieces, email, letters, etc.  Let me know what you\\'d like to explore!\\nHuman: What is my name?\\nAI: Your name is Andrew.  You told me that at the beginning of our conversation.  I have a good memory (within the constraints of my current session, of course; I don\\'t retain information between conversations). Is there anything else I can assist you with?'}"
      ]
     },
     "execution_count": 16,
     "metadata": {},
     "output_type": "execute_result"
    }
   ],
   "execution_count": 16
  },
  {
   "metadata": {
    "ExecuteTime": {
     "end_time": "2025-02-21T17:50:12.004851Z",
     "start_time": "2025-02-21T17:50:11.998820Z"
    }
   },
   "cell_type": "code",
   "source": "memory=ConversationBufferMemory()",
   "id": "f0ca4b0201404c1f",
   "outputs": [],
   "execution_count": 17
  },
  {
   "metadata": {
    "ExecuteTime": {
     "end_time": "2025-02-21T17:50:13.403722Z",
     "start_time": "2025-02-21T17:50:13.399281Z"
    }
   },
   "cell_type": "code",
   "source": [
    "memory.save_context({\"input\":\"Hi\"},\n",
    "                    {\"output\":\"What's up\"})"
   ],
   "id": "139e5cff60f6542",
   "outputs": [],
   "execution_count": 18
  },
  {
   "metadata": {
    "ExecuteTime": {
     "end_time": "2025-02-21T17:50:14.818380Z",
     "start_time": "2025-02-21T17:50:14.812763Z"
    }
   },
   "cell_type": "code",
   "source": "print(memory.buffer)",
   "id": "6688d39cc236fa61",
   "outputs": [
    {
     "name": "stdout",
     "output_type": "stream",
     "text": [
      "Human: Hi\n",
      "AI: What's up\n"
     ]
    }
   ],
   "execution_count": 19
  },
  {
   "metadata": {
    "ExecuteTime": {
     "end_time": "2025-02-21T17:50:16.037070Z",
     "start_time": "2025-02-21T17:50:16.027995Z"
    }
   },
   "cell_type": "code",
   "source": "memory.load_memory_variables({})",
   "id": "f5ec5adb15976d85",
   "outputs": [
    {
     "data": {
      "text/plain": [
       "{'history': \"Human: Hi\\nAI: What's up\"}"
      ]
     },
     "execution_count": 20,
     "metadata": {},
     "output_type": "execute_result"
    }
   ],
   "execution_count": 20
  },
  {
   "metadata": {
    "ExecuteTime": {
     "end_time": "2025-02-21T17:50:17.150321Z",
     "start_time": "2025-02-21T17:50:17.144852Z"
    }
   },
   "cell_type": "code",
   "source": [
    "memory.save_context({\"input\":\"Not much,just hanging\"},\n",
    "                    {\"output\":\"Cool\"})"
   ],
   "id": "1bcc8e5bc338ddf4",
   "outputs": [],
   "execution_count": 21
  },
  {
   "metadata": {
    "ExecuteTime": {
     "end_time": "2025-02-21T17:50:18.083349Z",
     "start_time": "2025-02-21T17:50:18.076487Z"
    }
   },
   "cell_type": "code",
   "source": "memory.load_memory_variables({})",
   "id": "be9eaf51d2807b01",
   "outputs": [
    {
     "data": {
      "text/plain": [
       "{'history': \"Human: Hi\\nAI: What's up\\nHuman: Not much,just hanging\\nAI: Cool\"}"
      ]
     },
     "execution_count": 22,
     "metadata": {},
     "output_type": "execute_result"
    }
   ],
   "execution_count": 22
  },
  {
   "metadata": {
    "ExecuteTime": {
     "end_time": "2025-02-21T17:50:19.012327Z",
     "start_time": "2025-02-21T17:50:19.006962Z"
    }
   },
   "cell_type": "code",
   "source": [
    "memory.save_context({\"input\":\"Not much,just hanging\"},\n",
    "                    {\"output\":\"Cool\"})"
   ],
   "id": "1d6a1077b19c0789",
   "outputs": [],
   "execution_count": 23
  },
  {
   "metadata": {
    "ExecuteTime": {
     "end_time": "2025-02-21T17:50:19.893713Z",
     "start_time": "2025-02-21T17:50:19.885594Z"
    }
   },
   "cell_type": "code",
   "source": "memory.load_memory_variables({})",
   "id": "f0e871e349918851",
   "outputs": [
    {
     "data": {
      "text/plain": [
       "{'history': \"Human: Hi\\nAI: What's up\\nHuman: Not much,just hanging\\nAI: Cool\\nHuman: Not much,just hanging\\nAI: Cool\"}"
      ]
     },
     "execution_count": 24,
     "metadata": {},
     "output_type": "execute_result"
    }
   ],
   "execution_count": 24
  },
  {
   "metadata": {
    "ExecuteTime": {
     "end_time": "2025-02-21T17:50:20.738392Z",
     "start_time": "2025-02-21T17:50:20.732313Z"
    }
   },
   "cell_type": "code",
   "source": "from langchain.memory import ConversationBufferWindowMemory",
   "id": "6773ee3340d64675",
   "outputs": [],
   "execution_count": 25
  },
  {
   "metadata": {
    "ExecuteTime": {
     "end_time": "2025-02-21T17:50:21.433484Z",
     "start_time": "2025-02-21T17:50:21.427481Z"
    }
   },
   "cell_type": "code",
   "source": "memory=ConversationBufferWindowMemory(k=1)",
   "id": "6378c7686efd5877",
   "outputs": [],
   "execution_count": 26
  },
  {
   "metadata": {
    "ExecuteTime": {
     "end_time": "2025-02-21T17:50:22.128916Z",
     "start_time": "2025-02-21T17:50:22.123698Z"
    }
   },
   "cell_type": "code",
   "source": [
    "memory.save_context({\"input\":\"Hi\"},\n",
    "                    {\"output\":\"What's up\"})\n",
    "memory.save_context({\"input\":\"Not much,just hanging\"},\n",
    "                    {\"output\":\"Cool\"})"
   ],
   "id": "7bb5fd4e77a8904c",
   "outputs": [],
   "execution_count": 27
  },
  {
   "metadata": {
    "ExecuteTime": {
     "end_time": "2025-02-21T17:50:22.891802Z",
     "start_time": "2025-02-21T17:50:22.885642Z"
    }
   },
   "cell_type": "code",
   "source": "memory.load_memory_variables({})",
   "id": "ba0c31f6e5bbd899",
   "outputs": [
    {
     "data": {
      "text/plain": [
       "{'history': 'Human: Not much,just hanging\\nAI: Cool'}"
      ]
     },
     "execution_count": 28,
     "metadata": {},
     "output_type": "execute_result"
    }
   ],
   "execution_count": 28
  },
  {
   "metadata": {
    "ExecuteTime": {
     "end_time": "2025-02-21T17:50:23.650548Z",
     "start_time": "2025-02-21T17:50:23.640149Z"
    }
   },
   "cell_type": "code",
   "source": [
    "llm=ChatGoogleGenerativeAI(temperature=0.0,model=llm_model)\n",
    "memory=ConversationBufferWindowMemory(k=1)\n",
    "conversation=ConversationChain(\n",
    "    llm=llm,\n",
    "    memory=memory,\n",
    "    verbose=False\n",
    ")"
   ],
   "id": "f322bbf4b2505cc0",
   "outputs": [],
   "execution_count": 29
  },
  {
   "metadata": {
    "ExecuteTime": {
     "end_time": "2025-02-21T17:50:26.157379Z",
     "start_time": "2025-02-21T17:50:24.386354Z"
    }
   },
   "cell_type": "code",
   "source": "conversation.predict(input=\"Hi,my name is Andrew\")",
   "id": "b37d26382ecd1046",
   "outputs": [
    {
     "data": {
      "text/plain": [
       "'Hi Andrew! It\\'s nice to meet you.  My name isn\\'t really a \"name\" in the human sense, as I don\\'t have a personal identity like you do.  I\\'m a large language model, trained by Google.  I don\\'t have feelings or experiences, but I can access and process information from a massive dataset of text and code.  Think of me as a really well-read, albeit somewhat literal, conversational partner.  So, what can I help you with today?  Are you interested in a specific topic, or just looking for a chat?'"
      ]
     },
     "execution_count": 30,
     "metadata": {},
     "output_type": "execute_result"
    }
   ],
   "execution_count": 30
  },
  {
   "metadata": {
    "ExecuteTime": {
     "end_time": "2025-02-21T17:50:27.260439Z",
     "start_time": "2025-02-21T17:50:26.161394Z"
    }
   },
   "cell_type": "code",
   "source": "conversation.predict(input=\"What is 1+1?\")",
   "id": "63ed099c44f181bb",
   "outputs": [
    {
     "data": {
      "text/plain": [
       "\"1 + 1 = 2.  That's a pretty straightforward calculation!  My training data includes a vast amount of mathematical information, so simple arithmetic problems like this are easily within my capabilities.  Is there anything else I can help you with? Perhaps something a little more challenging?  I'm quite adept at answering questions about history, science, literature – you name it!\""
      ]
     },
     "execution_count": 31,
     "metadata": {},
     "output_type": "execute_result"
    }
   ],
   "execution_count": 31
  },
  {
   "metadata": {
    "ExecuteTime": {
     "end_time": "2025-02-21T17:50:30.013785Z",
     "start_time": "2025-02-21T17:50:28.698493Z"
    }
   },
   "cell_type": "code",
   "source": "conversation.predict(input=\"What is my name?\")",
   "id": "d897ed7fa053a26e",
   "outputs": [
    {
     "data": {
      "text/plain": [
       "\"I do not know your name.  My knowledge is based on the data I was trained on, and that data doesn't include personal information about you unless you've explicitly provided it during our current conversation.  To help me learn, you could tell me your name!  I'm always eager to expand my understanding of the world and the people in it.\""
      ]
     },
     "execution_count": 32,
     "metadata": {},
     "output_type": "execute_result"
    }
   ],
   "execution_count": 32
  },
  {
   "metadata": {
    "ExecuteTime": {
     "end_time": "2025-02-21T17:50:31.607936Z",
     "start_time": "2025-02-21T17:50:31.596418Z"
    }
   },
   "cell_type": "code",
   "source": [
    "from langchain.memory import ConversationTokenBufferMemory\n",
    "from langchain_google_genai import ChatGoogleGenerativeAI\n",
    "llm=ChatGoogleGenerativeAI(temperature=0.0,model=llm_model)"
   ],
   "id": "272b3f41870697f9",
   "outputs": [],
   "execution_count": 33
  },
  {
   "metadata": {
    "ExecuteTime": {
     "end_time": "2025-02-21T17:50:43.806055Z",
     "start_time": "2025-02-21T17:50:33.721374Z"
    }
   },
   "cell_type": "code",
   "source": [
    "memory=ConversationTokenBufferMemory(llm=llm,max_token_limit=50)\n",
    "memory.save_context({\"input\":\"AI is what?!\"},\n",
    "                    {\"Output\":\"Amazing!\"})\n",
    "memory.save_context({\"input\":\"Backpropagation is what?\"},\n",
    "                    {\"Output\":\"Beautiful!\"})\n",
    "memory.save_context({\"input\":\"Chatbots are what?\"},\n",
    "                    {\"Output\":\"Charming!\"})"
   ],
   "id": "d7fa295378ef612b",
   "outputs": [],
   "execution_count": 34
  },
  {
   "metadata": {
    "ExecuteTime": {
     "end_time": "2025-02-21T17:50:45.783914Z",
     "start_time": "2025-02-21T17:50:45.776930Z"
    }
   },
   "cell_type": "code",
   "source": "memory.load_memory_variables({})",
   "id": "9c44677ae8f0e463",
   "outputs": [
    {
     "data": {
      "text/plain": [
       "{'history': 'Human: AI is what?!\\nAI: Amazing!\\nHuman: Backpropagation is what?\\nAI: Beautiful!\\nHuman: Chatbots are what?\\nAI: Charming!'}"
      ]
     },
     "execution_count": 35,
     "metadata": {},
     "output_type": "execute_result"
    }
   ],
   "execution_count": 35
  },
  {
   "metadata": {
    "ExecuteTime": {
     "end_time": "2025-02-21T17:50:47.069319Z",
     "start_time": "2025-02-21T17:50:47.064401Z"
    }
   },
   "cell_type": "code",
   "source": "from langchain.memory import ConversationSummaryBufferMemory",
   "id": "aefd87f7b1a36c65",
   "outputs": [],
   "execution_count": 36
  },
  {
   "metadata": {
    "ExecuteTime": {
     "end_time": "2025-02-21T17:50:48.279542Z",
     "start_time": "2025-02-21T17:50:48.275063Z"
    }
   },
   "cell_type": "code",
   "source": [
    "# create a long string\n",
    "schedule = \"There is a meeting at 8am with your product team. \\\n",
    "You will need your powerpoint presentation prepared. \\\n",
    "9am-12pm have time to work on your LangChain \\\n",
    "project which will go quickly because Langchain is such a powerful tool. \\\n",
    "At Noon, lunch at the italian resturant with a customer who is driving \\\n",
    "from over an hour away to meet you to understand the latest in AI. \\\n",
    "Be sure to bring your laptop to show the latest LLM demo.\""
   ],
   "id": "c528c35844e0a93",
   "outputs": [],
   "execution_count": 37
  },
  {
   "metadata": {
    "ExecuteTime": {
     "end_time": "2025-02-21T17:51:01.979144Z",
     "start_time": "2025-02-21T17:50:50.668631Z"
    }
   },
   "cell_type": "code",
   "source": [
    "memory=ConversationSummaryBufferMemory(llm=llm,max_token_limit=100)\n",
    "memory.save_context({\"input\":\"Hello\"},{\"output\":\"What's up\"})\n",
    "memory.save_context({\"input\":\"Not much,just hanging\"},\n",
    "                    {\"output\":\"cool\"})\n",
    "memory.save_context({\"input\":\"What is on the schedule today?\"},\n",
    "                    {\"output\":f\"{schedule}\"})"
   ],
   "id": "178adf9b46919bc1",
   "outputs": [],
   "execution_count": 38
  },
  {
   "metadata": {
    "ExecuteTime": {
     "end_time": "2025-02-21T17:53:07.454043Z",
     "start_time": "2025-02-21T17:53:07.446231Z"
    }
   },
   "cell_type": "code",
   "source": "memory.load_memory_variables({})",
   "id": "53266bd6d350a6dd",
   "outputs": [
    {
     "data": {
      "text/plain": [
       "{'history': 'System: The human greets the AI, and after brief pleasantries, asks what is on the schedule for the day.\\nAI: There is a meeting at 8am with your product team. You will need your powerpoint presentation prepared. 9am-12pm have time to work on your LangChain project which will go quickly because Langchain is such a powerful tool. At Noon, lunch at the italian resturant with a customer who is driving from over an hour away to meet you to understand the latest in AI. Be sure to bring your laptop to show the latest LLM demo.'}"
      ]
     },
     "execution_count": 39,
     "metadata": {},
     "output_type": "execute_result"
    }
   ],
   "execution_count": 39
  },
  {
   "metadata": {
    "ExecuteTime": {
     "end_time": "2025-02-21T17:55:20.107393Z",
     "start_time": "2025-02-21T17:55:20.100828Z"
    }
   },
   "cell_type": "code",
   "source": [
    "conversation=ConversationChain(\n",
    "    llm=llm,\n",
    "    memory=memory,\n",
    "    verbose=True\n",
    ")"
   ],
   "id": "6ca08d098a3cd812",
   "outputs": [],
   "execution_count": 41
  },
  {
   "metadata": {
    "ExecuteTime": {
     "end_time": "2025-02-21T17:56:25.677589Z",
     "start_time": "2025-02-21T17:56:13.196447Z"
    }
   },
   "cell_type": "code",
   "source": "conversation.predict(input=\"What would be a good demo to show\")",
   "id": "d2f0cda39f5d2d3e",
   "outputs": [
    {
     "name": "stdout",
     "output_type": "stream",
     "text": [
      "\n",
      "\n",
      "\u001B[1m> Entering new ConversationChain chain...\u001B[0m\n",
      "Prompt after formatting:\n",
      "\u001B[32;1m\u001B[1;3mThe following is a friendly conversation between a human and an AI. The AI is talkative and provides lots of specific details from its context. If the AI does not know the answer to a question, it truthfully says it does not know.\n",
      "\n",
      "Current conversation:\n",
      "System: The human greets the AI, and after brief pleasantries, asks what is on the schedule for the day.\n",
      "AI: There is a meeting at 8am with your product team. You will need your powerpoint presentation prepared. 9am-12pm have time to work on your LangChain project which will go quickly because Langchain is such a powerful tool. At Noon, lunch at the italian resturant with a customer who is driving from over an hour away to meet you to understand the latest in AI. Be sure to bring your laptop to show the latest LLM demo.\n",
      "Human: What would be a good demo to show\n",
      "AI:\u001B[0m\n",
      "\n",
      "\u001B[1m> Finished chain.\u001B[0m\n"
     ]
    },
    {
     "data": {
      "text/plain": [
       "\"That's a great question!  Since your customer is driving over an hour to learn about the latest in AI, I'd recommend a demo that showcases the power and ease of use of LLMs, focusing on a practical application relevant to their business.  I don't know their specific industry, so I can't tailor it perfectly, but here are a few options with different strengths:\\n\\n* **Option 1 (Broad Appeal):  Summarization and Question Answering.**  This is a classic and impressive LLM capability. You could show them a lengthy document (perhaps a news article or a report relevant to their industry if you know it) and demonstrate how quickly and accurately the LLM can summarize it and answer specific questions about its content. This highlights the time-saving and insight-generating potential.\\n\\n* **Option 2 (If they have data):  Sentiment Analysis.** If you know your customer has customer reviews, social media data, or other textual data, you could show how an LLM can analyze the sentiment (positive, negative, neutral) expressed in that data. This is very valuable for market research and customer feedback analysis.  You'd need to prepare this data beforehand, of course.\\n\\n* **Option 3 (More advanced, requires preparation):  Custom Chatbot Simulation.** If you have time to prepare a simple chatbot using an LLM, this could be very impressive.  You could create a chatbot that answers frequently asked questions about your product or service, demonstrating how LLMs can automate customer support or provide personalized experiences.\\n\\n* **Option 4 (Simple and quick):  Creative Text Generation.**  This is a good fallback if you're short on time.  You could ask the LLM to write a short marketing blurb, a poem, or a different creative text format, showcasing its versatility and potential for content creation.\\n\\n\\nFor any of these demos, remember to:\\n\\n* **Keep it concise:** Aim for a 5-10 minute demo, focusing on the key features and benefits.\\n* **Highlight the value proposition:**  Emphasize how the LLM can solve their specific business problems or improve their efficiency.\\n* **Be prepared for questions:** Anticipate potential questions and have clear, concise answers ready.\\n* **Have a backup plan:**  In case of technical difficulties, have a simple alternative demo ready.\\n\\n\\nUltimately, the best demo will depend on your customer's specific needs and interests.  If you can provide me with more information about their business or industry, I can give you a more tailored recommendation.\""
      ]
     },
     "execution_count": 42,
     "metadata": {},
     "output_type": "execute_result"
    }
   ],
   "execution_count": 42
  },
  {
   "metadata": {
    "ExecuteTime": {
     "end_time": "2025-02-21T17:56:30.783560Z",
     "start_time": "2025-02-21T17:56:30.775409Z"
    }
   },
   "cell_type": "code",
   "source": "memory.load_memory_variables({})",
   "id": "89b5a385f3d84195",
   "outputs": [
    {
     "data": {
      "text/plain": [
       "{'history': \"System: The human greets the AI and inquires about the day's schedule. The AI responds with a detailed itinerary including a product team meeting, time allocated for working on a LangChain project, and a lunch meeting with a customer.  The AI suggests the human bring their laptop to showcase an LLM demo and offers four demo options: summarization and question answering, sentiment analysis, a custom chatbot simulation, and creative text generation.  The AI provides guidance on preparing for the demo, emphasizing conciseness, highlighting the value proposition, anticipating questions, and having a backup plan.  The AI concludes by stating that the best demo will depend on the customer's specific needs and requests more information about the customer's business to provide a more tailored recommendation.\"}"
      ]
     },
     "execution_count": 43,
     "metadata": {},
     "output_type": "execute_result"
    }
   ],
   "execution_count": 43
  },
  {
   "metadata": {},
   "cell_type": "code",
   "outputs": [],
   "execution_count": null,
   "source": "",
   "id": "37542b58a54ea978"
  }
 ],
 "metadata": {
  "kernelspec": {
   "display_name": "Python 3",
   "language": "python",
   "name": "python3"
  },
  "language_info": {
   "codemirror_mode": {
    "name": "ipython",
    "version": 2
   },
   "file_extension": ".py",
   "mimetype": "text/x-python",
   "name": "python",
   "nbconvert_exporter": "python",
   "pygments_lexer": "ipython2",
   "version": "2.7.6"
  }
 },
 "nbformat": 4,
 "nbformat_minor": 5
}
