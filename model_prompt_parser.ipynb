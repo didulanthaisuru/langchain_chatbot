{
 "cells": [
  {
   "metadata": {
    "ExecuteTime": {
     "end_time": "2025-02-16T16:48:15.385713Z",
     "start_time": "2025-02-16T16:48:15.331667Z"
    }
   },
   "cell_type": "code",
   "source": [
    "from dotenv import load_dotenv,find_dotenv\n",
    "import os\n",
    "import google.generativeai as geai\n",
    "\n",
    "_ = load_dotenv(find_dotenv())\n",
    "\n",
    "genai.configure(api_key=os.environ[\"GOOGLE_API_KEY\"])"
   ],
   "id": "37155302a6c255ff",
   "outputs": [],
   "execution_count": 16
  },
  {
   "metadata": {},
   "cell_type": "code",
   "outputs": [],
   "execution_count": null,
   "source": "",
   "id": "8fd2dbd710b8e1bb"
  }
 ],
 "metadata": {
  "kernelspec": {
   "display_name": "Python 3",
   "language": "python",
   "name": "python3"
  },
  "language_info": {
   "codemirror_mode": {
    "name": "ipython",
    "version": 2
   },
   "file_extension": ".py",
   "mimetype": "text/x-python",
   "name": "python",
   "nbconvert_exporter": "python",
   "pygments_lexer": "ipython2",
   "version": "2.7.6"
  }
 },
 "nbformat": 4,
 "nbformat_minor": 5
}
