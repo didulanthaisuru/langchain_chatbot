{
 "cells": [
  {
   "metadata": {
    "ExecuteTime": {
     "end_time": "2025-02-18T08:06:30.372163Z",
     "start_time": "2025-02-18T08:06:27.729072Z"
    }
   },
   "cell_type": "code",
   "source": [
    "from dotenv import load_dotenv,find_dotenv\n",
    "import os\n",
    "import google.generativeai as genai\n",
    "\n",
    "_ = load_dotenv(find_dotenv())\n",
    "\n",
    "genai.configure(api_key=os.environ[\"GOOGLE_API_KEY\"])"
   ],
   "id": "37155302a6c255ff",
   "outputs": [],
   "execution_count": 2
  },
  {
   "metadata": {
    "ExecuteTime": {
     "end_time": "2025-02-18T08:06:30.381004Z",
     "start_time": "2025-02-18T08:06:30.374176Z"
    }
   },
   "cell_type": "code",
   "source": [
    "import datetime\n",
    "\n",
    "current_date=datetime.datetime.now().date()\n",
    "\n",
    "target_date=datetime.date(2024,6,12)\n",
    "\n",
    "if current_date>target_date:\n",
    "    llm_model=\"gemini-1.5-flash\"\n",
    "else:\n",
    "    llm_model=\"gemini-1.5-flash\""
   ],
   "id": "8fd2dbd710b8e1bb",
   "outputs": [],
   "execution_count": 3
  },
  {
   "metadata": {
    "ExecuteTime": {
     "end_time": "2025-02-18T08:06:30.391231Z",
     "start_time": "2025-02-18T08:06:30.383014Z"
    }
   },
   "cell_type": "code",
   "source": [
    "def get_completion(prompt,model=llm_model):\n",
    "    response=genai.GenerativeModel(model).generate_content(prompt)\n",
    "    return response.text"
   ],
   "id": "f825f5131f3b06e8",
   "outputs": [],
   "execution_count": 4
  },
  {
   "metadata": {
    "ExecuteTime": {
     "end_time": "2025-02-18T08:06:30.402211Z",
     "start_time": "2025-02-18T08:06:30.393242Z"
    }
   },
   "cell_type": "code",
   "source": "prompt=\"What is the capital of France?\"",
   "id": "7e4436fb85c329e5",
   "outputs": [],
   "execution_count": 5
  },
  {
   "metadata": {
    "ExecuteTime": {
     "end_time": "2025-02-18T08:06:30.409816Z",
     "start_time": "2025-02-18T08:06:30.405226Z"
    }
   },
   "cell_type": "code",
   "source": "",
   "id": "6e337d46e5c442de",
   "outputs": [],
   "execution_count": 5
  },
  {
   "metadata": {
    "ExecuteTime": {
     "end_time": "2025-02-18T08:06:32.979155Z",
     "start_time": "2025-02-18T08:06:30.412103Z"
    }
   },
   "cell_type": "code",
   "source": "get_completion(\"who is the president of the United States?\")",
   "id": "8d65c62c268dbb37",
   "outputs": [
    {
     "data": {
      "text/plain": [
       "'The current president of the United States is Joe Biden.\\n'"
      ]
     },
     "execution_count": 6,
     "metadata": {},
     "output_type": "execute_result"
    }
   ],
   "execution_count": 6
  },
  {
   "metadata": {
    "ExecuteTime": {
     "end_time": "2025-02-18T08:06:34.781367Z",
     "start_time": "2025-02-18T08:06:32.999153Z"
    }
   },
   "cell_type": "code",
   "source": "get_completion(\"what is moratuwa university\")",
   "id": "80ed7f83eb40e4d",
   "outputs": [
    {
     "data": {
      "text/plain": [
       "\"The University of Moratuwa (UoM) is a public university located in Moratuwa, Sri Lanka.  It's a leading engineering and technology university in the country, known for its strong focus on engineering, technology, and applied sciences.  It offers undergraduate and postgraduate programs in various fields, including:\\n\\n* **Engineering:**  This is their core strength, encompassing disciplines like Electrical & Electronic Engineering, Mechanical Engineering, Civil Engineering, Computer Engineering, and more specialized areas.\\n* **Technology:**  Programs related to information technology, computer science, and other technology-related fields are prominent.\\n* **Applied Sciences:**  The university also offers programs in areas that support engineering and technology, like mathematics, physics, and chemistry.\\n\\nUoM is highly regarded in Sri Lanka and increasingly internationally for its research and its graduates' employability.  It often collaborates with international universities and industries.\\n\""
      ]
     },
     "execution_count": 7,
     "metadata": {},
     "output_type": "execute_result"
    }
   ],
   "execution_count": 7
  },
  {
   "metadata": {
    "ExecuteTime": {
     "end_time": "2025-02-18T08:06:34.788536Z",
     "start_time": "2025-02-18T08:06:34.783375Z"
    }
   },
   "cell_type": "code",
   "source": [
    "customer_email = \"\"\"\n",
    "Arrr, I be fuming that me blender lid \n",
    "flew off and splattered me kitchen walls \n",
    "with smoothie! And to make matters worse,\n",
    "the warranty don't cover the cost of \n",
    "cleaning up me kitchen. I need yer help \n",
    "right now, matey!\n",
    "\"\"\"\n"
   ],
   "id": "6b2a165d1c883642",
   "outputs": [],
   "execution_count": 8
  },
  {
   "metadata": {
    "ExecuteTime": {
     "end_time": "2025-02-18T08:06:34.798342Z",
     "start_time": "2025-02-18T08:06:34.791547Z"
    }
   },
   "cell_type": "code",
   "source": "style=\"\"\"American English in a calm and respectful tone\"\"\"",
   "id": "94a26eb866c47d7f",
   "outputs": [],
   "execution_count": 9
  },
  {
   "metadata": {
    "ExecuteTime": {
     "end_time": "2025-02-18T08:06:34.808165Z",
     "start_time": "2025-02-18T08:06:34.800355Z"
    }
   },
   "cell_type": "code",
   "source": [
    "prompt = f\"\"\"Translate the text \\\n",
    "that is delimited by triple backticks \n",
    "into a style that is {style}.\n",
    "text: ```{customer_email}```\n",
    "\"\"\"\n",
    "\n",
    "print(prompt)"
   ],
   "id": "44bbebf52d0e46cf",
   "outputs": [
    {
     "name": "stdout",
     "output_type": "stream",
     "text": [
      "Translate the text that is delimited by triple backticks \n",
      "into a style that is American English in a calm and respectful tone.\n",
      "text: ```\n",
      "Arrr, I be fuming that me blender lid \n",
      "flew off and splattered me kitchen walls \n",
      "with smoothie! And to make matters worse,\n",
      "the warranty don't cover the cost of \n",
      "cleaning up me kitchen. I need yer help \n",
      "right now, matey!\n",
      "```\n",
      "\n"
     ]
    }
   ],
   "execution_count": 10
  },
  {
   "metadata": {
    "ExecuteTime": {
     "end_time": "2025-02-18T08:06:35.706634Z",
     "start_time": "2025-02-18T08:06:34.813182Z"
    }
   },
   "cell_type": "code",
   "source": "response=get_completion(prompt)",
   "id": "42a2997e5e75102b",
   "outputs": [],
   "execution_count": 11
  },
  {
   "metadata": {
    "ExecuteTime": {
     "end_time": "2025-02-18T08:06:35.718048Z",
     "start_time": "2025-02-18T08:06:35.710159Z"
    }
   },
   "cell_type": "code",
   "source": "response",
   "id": "b8674169e36b53e4",
   "outputs": [
    {
     "data": {
      "text/plain": [
       "\"I'm quite upset that my blender lid came off, and smoothie splattered on my kitchen walls.  To make matters worse, the warranty doesn't cover the cost of cleaning up the mess. I would appreciate your assistance with this.\\n\""
      ]
     },
     "execution_count": 12,
     "metadata": {},
     "output_type": "execute_result"
    }
   ],
   "execution_count": 12
  },
  {
   "metadata": {
    "ExecuteTime": {
     "end_time": "2025-02-18T08:06:37.496963Z",
     "start_time": "2025-02-18T08:06:35.723066Z"
    }
   },
   "cell_type": "code",
   "source": "from langchain_google_genai import ChatGoogleGenerativeAI",
   "id": "926c0ea50d7f51dc",
   "outputs": [],
   "execution_count": 13
  },
  {
   "metadata": {
    "ExecuteTime": {
     "end_time": "2025-02-18T08:06:37.526974Z",
     "start_time": "2025-02-18T08:06:37.499975Z"
    }
   },
   "cell_type": "code",
   "source": "chat=ChatGoogleGenerativeAI(temparature=0.0,model=llm_model)",
   "id": "1e4ce3d04f1fb35b",
   "outputs": [],
   "execution_count": 14
  },
  {
   "metadata": {
    "ExecuteTime": {
     "end_time": "2025-02-18T08:06:37.540350Z",
     "start_time": "2025-02-18T08:06:37.529491Z"
    }
   },
   "cell_type": "code",
   "source": "chat",
   "id": "77d7b8a49e1760df",
   "outputs": [
    {
     "data": {
      "text/plain": [
       "ChatGoogleGenerativeAI(model='models/gemini-1.5-flash', google_api_key=SecretStr('**********'), client=<google.ai.generativelanguage_v1beta.services.generative_service.client.GenerativeServiceClient object at 0x0000021C6BA59B20>, default_metadata=())"
      ]
     },
     "execution_count": 15,
     "metadata": {},
     "output_type": "execute_result"
    }
   ],
   "execution_count": 15
  },
  {
   "metadata": {
    "ExecuteTime": {
     "end_time": "2025-02-18T08:08:31.691712Z",
     "start_time": "2025-02-18T08:08:31.686199Z"
    }
   },
   "cell_type": "code",
   "source": [
    "template_string=\"\"\"Translate the text \n",
    "that is delimited by triple backticks \n",
    "into a style that is {style}.\n",
    "text:```{text}```\n",
    "\"\"\""
   ],
   "id": "aa3644ba626c2f72",
   "outputs": [],
   "execution_count": 17
  },
  {
   "metadata": {
    "ExecuteTime": {
     "end_time": "2025-02-18T08:12:50.925815Z",
     "start_time": "2025-02-18T08:12:50.918806Z"
    }
   },
   "cell_type": "code",
   "source": [
    "from langchain.prompts import ChatPromptTemplate\n",
    "prompt_template=ChatPromptTemplate.from_template(template_string)"
   ],
   "id": "3782484fe94343cc",
   "outputs": [],
   "execution_count": 19
  },
  {
   "metadata": {
    "ExecuteTime": {
     "end_time": "2025-02-18T08:21:43.720794Z",
     "start_time": "2025-02-18T08:21:43.711742Z"
    }
   },
   "cell_type": "code",
   "source": "prompt_template.messages[0].prompt",
   "id": "e3bd3dec97922419",
   "outputs": [
    {
     "data": {
      "text/plain": [
       "PromptTemplate(input_variables=['style', 'text'], input_types={}, partial_variables={}, template='Translate the text \\nthat is delimited by triple backticks \\ninto a style that is {style}.\\ntext:```{text}```\\n')"
      ]
     },
     "execution_count": 22,
     "metadata": {},
     "output_type": "execute_result"
    }
   ],
   "execution_count": 22
  },
  {
   "metadata": {
    "ExecuteTime": {
     "end_time": "2025-02-18T08:22:37.015596Z",
     "start_time": "2025-02-18T08:22:37.006562Z"
    }
   },
   "cell_type": "code",
   "source": "prompt_template.messages[0].prompt.input_variables",
   "id": "3e73a7569b569eb",
   "outputs": [
    {
     "data": {
      "text/plain": [
       "['style', 'text']"
      ]
     },
     "execution_count": 23,
     "metadata": {},
     "output_type": "execute_result"
    }
   ],
   "execution_count": 23
  },
  {
   "metadata": {
    "ExecuteTime": {
     "end_time": "2025-02-18T08:24:39.013225Z",
     "start_time": "2025-02-18T08:24:39.008565Z"
    }
   },
   "cell_type": "code",
   "source": [
    "customer_style=\"\"\"American English\n",
    "in a calm and respectful tone\n",
    "\"\"\""
   ],
   "id": "e6c97f8b5a285ba7",
   "outputs": [],
   "execution_count": 24
  },
  {
   "metadata": {
    "ExecuteTime": {
     "end_time": "2025-02-18T08:26:42.243218Z",
     "start_time": "2025-02-18T08:26:42.236813Z"
    }
   },
   "cell_type": "code",
   "source": [
    "customer_email=\"\"\"\n",
    "Arrr,I be fuming that me blender lid \n",
    "flew off and splattered me kitchen walls\n",
    "with smoothie! And to make matters worse, \n",
    "the warranty don\"t cover the cost of\n",
    "cleaning up me kitchen.I need yer help\n",
    "right now, matey!\n",
    "\"\"\""
   ],
   "id": "d6f9978dd47f9931",
   "outputs": [],
   "execution_count": 25
  },
  {
   "metadata": {
    "ExecuteTime": {
     "end_time": "2025-02-18T08:29:46.371120Z",
     "start_time": "2025-02-18T08:29:46.366105Z"
    }
   },
   "cell_type": "code",
   "source": [
    "customer_messages=prompt_template.format_messages(style=customer_style,\n",
    "                                                 text=customer_email)"
   ],
   "id": "b017056f3b518dca",
   "outputs": [],
   "execution_count": 30
  },
  {
   "metadata": {
    "ExecuteTime": {
     "end_time": "2025-02-18T08:29:48.769247Z",
     "start_time": "2025-02-18T08:29:48.762892Z"
    }
   },
   "cell_type": "code",
   "source": [
    "print(type(customer_messages))\n",
    "print(type(customer_messages[0]))"
   ],
   "id": "29d5a694cbc1fc44",
   "outputs": [
    {
     "name": "stdout",
     "output_type": "stream",
     "text": [
      "<class 'list'>\n",
      "<class 'langchain_core.messages.human.HumanMessage'>\n"
     ]
    }
   ],
   "execution_count": 31
  },
  {
   "metadata": {
    "ExecuteTime": {
     "end_time": "2025-02-18T08:29:58.830155Z",
     "start_time": "2025-02-18T08:29:58.823648Z"
    }
   },
   "cell_type": "code",
   "source": "customer_messages",
   "id": "54229bc25b10f9b7",
   "outputs": [
    {
     "data": {
      "text/plain": [
       "[HumanMessage(content='Translate the text \\nthat is delimited by triple backticks \\ninto a style that is American English\\nin a calm and respectful tone\\n.\\ntext:```\\nArrr,I be fuming that me blender lid \\nflew off and splattered me kitchen walls\\nwith smoothie! And to make matters worse, \\nthe warranty don\"t cover the cost of\\ncleaning up me kitchen.I need yer help\\nright now, matey!\\n```\\n', additional_kwargs={}, response_metadata={})]"
      ]
     },
     "execution_count": 32,
     "metadata": {},
     "output_type": "execute_result"
    }
   ],
   "execution_count": 32
  },
  {
   "metadata": {
    "ExecuteTime": {
     "end_time": "2025-02-18T08:32:50.661406Z",
     "start_time": "2025-02-18T08:32:50.653352Z"
    }
   },
   "cell_type": "code",
   "source": "print(customer_messages[0])",
   "id": "6dd4113e23e7c857",
   "outputs": [
    {
     "name": "stdout",
     "output_type": "stream",
     "text": [
      "content='Translate the text \\nthat is delimited by triple backticks \\ninto a style that is American English\\nin a calm and respectful tone\\n.\\ntext:```\\nArrr,I be fuming that me blender lid \\nflew off and splattered me kitchen walls\\nwith smoothie! And to make matters worse, \\nthe warranty don\"t cover the cost of\\ncleaning up me kitchen.I need yer help\\nright now, matey!\\n```\\n' additional_kwargs={} response_metadata={}\n"
     ]
    }
   ],
   "execution_count": 33
  },
  {
   "metadata": {
    "ExecuteTime": {
     "end_time": "2025-02-18T08:34:39.580196Z",
     "start_time": "2025-02-18T08:34:38.615041Z"
    }
   },
   "cell_type": "code",
   "source": "customer_response=chat.invoke(customer_messages)",
   "id": "1b8b557e63dd30",
   "outputs": [],
   "execution_count": 35
  },
  {
   "metadata": {
    "ExecuteTime": {
     "end_time": "2025-02-18T08:36:13.996129Z",
     "start_time": "2025-02-18T08:36:13.989156Z"
    }
   },
   "cell_type": "code",
   "source": "print(customer_response.content)",
   "id": "3513dbb725a13a9",
   "outputs": [
    {
     "name": "stdout",
     "output_type": "stream",
     "text": [
      "I'm quite upset that my blender lid came off and splattered smoothie all over my kitchen walls.  To make matters worse, the warranty doesn't cover the cost of cleaning up the mess. I'd appreciate your assistance with this.\n"
     ]
    }
   ],
   "execution_count": 36
  },
  {
   "metadata": {
    "ExecuteTime": {
     "end_time": "2025-02-18T13:58:21.888017Z",
     "start_time": "2025-02-18T13:58:21.855517Z"
    }
   },
   "cell_type": "code",
   "source": [
    "service_reply=\"\"\"HEy there customer,\n",
    "the warranty does no cover\n",
    "cleaning expenses for your kitchen\n",
    "because it's your fault that\n",
    "you misused your blender\n",
    "by forgetting to put lid on before\n",
    "starting the blender.\n",
    "tough luck!See ya!\"\"\""
   ],
   "id": "d19cb54e0bbf40e6",
   "outputs": [],
   "execution_count": 37
  },
  {
   "metadata": {
    "ExecuteTime": {
     "end_time": "2025-02-18T13:59:05.699698Z",
     "start_time": "2025-02-18T13:59:05.693293Z"
    }
   },
   "cell_type": "code",
   "source": [
    "service_style_pirate=\"\"\"\n",
    "a polite tone\n",
    "that speaks in English Pirate\"\"\""
   ],
   "id": "76c8755e83d63249",
   "outputs": [],
   "execution_count": 38
  },
  {
   "metadata": {
    "ExecuteTime": {
     "end_time": "2025-02-18T14:04:10.027163Z",
     "start_time": "2025-02-18T14:04:09.993438Z"
    }
   },
   "cell_type": "code",
   "source": [
    "service_messages=prompt_template.format_messages(\n",
    "    style=service_style_pirate,\n",
    "    text=service_reply\n",
    ")"
   ],
   "id": "fc27791bcf452eb9",
   "outputs": [],
   "execution_count": 39
  },
  {
   "metadata": {
    "ExecuteTime": {
     "end_time": "2025-02-18T14:06:57.453016Z",
     "start_time": "2025-02-18T14:06:57.445779Z"
    }
   },
   "cell_type": "code",
   "source": "print(service_messages[0].content)",
   "id": "1eae15ba177a3068",
   "outputs": [
    {
     "name": "stdout",
     "output_type": "stream",
     "text": [
      "Translate the text \n",
      "that is delimited by triple backticks \n",
      "into a style that is \n",
      "a polite tone\n",
      "that speaks in English Pirate.\n",
      "text:```HEy there customer,\n",
      "the warranty does no cover\n",
      "cleaning expenses for your kitchen\n",
      "because it's your fault that\n",
      "you misused your blender\n",
      "by forgetting to put lid on before\n",
      "starting the blender.\n",
      "tough luck!See ya!```\n",
      "\n"
     ]
    }
   ],
   "execution_count": 43
  },
  {
   "metadata": {
    "ExecuteTime": {
     "end_time": "2025-02-18T14:06:53.410188Z",
     "start_time": "2025-02-18T14:06:51.349576Z"
    }
   },
   "cell_type": "code",
   "source": [
    "service_response=chat.invoke(service_messages)\n",
    "print(service_response)"
   ],
   "id": "d25618b47556fef2",
   "outputs": [
    {
     "name": "stdout",
     "output_type": "stream",
     "text": [
      "content=\"Ahoy there, matey!\\n\\nRegarding yer warranty claim, shiver me timbers, it be not coverin' the cleanin' o' yer galley.  Seems ye did misuse yer blender, aye, by forgittin' to secure the lid afore startin' her up.  Avast there!  That be on ye, I'm afraid.  Not much we can do about that, unfortunately.  Farewell and fair winds!\" additional_kwargs={} response_metadata={'prompt_feedback': {'block_reason': 0, 'safety_ratings': []}, 'finish_reason': 'STOP', 'safety_ratings': []} id='run-65105b03-a007-4d5f-aa80-d3285b9d4095-0' usage_metadata={'input_tokens': 87, 'output_tokens': 92, 'total_tokens': 179, 'input_token_details': {'cache_read': 0}}\n"
     ]
    }
   ],
   "execution_count": 42
  },
  {
   "metadata": {
    "ExecuteTime": {
     "end_time": "2025-02-18T14:07:18.881810Z",
     "start_time": "2025-02-18T14:07:18.875831Z"
    }
   },
   "cell_type": "code",
   "source": "print(service_response.content)",
   "id": "a23a3439acfb980c",
   "outputs": [
    {
     "name": "stdout",
     "output_type": "stream",
     "text": [
      "Ahoy there, matey!\n",
      "\n",
      "Regarding yer warranty claim, shiver me timbers, it be not coverin' the cleanin' o' yer galley.  Seems ye did misuse yer blender, aye, by forgittin' to secure the lid afore startin' her up.  Avast there!  That be on ye, I'm afraid.  Not much we can do about that, unfortunately.  Farewell and fair winds!\n"
     ]
    }
   ],
   "execution_count": 44
  },
  {
   "metadata": {
    "ExecuteTime": {
     "end_time": "2025-02-18T14:12:55.702239Z",
     "start_time": "2025-02-18T14:12:55.692690Z"
    }
   },
   "cell_type": "code",
   "source": [
    "{\n",
    "    \"gift\":False,\n",
    "    \"delivery_days\":5,\n",
    "    \"price_value\":\"pretty affordable!\"\n",
    "}"
   ],
   "id": "8bb58592a1a0c58d",
   "outputs": [
    {
     "data": {
      "text/plain": [
       "{'gift': False, 'delivery_days': 5, 'price_value': 'pretty affordable!'}"
      ]
     },
     "execution_count": 46,
     "metadata": {},
     "output_type": "execute_result"
    }
   ],
   "execution_count": 46
  },
  {
   "metadata": {
    "ExecuteTime": {
     "end_time": "2025-02-18T14:20:05.929545Z",
     "start_time": "2025-02-18T14:20:05.915976Z"
    }
   },
   "cell_type": "code",
   "source": [
    "customer_review = \"\"\"\\\n",
    "This leaf blower is pretty amazing.  It has four settings:\\\n",
    "candle blower, gentle breeze, windy city, and tornado. \\\n",
    "It arrived in two days, just in time for my wife's \\\n",
    "anniversary present. \\\n",
    "I think my wife liked it so much she was speechless. \\\n",
    "So far I've been the only one using it, and I've been \\\n",
    "using it every other morning to clear the leaves on our lawn. \\\n",
    "It's slightly more expensive than the other leaf blowers \\\n",
    "out there, but I think it's worth it for the extra features.\n",
    "\"\"\"\n",
    "\n",
    "review_template = \"\"\"\\\n",
    "For the following text, extract the following information:\n",
    "\n",
    "gift: Was the item purchased as a gift for someone else? \\\n",
    "Answer True if yes, False if not or unknown.\n",
    "\n",
    "delivery_days: How many days did it take for the product \\\n",
    "to arrive? If this information is not found, output -1.\n",
    "\n",
    "price_value: Extract any sentences about the value or price,\\\n",
    "and output them as a comma separated Python list.\n",
    "\n",
    "Format the output as JSON with the following keys:\n",
    "gift\n",
    "delivery_days\n",
    "price_value\n",
    "\n",
    "text: {text}\n",
    "\"\"\""
   ],
   "id": "e84fd6b9497e9db4",
   "outputs": [],
   "execution_count": 47
  },
  {
   "metadata": {
    "ExecuteTime": {
     "end_time": "2025-02-18T14:22:17.005639Z",
     "start_time": "2025-02-18T14:22:16.979342Z"
    }
   },
   "cell_type": "code",
   "source": [
    "from langchain.prompts import ChatPromptTemplate\n",
    "\n",
    "prompt_template=ChatPromptTemplate.from_template(review_template)\n",
    "print(prompt_template)"
   ],
   "id": "4d28cb9c1a23077",
   "outputs": [
    {
     "name": "stdout",
     "output_type": "stream",
     "text": [
      "input_variables=['text'] input_types={} partial_variables={} messages=[HumanMessagePromptTemplate(prompt=PromptTemplate(input_variables=['text'], input_types={}, partial_variables={}, template='For the following text, extract the following information:\\n\\ngift: Was the item purchased as a gift for someone else? Answer True if yes, False if not or unknown.\\n\\ndelivery_days: How many days did it take for the product to arrive? If this information is not found, output -1.\\n\\nprice_value: Extract any sentences about the value or price,and output them as a comma separated Python list.\\n\\nFormat the output as JSON with the following keys:\\ngift\\ndelivery_days\\nprice_value\\n\\ntext: {text}\\n'), additional_kwargs={})]\n"
     ]
    }
   ],
   "execution_count": 48
  },
  {
   "metadata": {
    "ExecuteTime": {
     "end_time": "2025-02-18T14:37:15.279254Z",
     "start_time": "2025-02-18T14:37:12.302630Z"
    }
   },
   "cell_type": "code",
   "source": [
    "message=prompt_template.format_messages(text=customer_review)\n",
    "chat=ChatGoogleGenerativeAI(tempurature=0.0,model=llm_model)\n",
    "response=chat(message)\n",
    "print(response.content)"
   ],
   "id": "66a4ae5ecb4f6878",
   "outputs": [
    {
     "name": "stdout",
     "output_type": "stream",
     "text": [
      "```json\n",
      "{\n",
      "  \"gift\": true,\n",
      "  \"delivery_days\": 2,\n",
      "  \"price_value\": [\"It's slightly more expensive than the other leaf blowers out there, but I think it's worth it for the extra features.\"]\n",
      "}\n",
      "```\n"
     ]
    }
   ],
   "execution_count": 49
  },
  {
   "metadata": {
    "ExecuteTime": {
     "end_time": "2025-02-18T14:37:40.793673Z",
     "start_time": "2025-02-18T14:37:40.778839Z"
    }
   },
   "cell_type": "code",
   "source": "type(response.content)",
   "id": "55f6f39f4955b431",
   "outputs": [
    {
     "data": {
      "text/plain": [
       "str"
      ]
     },
     "execution_count": 50,
     "metadata": {},
     "output_type": "execute_result"
    }
   ],
   "execution_count": 50
  },
  {
   "metadata": {
    "ExecuteTime": {
     "end_time": "2025-02-18T14:59:10.409455Z",
     "start_time": "2025-02-18T14:59:10.404286Z"
    }
   },
   "cell_type": "code",
   "source": [
    "from langchain.output_parsers import ResponseSchema\n",
    "from langchain.output_parsers import StructuredOutputParser"
   ],
   "id": "f34c2626dc8c76f7",
   "outputs": [],
   "execution_count": 53
  },
  {
   "metadata": {
    "ExecuteTime": {
     "end_time": "2025-02-18T15:30:05.252784Z",
     "start_time": "2025-02-18T15:30:05.236502Z"
    }
   },
   "cell_type": "code",
   "source": [
    "gift_schema = ResponseSchema(\n",
    "    name=\"gift\",\n",
    "    description=\"Was the item purchased as a gift for someone else? \"\n",
    "                \"Answer True if yes, False if not or unknown.\"\n",
    ")  # ❌ Removed extra closing parenthesis\n",
    "\n",
    "delivery_days_schema = ResponseSchema(\n",
    "    name=\"delivery_days\",\n",
    "    description=\"How many days did it take for the product to arrive? \"\n",
    "                \"If this information is not found, output -1.\"\n",
    ")\n",
    "\n",
    "price_value_schema = ResponseSchema(\n",
    "    name=\"price_value\",\n",
    "    description=\"Extract any sentences about the value or price, \"\n",
    "                \"and output them as a comma-separated Python List.\"\n",
    ")\n",
    "\n",
    "response_schemas = [gift_schema, delivery_days_schema, price_value_schema]\n"
   ],
   "id": "852139a2e0a6ced1",
   "outputs": [],
   "execution_count": 69
  },
  {
   "metadata": {
    "ExecuteTime": {
     "end_time": "2025-02-18T15:30:06.542535Z",
     "start_time": "2025-02-18T15:30:06.520364Z"
    }
   },
   "cell_type": "code",
   "source": "output_parser=StructuredOutputParser.from_response_schemas(response_schemas)",
   "id": "a6f787fc1cdfbe7",
   "outputs": [],
   "execution_count": 70
  },
  {
   "metadata": {
    "ExecuteTime": {
     "end_time": "2025-02-18T15:30:07.302331Z",
     "start_time": "2025-02-18T15:30:07.294331Z"
    }
   },
   "cell_type": "code",
   "source": "format_instructions=output_parser.get_format_instructions()",
   "id": "68a4ab13275d00a0",
   "outputs": [],
   "execution_count": 71
  },
  {
   "metadata": {
    "ExecuteTime": {
     "end_time": "2025-02-18T15:30:08.082747Z",
     "start_time": "2025-02-18T15:30:08.073636Z"
    }
   },
   "cell_type": "code",
   "source": "print(format_instructions)",
   "id": "387766c93eee5293",
   "outputs": [
    {
     "name": "stdout",
     "output_type": "stream",
     "text": [
      "The output should be a markdown code snippet formatted in the following schema, including the leading and trailing \"```json\" and \"```\":\n",
      "\n",
      "```json\n",
      "{\n",
      "\t\"gift\": string  // Was the item purchased as a gift for someone else? Answer True if yes, False if not or unknown.\n",
      "\t\"delivery_days\": string  // How many days did it take for the product to arrive? If this information is not found, output -1.\n",
      "\t\"price_value\": string  // Extract any sentences about the value or price, and output them as a comma-separated Python List.\n",
      "}\n",
      "```\n"
     ]
    }
   ],
   "execution_count": 72
  },
  {
   "metadata": {
    "ExecuteTime": {
     "end_time": "2025-02-18T15:30:09.202224Z",
     "start_time": "2025-02-18T15:30:09.196363Z"
    }
   },
   "cell_type": "code",
   "source": [
    "review_template_2 = \"\"\"\\\n",
    "For the following text, extract the following information:\n",
    "\n",
    "gift: Was the item purchased as a gift for someone else? \\\n",
    "Answer True if yes, False if not or unknown.\n",
    "\n",
    "delivery_days: How many days did it take for the product\\\n",
    "to arrive? If this information is not found, output -1.\n",
    "\n",
    "price_value: Extract any sentences about the value or price,\\\n",
    "and output them as a comma separated Python list.\n",
    "\n",
    "text: {text}\n",
    "\n",
    "{format_instructions}\n",
    "\"\"\""
   ],
   "id": "c5cc7be889f0510d",
   "outputs": [],
   "execution_count": 73
  },
  {
   "metadata": {
    "ExecuteTime": {
     "end_time": "2025-02-18T15:30:09.945486Z",
     "start_time": "2025-02-18T15:30:09.931476Z"
    }
   },
   "cell_type": "code",
   "source": [
    "prompt=ChatPromptTemplate.from_template(template=review_template_2)\n",
    "messages=prompt.format_messages(text=customer_review,format_instructions=format_instructions)"
   ],
   "id": "7516c06ef994890c",
   "outputs": [],
   "execution_count": 74
  },
  {
   "metadata": {
    "ExecuteTime": {
     "end_time": "2025-02-18T15:30:10.664833Z",
     "start_time": "2025-02-18T15:30:10.659778Z"
    }
   },
   "cell_type": "code",
   "source": "print(messages[0].content)",
   "id": "b096c14936f43d86",
   "outputs": [
    {
     "name": "stdout",
     "output_type": "stream",
     "text": [
      "For the following text, extract the following information:\n",
      "\n",
      "gift: Was the item purchased as a gift for someone else? Answer True if yes, False if not or unknown.\n",
      "\n",
      "delivery_days: How many days did it take for the productto arrive? If this information is not found, output -1.\n",
      "\n",
      "price_value: Extract any sentences about the value or price,and output them as a comma separated Python list.\n",
      "\n",
      "text: This leaf blower is pretty amazing.  It has four settings:candle blower, gentle breeze, windy city, and tornado. It arrived in two days, just in time for my wife's anniversary present. I think my wife liked it so much she was speechless. So far I've been the only one using it, and I've been using it every other morning to clear the leaves on our lawn. It's slightly more expensive than the other leaf blowers out there, but I think it's worth it for the extra features.\n",
      "\n",
      "\n",
      "The output should be a markdown code snippet formatted in the following schema, including the leading and trailing \"```json\" and \"```\":\n",
      "\n",
      "```json\n",
      "{\n",
      "\t\"gift\": string  // Was the item purchased as a gift for someone else? Answer True if yes, False if not or unknown.\n",
      "\t\"delivery_days\": string  // How many days did it take for the product to arrive? If this information is not found, output -1.\n",
      "\t\"price_value\": string  // Extract any sentences about the value or price, and output them as a comma-separated Python List.\n",
      "}\n",
      "```\n",
      "\n"
     ]
    }
   ],
   "execution_count": 75
  },
  {
   "metadata": {
    "ExecuteTime": {
     "end_time": "2025-02-18T15:30:14.088269Z",
     "start_time": "2025-02-18T15:30:11.462841Z"
    }
   },
   "cell_type": "code",
   "source": "response=chat.invoke(messages)",
   "id": "fe8dbe2efde0df9b",
   "outputs": [],
   "execution_count": 76
  },
  {
   "metadata": {
    "ExecuteTime": {
     "end_time": "2025-02-18T15:30:14.782426Z",
     "start_time": "2025-02-18T15:30:14.775997Z"
    }
   },
   "cell_type": "code",
   "source": "print(response.content)",
   "id": "889142e39607c08b",
   "outputs": [
    {
     "name": "stdout",
     "output_type": "stream",
     "text": [
      "```json\n",
      "{\n",
      "  \"gift\": \"True\",\n",
      "  \"delivery_days\": \"2\",\n",
      "  \"price_value\": \"It's slightly more expensive than the other leaf blowers out there, but I think it's worth it for the extra features.\"\n",
      "}\n",
      "```\n"
     ]
    }
   ],
   "execution_count": 77
  },
  {
   "metadata": {
    "ExecuteTime": {
     "end_time": "2025-02-18T15:30:20.833376Z",
     "start_time": "2025-02-18T15:30:20.825388Z"
    }
   },
   "cell_type": "code",
   "source": "output_dict=output_parser.parse(response.content)",
   "id": "9598dc2352c79008",
   "outputs": [],
   "execution_count": 78
  },
  {
   "metadata": {
    "ExecuteTime": {
     "end_time": "2025-02-18T15:30:50.475701Z",
     "start_time": "2025-02-18T15:30:50.467700Z"
    }
   },
   "cell_type": "code",
   "source": "output_dict",
   "id": "cf22df6142756554",
   "outputs": [
    {
     "data": {
      "text/plain": [
       "{'gift': 'True',\n",
       " 'delivery_days': '2',\n",
       " 'price_value': \"It's slightly more expensive than the other leaf blowers out there, but I think it's worth it for the extra features.\"}"
      ]
     },
     "execution_count": 80,
     "metadata": {},
     "output_type": "execute_result"
    }
   ],
   "execution_count": 80
  },
  {
   "metadata": {
    "ExecuteTime": {
     "end_time": "2025-02-18T15:31:01.349357Z",
     "start_time": "2025-02-18T15:31:01.342009Z"
    }
   },
   "cell_type": "code",
   "source": "type(output_dict)",
   "id": "95560b1d00f17c6b",
   "outputs": [
    {
     "data": {
      "text/plain": [
       "dict"
      ]
     },
     "execution_count": 81,
     "metadata": {},
     "output_type": "execute_result"
    }
   ],
   "execution_count": 81
  },
  {
   "metadata": {
    "ExecuteTime": {
     "end_time": "2025-02-18T15:31:07.843648Z",
     "start_time": "2025-02-18T15:31:07.837170Z"
    }
   },
   "cell_type": "code",
   "source": "output_dict[\"price_value\"]",
   "id": "43ba9c79e31895c5",
   "outputs": [
    {
     "data": {
      "text/plain": [
       "\"It's slightly more expensive than the other leaf blowers out there, but I think it's worth it for the extra features.\""
      ]
     },
     "execution_count": 82,
     "metadata": {},
     "output_type": "execute_result"
    }
   ],
   "execution_count": 82
  },
  {
   "metadata": {
    "ExecuteTime": {
     "end_time": "2025-02-18T15:31:10.623935Z",
     "start_time": "2025-02-18T15:31:10.616931Z"
    }
   },
   "cell_type": "code",
   "source": "output_dict[\"gift\"]",
   "id": "3fa0b7e1832f26da",
   "outputs": [
    {
     "data": {
      "text/plain": [
       "'True'"
      ]
     },
     "execution_count": 83,
     "metadata": {},
     "output_type": "execute_result"
    }
   ],
   "execution_count": 83
  },
  {
   "metadata": {
    "ExecuteTime": {
     "end_time": "2025-02-18T15:32:50.135977Z",
     "start_time": "2025-02-18T15:32:50.127892Z"
    }
   },
   "cell_type": "code",
   "source": "output_dict.get(\"delivery_days\")",
   "id": "9120906c90f212b3",
   "outputs": [
    {
     "data": {
      "text/plain": [
       "'2'"
      ]
     },
     "execution_count": 88,
     "metadata": {},
     "output_type": "execute_result"
    }
   ],
   "execution_count": 88
  },
  {
   "metadata": {},
   "cell_type": "code",
   "outputs": [],
   "execution_count": null,
   "source": "\n",
   "id": "e44b20cdf58a7238"
  }
 ],
 "metadata": {
  "kernelspec": {
   "display_name": "Python 3",
   "language": "python",
   "name": "python3"
  },
  "language_info": {
   "codemirror_mode": {
    "name": "ipython",
    "version": 2
   },
   "file_extension": ".py",
   "mimetype": "text/x-python",
   "name": "python",
   "nbconvert_exporter": "python",
   "pygments_lexer": "ipython2",
   "version": "2.7.6"
  }
 },
 "nbformat": 4,
 "nbformat_minor": 5
}
