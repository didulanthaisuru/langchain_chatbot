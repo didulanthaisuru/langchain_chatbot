{
 "cells": [
  {
   "metadata": {
    "ExecuteTime": {
     "end_time": "2025-02-18T02:44:36.320582Z",
     "start_time": "2025-02-18T02:44:36.262860Z"
    }
   },
   "cell_type": "code",
   "source": [
    "from dotenv import load_dotenv,find_dotenv\n",
    "import os\n",
    "import google.generativeai as genai\n",
    "\n",
    "_ = load_dotenv(find_dotenv())\n",
    "\n",
    "genai.configure(api_key=os.environ[\"GOOGLE_API_KEY\"])"
   ],
   "id": "37155302a6c255ff",
   "outputs": [],
   "execution_count": 27
  },
  {
   "metadata": {
    "ExecuteTime": {
     "end_time": "2025-02-18T02:44:36.860186Z",
     "start_time": "2025-02-18T02:44:36.850769Z"
    }
   },
   "cell_type": "code",
   "source": [
    "import datetime\n",
    "\n",
    "current_date=datetime.datetime.now().date()\n",
    "\n",
    "target_date=datetime.date(2024,6,12)\n",
    "\n",
    "if current_date>target_date:\n",
    "    llm_model=\"gemini-1.5-flash\"\n",
    "else:\n",
    "    llm_model=\"gemini-1.5-flash\""
   ],
   "id": "8fd2dbd710b8e1bb",
   "outputs": [],
   "execution_count": 28
  },
  {
   "metadata": {
    "ExecuteTime": {
     "end_time": "2025-02-18T05:18:22.034004Z",
     "start_time": "2025-02-18T05:18:21.978093Z"
    }
   },
   "cell_type": "code",
   "source": [
    "def get_completion(prompt,model=llm_model):\n",
    "    response=genai.GenerativeModel(model).generate_content(prompt)\n",
    "    return response.text"
   ],
   "id": "f825f5131f3b06e8",
   "outputs": [],
   "execution_count": 39
  },
  {
   "metadata": {
    "ExecuteTime": {
     "end_time": "2025-02-18T05:18:22.998793Z",
     "start_time": "2025-02-18T05:18:22.990733Z"
    }
   },
   "cell_type": "code",
   "source": "prompt=\"What is the capital of France?\"",
   "id": "7e4436fb85c329e5",
   "outputs": [],
   "execution_count": 40
  },
  {
   "metadata": {
    "ExecuteTime": {
     "end_time": "2025-02-18T05:18:25.147448Z",
     "start_time": "2025-02-18T05:18:25.142916Z"
    }
   },
   "cell_type": "code",
   "source": "",
   "id": "6e337d46e5c442de",
   "outputs": [],
   "execution_count": 40
  },
  {
   "metadata": {
    "ExecuteTime": {
     "end_time": "2025-02-18T05:18:27.709368Z",
     "start_time": "2025-02-18T05:18:26.179492Z"
    }
   },
   "cell_type": "code",
   "source": "get_completion(\"who is the president of the United States?\")",
   "id": "8d65c62c268dbb37",
   "outputs": [
    {
     "data": {
      "text/plain": [
       "'The current president of the United States is Joe Biden.\\n'"
      ]
     },
     "execution_count": 41,
     "metadata": {},
     "output_type": "execute_result"
    }
   ],
   "execution_count": 41
  },
  {
   "metadata": {
    "ExecuteTime": {
     "end_time": "2025-02-18T05:18:30.750631Z",
     "start_time": "2025-02-18T05:18:29.645251Z"
    }
   },
   "cell_type": "code",
   "source": "get_completion(\"what is moratuwa university\")",
   "id": "80ed7f83eb40e4d",
   "outputs": [
    {
     "data": {
      "text/plain": [
       "\"The University of Moratuwa (UOM) is a public university in Moratuwa, Sri Lanka.  It's a leading technological university in the country, focusing primarily on engineering, technology, and related fields.  It's known for its strong reputation for producing graduates who are well-prepared for industry and research.\\n\""
      ]
     },
     "execution_count": 42,
     "metadata": {},
     "output_type": "execute_result"
    }
   ],
   "execution_count": 42
  },
  {
   "metadata": {
    "ExecuteTime": {
     "end_time": "2025-02-18T05:18:37.745549Z",
     "start_time": "2025-02-18T05:18:37.739126Z"
    }
   },
   "cell_type": "code",
   "source": [
    "customer_email = \"\"\"\n",
    "Arrr, I be fuming that me blender lid \n",
    "flew off and splattered me kitchen walls \n",
    "with smoothie! And to make matters worse,\n",
    "the warranty don't cover the cost of \n",
    "cleaning up me kitchen. I need yer help \n",
    "right now, matey!\n",
    "\"\"\"\n"
   ],
   "id": "6b2a165d1c883642",
   "outputs": [],
   "execution_count": 43
  },
  {
   "metadata": {
    "ExecuteTime": {
     "end_time": "2025-02-18T05:18:39.702291Z",
     "start_time": "2025-02-18T05:18:39.696452Z"
    }
   },
   "cell_type": "code",
   "source": "style=\"\"\"American English in a calm and respectful tone\"\"\"",
   "id": "94a26eb866c47d7f",
   "outputs": [],
   "execution_count": 44
  },
  {
   "metadata": {
    "ExecuteTime": {
     "end_time": "2025-02-18T05:18:41.350888Z",
     "start_time": "2025-02-18T05:18:41.342415Z"
    }
   },
   "cell_type": "code",
   "source": [
    "prompt = f\"\"\"Translate the text \\\n",
    "that is delimited by triple backticks \n",
    "into a style that is {style}.\n",
    "text: ```{customer_email}```\n",
    "\"\"\"\n",
    "\n",
    "print(prompt)"
   ],
   "id": "44bbebf52d0e46cf",
   "outputs": [
    {
     "name": "stdout",
     "output_type": "stream",
     "text": [
      "Translate the text that is delimited by triple backticks \n",
      "into a style that is American English in a calm and respectful tone.\n",
      "text: ```\n",
      "Arrr, I be fuming that me blender lid \n",
      "flew off and splattered me kitchen walls \n",
      "with smoothie! And to make matters worse,\n",
      "the warranty don't cover the cost of \n",
      "cleaning up me kitchen. I need yer help \n",
      "right now, matey!\n",
      "```\n",
      "\n"
     ]
    }
   ],
   "execution_count": 45
  },
  {
   "metadata": {
    "ExecuteTime": {
     "end_time": "2025-02-18T05:20:39.337431Z",
     "start_time": "2025-02-18T05:20:38.413766Z"
    }
   },
   "cell_type": "code",
   "source": "response=get_completion(prompt)",
   "id": "42a2997e5e75102b",
   "outputs": [],
   "execution_count": 46
  },
  {
   "metadata": {
    "ExecuteTime": {
     "end_time": "2025-02-18T05:20:40.956805Z",
     "start_time": "2025-02-18T05:20:40.940801Z"
    }
   },
   "cell_type": "code",
   "source": "response",
   "id": "b8674169e36b53e4",
   "outputs": [
    {
     "data": {
      "text/plain": [
       "\"I'm quite upset that my blender lid came off unexpectedly, causing my kitchen walls to be splattered with smoothie.  To make matters worse, the warranty doesn't cover the cost of cleaning up the mess. I would appreciate your assistance with this matter.\\n\""
      ]
     },
     "execution_count": 47,
     "metadata": {},
     "output_type": "execute_result"
    }
   ],
   "execution_count": 47
  },
  {
   "metadata": {
    "ExecuteTime": {
     "end_time": "2025-02-18T05:25:33.483410Z",
     "start_time": "2025-02-18T05:25:31.854681Z"
    }
   },
   "cell_type": "code",
   "source": "from langchain_google_genai import ChatGoogleGenerativeAI",
   "id": "926c0ea50d7f51dc",
   "outputs": [],
   "execution_count": 49
  },
  {
   "metadata": {
    "ExecuteTime": {
     "end_time": "2025-02-18T05:27:48.548134Z",
     "start_time": "2025-02-18T05:27:48.491057Z"
    }
   },
   "cell_type": "code",
   "source": "chat=ChatGoogleGenerativeAI(temparature=0.0,model=llm_model)",
   "id": "1e4ce3d04f1fb35b",
   "outputs": [],
   "execution_count": 50
  },
  {
   "metadata": {
    "ExecuteTime": {
     "end_time": "2025-02-18T05:27:51.906231Z",
     "start_time": "2025-02-18T05:27:51.899056Z"
    }
   },
   "cell_type": "code",
   "source": "chat",
   "id": "77d7b8a49e1760df",
   "outputs": [
    {
     "data": {
      "text/plain": [
       "ChatGoogleGenerativeAI(model='models/gemini-1.5-flash', google_api_key=SecretStr('**********'), client=<google.ai.generativelanguage_v1beta.services.generative_service.client.GenerativeServiceClient object at 0x0000021CE49BA360>, default_metadata=())"
      ]
     },
     "execution_count": 51,
     "metadata": {},
     "output_type": "execute_result"
    }
   ],
   "execution_count": 51
  },
  {
   "metadata": {},
   "cell_type": "code",
   "outputs": [],
   "execution_count": null,
   "source": "template_string",
   "id": "aa3644ba626c2f72"
  }
 ],
 "metadata": {
  "kernelspec": {
   "display_name": "Python 3",
   "language": "python",
   "name": "python3"
  },
  "language_info": {
   "codemirror_mode": {
    "name": "ipython",
    "version": 2
   },
   "file_extension": ".py",
   "mimetype": "text/x-python",
   "name": "python",
   "nbconvert_exporter": "python",
   "pygments_lexer": "ipython2",
   "version": "2.7.6"
  }
 },
 "nbformat": 4,
 "nbformat_minor": 5
}
