{
 "cells": [
  {
   "metadata": {
    "ExecuteTime": {
     "end_time": "2025-02-17T17:02:51.743973Z",
     "start_time": "2025-02-17T17:02:51.734925Z"
    }
   },
   "cell_type": "code",
   "source": [
    "from dotenv import load_dotenv,find_dotenv\n",
    "import os\n",
    "import google.generativeai as genai\n",
    "\n",
    "_ = load_dotenv(find_dotenv())\n",
    "\n",
    "genai.configure(api_key=os.environ[\"GOOGLE_API_KEY\"])"
   ],
   "id": "37155302a6c255ff",
   "outputs": [],
   "execution_count": 2
  },
  {
   "metadata": {
    "ExecuteTime": {
     "end_time": "2025-02-17T17:20:12.026937Z",
     "start_time": "2025-02-17T17:20:12.020561Z"
    }
   },
   "cell_type": "code",
   "source": [
    "import datetime\n",
    "\n",
    "current_date=datetime.datetime.now().date()\n",
    "\n",
    "target_date=datetime.date(2024,6,12)\n",
    "\n",
    "if current_date>target_date:\n",
    "    llm_model=\"gemini-1.5-flash\"\n",
    "else:\n",
    "    llm_model=\"gemini-1.5-flash\""
   ],
   "id": "8fd2dbd710b8e1bb",
   "outputs": [],
   "execution_count": 17
  },
  {
   "metadata": {
    "ExecuteTime": {
     "end_time": "2025-02-17T17:20:49.187849Z",
     "start_time": "2025-02-17T17:20:49.182018Z"
    }
   },
   "cell_type": "code",
   "source": [
    "def get_completion(prompt,model=llm_model):\n",
    "    messages=[{\"role\":\"user\",\"content\":prompt}]\n",
    "    response=genai.GenerativeModel(model).generate_content(prompt)\n",
    "    return response.text"
   ],
   "id": "f825f5131f3b06e8",
   "outputs": [],
   "execution_count": 21
  },
  {
   "metadata": {
    "ExecuteTime": {
     "end_time": "2025-02-17T17:20:49.898868Z",
     "start_time": "2025-02-17T17:20:49.888871Z"
    }
   },
   "cell_type": "code",
   "source": "prompt=\"What is the capital of France?\"",
   "id": "7e4436fb85c329e5",
   "outputs": [],
   "execution_count": 22
  },
  {
   "metadata": {
    "ExecuteTime": {
     "end_time": "2025-02-17T17:20:50.951954Z",
     "start_time": "2025-02-17T17:20:50.948564Z"
    }
   },
   "cell_type": "code",
   "source": "",
   "id": "6e337d46e5c442de",
   "outputs": [],
   "execution_count": 22
  },
  {
   "metadata": {
    "ExecuteTime": {
     "end_time": "2025-02-17T17:20:52.319230Z",
     "start_time": "2025-02-17T17:20:51.633381Z"
    }
   },
   "cell_type": "code",
   "source": "get_completion(\"who is the president of the United States?\")",
   "id": "8d65c62c268dbb37",
   "outputs": [
    {
     "data": {
      "text/plain": [
       "'The current president of the United States is Joe Biden.\\n'"
      ]
     },
     "execution_count": 23,
     "metadata": {},
     "output_type": "execute_result"
    }
   ],
   "execution_count": 23
  },
  {
   "metadata": {},
   "cell_type": "code",
   "outputs": [],
   "execution_count": null,
   "source": "",
   "id": "80ed7f83eb40e4d"
  }
 ],
 "metadata": {
  "kernelspec": {
   "display_name": "Python 3",
   "language": "python",
   "name": "python3"
  },
  "language_info": {
   "codemirror_mode": {
    "name": "ipython",
    "version": 2
   },
   "file_extension": ".py",
   "mimetype": "text/x-python",
   "name": "python",
   "nbconvert_exporter": "python",
   "pygments_lexer": "ipython2",
   "version": "2.7.6"
  }
 },
 "nbformat": 4,
 "nbformat_minor": 5
}
