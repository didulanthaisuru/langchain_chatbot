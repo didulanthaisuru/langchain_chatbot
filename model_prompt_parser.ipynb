{
 "cells": [
  {
   "metadata": {
    "ExecuteTime": {
     "end_time": "2025-02-20T06:42:01.958380Z",
     "start_time": "2025-02-20T06:41:53.630247Z"
    }
   },
   "cell_type": "code",
   "source": [
    "from dotenv import load_dotenv,find_dotenv\n",
    "import os\n",
    "import google.generativeai as genai\n",
    "\n",
    "_ = load_dotenv(find_dotenv())\n",
    "\n",
    "genai.configure(api_key=os.environ[\"GOOGLE_API_KEY\"])"
   ],
   "id": "37155302a6c255ff",
   "outputs": [],
   "execution_count": 2
  },
  {
   "metadata": {
    "ExecuteTime": {
     "end_time": "2025-02-20T06:42:03.512487Z",
     "start_time": "2025-02-20T06:42:03.504185Z"
    }
   },
   "cell_type": "code",
   "source": [
    "import datetime\n",
    "\n",
    "current_date=datetime.datetime.now().date()\n",
    "\n",
    "target_date=datetime.date(2024,6,12)\n",
    "\n",
    "if current_date>target_date:\n",
    "    llm_model=\"gemini-1.5-flash\"\n",
    "else:\n",
    "    llm_model=\"gemini-1.5-flash\""
   ],
   "id": "8fd2dbd710b8e1bb",
   "outputs": [],
   "execution_count": 3
  },
  {
   "metadata": {
    "ExecuteTime": {
     "end_time": "2025-02-20T06:42:05.907965Z",
     "start_time": "2025-02-20T06:42:05.896460Z"
    }
   },
   "cell_type": "code",
   "source": [
    "def get_completion(prompt,model=llm_model):\n",
    "    response=genai.GenerativeModel(model).generate_content(prompt)\n",
    "    return response.text"
   ],
   "id": "f825f5131f3b06e8",
   "outputs": [],
   "execution_count": 4
  },
  {
   "metadata": {
    "ExecuteTime": {
     "end_time": "2025-02-20T06:42:06.866131Z",
     "start_time": "2025-02-20T06:42:06.856068Z"
    }
   },
   "cell_type": "code",
   "source": "prompt=\"What is the capital of France?\"",
   "id": "7e4436fb85c329e5",
   "outputs": [],
   "execution_count": 5
  },
  {
   "metadata": {
    "ExecuteTime": {
     "end_time": "2025-02-20T06:42:07.884196Z",
     "start_time": "2025-02-20T06:42:07.875689Z"
    }
   },
   "cell_type": "code",
   "source": "",
   "id": "6e337d46e5c442de",
   "outputs": [],
   "execution_count": 5
  },
  {
   "metadata": {
    "ExecuteTime": {
     "end_time": "2025-02-20T06:42:13.524866Z",
     "start_time": "2025-02-20T06:42:08.749486Z"
    }
   },
   "cell_type": "code",
   "source": "get_completion(\"who is the president of the United States?\")",
   "id": "8d65c62c268dbb37",
   "outputs": [
    {
     "data": {
      "text/plain": [
       "'The current president of the United States is Joe Biden.\\n'"
      ]
     },
     "execution_count": 6,
     "metadata": {},
     "output_type": "execute_result"
    }
   ],
   "execution_count": 6
  },
  {
   "metadata": {
    "ExecuteTime": {
     "end_time": "2025-02-20T06:42:18.723122Z",
     "start_time": "2025-02-20T06:42:13.528970Z"
    }
   },
   "cell_type": "code",
   "source": "get_completion(\"what is moratuwa university\")",
   "id": "80ed7f83eb40e4d",
   "outputs": [
    {
     "data": {
      "text/plain": [
       "\"The University of Moratuwa (UOM) is a public university located in Moratuwa, Sri Lanka.  It's a highly respected institution known primarily for its strong programs in engineering, technology, and architecture.  It's considered one of the leading universities in Sri Lanka for these fields and plays a significant role in the country's technological development.\\n\""
      ]
     },
     "execution_count": 7,
     "metadata": {},
     "output_type": "execute_result"
    }
   ],
   "execution_count": 7
  },
  {
   "metadata": {},
   "cell_type": "code",
   "source": [
    "customer_email = \"\"\"\n",
    "Arrr, I be fuming that me blender lid \n",
    "flew off and splattered me kitchen walls \n",
    "with smoothie! And to make matters worse,\n",
    "the warranty don't cover the cost of \n",
    "cleaning up me kitchen. I need yer help \n",
    "right now, matey!\n",
    "\"\"\"\n"
   ],
   "id": "6b2a165d1c883642",
   "outputs": [],
   "execution_count": null
  },
  {
   "metadata": {},
   "cell_type": "code",
   "source": "style=\"\"\"American English in a calm and respectful tone\"\"\"",
   "id": "94a26eb866c47d7f",
   "outputs": [],
   "execution_count": null
  },
  {
   "metadata": {},
   "cell_type": "code",
   "source": [
    "prompt = f\"\"\"Translate the text \\\n",
    "that is delimited by triple backticks \n",
    "into a style that is {style}.\n",
    "text: ```{customer_email}```\n",
    "\"\"\"\n",
    "\n",
    "print(prompt)"
   ],
   "id": "44bbebf52d0e46cf",
   "outputs": [],
   "execution_count": null
  },
  {
   "metadata": {},
   "cell_type": "code",
   "source": "response=get_completion(prompt)",
   "id": "42a2997e5e75102b",
   "outputs": [],
   "execution_count": null
  },
  {
   "metadata": {},
   "cell_type": "code",
   "source": "response",
   "id": "b8674169e36b53e4",
   "outputs": [],
   "execution_count": null
  },
  {
   "metadata": {},
   "cell_type": "code",
   "source": "from langchain_google_genai import ChatGoogleGenerativeAI",
   "id": "926c0ea50d7f51dc",
   "outputs": [],
   "execution_count": null
  },
  {
   "metadata": {},
   "cell_type": "code",
   "source": "chat=ChatGoogleGenerativeAI(temparature=0.0,model=llm_model)",
   "id": "1e4ce3d04f1fb35b",
   "outputs": [],
   "execution_count": null
  },
  {
   "metadata": {},
   "cell_type": "code",
   "source": "chat",
   "id": "77d7b8a49e1760df",
   "outputs": [],
   "execution_count": null
  },
  {
   "metadata": {},
   "cell_type": "code",
   "source": [
    "template_string=\"\"\"Translate the text \n",
    "that is delimited by triple backticks \n",
    "into a style that is {style}.\n",
    "text:```{text}```\n",
    "\"\"\""
   ],
   "id": "aa3644ba626c2f72",
   "outputs": [],
   "execution_count": null
  },
  {
   "metadata": {},
   "cell_type": "code",
   "source": [
    "from langchain.prompts import ChatPromptTemplate\n",
    "prompt_template=ChatPromptTemplate.from_template(template_string)"
   ],
   "id": "3782484fe94343cc",
   "outputs": [],
   "execution_count": null
  },
  {
   "metadata": {},
   "cell_type": "code",
   "source": "prompt_template.messages[0].prompt",
   "id": "e3bd3dec97922419",
   "outputs": [],
   "execution_count": null
  },
  {
   "metadata": {},
   "cell_type": "code",
   "source": "prompt_template.messages[0].prompt.input_variables",
   "id": "3e73a7569b569eb",
   "outputs": [],
   "execution_count": null
  },
  {
   "metadata": {},
   "cell_type": "code",
   "source": [
    "customer_style=\"\"\"American English\n",
    "in a calm and respectful tone\n",
    "\"\"\""
   ],
   "id": "e6c97f8b5a285ba7",
   "outputs": [],
   "execution_count": null
  },
  {
   "metadata": {},
   "cell_type": "code",
   "source": [
    "customer_email=\"\"\"\n",
    "Arrr,I be fuming that me blender lid \n",
    "flew off and splattered me kitchen walls\n",
    "with smoothie! And to make matters worse, \n",
    "the warranty don\"t cover the cost of\n",
    "cleaning up me kitchen.I need yer help\n",
    "right now, matey!\n",
    "\"\"\""
   ],
   "id": "d6f9978dd47f9931",
   "outputs": [],
   "execution_count": null
  },
  {
   "metadata": {},
   "cell_type": "code",
   "source": [
    "customer_messages=prompt_template.format_messages(style=customer_style,\n",
    "                                                 text=customer_email)"
   ],
   "id": "b017056f3b518dca",
   "outputs": [],
   "execution_count": null
  },
  {
   "metadata": {},
   "cell_type": "code",
   "source": [
    "print(type(customer_messages))\n",
    "print(type(customer_messages[0]))"
   ],
   "id": "29d5a694cbc1fc44",
   "outputs": [],
   "execution_count": null
  },
  {
   "metadata": {},
   "cell_type": "code",
   "source": "customer_messages",
   "id": "54229bc25b10f9b7",
   "outputs": [],
   "execution_count": null
  },
  {
   "metadata": {},
   "cell_type": "code",
   "source": "print(customer_messages[0])",
   "id": "6dd4113e23e7c857",
   "outputs": [],
   "execution_count": null
  },
  {
   "metadata": {},
   "cell_type": "code",
   "source": "customer_response=chat.invoke(customer_messages)",
   "id": "1b8b557e63dd30",
   "outputs": [],
   "execution_count": null
  },
  {
   "metadata": {},
   "cell_type": "code",
   "source": "print(customer_response.content)",
   "id": "3513dbb725a13a9",
   "outputs": [],
   "execution_count": null
  },
  {
   "metadata": {},
   "cell_type": "code",
   "source": [
    "service_reply=\"\"\"HEy there customer,\n",
    "the warranty does no cover\n",
    "cleaning expenses for your kitchen\n",
    "because it's your fault that\n",
    "you misused your blender\n",
    "by forgetting to put lid on before\n",
    "starting the blender.\n",
    "tough luck!See ya!\"\"\""
   ],
   "id": "d19cb54e0bbf40e6",
   "outputs": [],
   "execution_count": null
  },
  {
   "metadata": {},
   "cell_type": "code",
   "source": [
    "service_style_pirate=\"\"\"\n",
    "a polite tone\n",
    "that speaks in English Pirate\"\"\""
   ],
   "id": "76c8755e83d63249",
   "outputs": [],
   "execution_count": null
  },
  {
   "metadata": {},
   "cell_type": "code",
   "source": [
    "service_messages=prompt_template.format_messages(\n",
    "    style=service_style_pirate,\n",
    "    text=service_reply\n",
    ")"
   ],
   "id": "fc27791bcf452eb9",
   "outputs": [],
   "execution_count": null
  },
  {
   "metadata": {},
   "cell_type": "code",
   "source": "print(service_messages[0].content)",
   "id": "1eae15ba177a3068",
   "outputs": [],
   "execution_count": null
  },
  {
   "metadata": {},
   "cell_type": "code",
   "source": [
    "service_response=chat.invoke(service_messages)\n",
    "print(service_response)"
   ],
   "id": "d25618b47556fef2",
   "outputs": [],
   "execution_count": null
  },
  {
   "metadata": {},
   "cell_type": "code",
   "source": "print(service_response.content)",
   "id": "a23a3439acfb980c",
   "outputs": [],
   "execution_count": null
  },
  {
   "metadata": {},
   "cell_type": "code",
   "source": [
    "{\n",
    "    \"gift\":False,\n",
    "    \"delivery_days\":5,\n",
    "    \"price_value\":\"pretty affordable!\"\n",
    "}"
   ],
   "id": "8bb58592a1a0c58d",
   "outputs": [],
   "execution_count": null
  },
  {
   "metadata": {},
   "cell_type": "code",
   "source": [
    "customer_review = \"\"\"\\\n",
    "This leaf blower is pretty amazing.  It has four settings:\\\n",
    "candle blower, gentle breeze, windy city, and tornado. \\\n",
    "It arrived in two days, just in time for my wife's \\\n",
    "anniversary present. \\\n",
    "I think my wife liked it so much she was speechless. \\\n",
    "So far I've been the only one using it, and I've been \\\n",
    "using it every other morning to clear the leaves on our lawn. \\\n",
    "It's slightly more expensive than the other leaf blowers \\\n",
    "out there, but I think it's worth it for the extra features.\n",
    "\"\"\"\n",
    "\n",
    "review_template = \"\"\"\\\n",
    "For the following text, extract the following information:\n",
    "\n",
    "gift: Was the item purchased as a gift for someone else? \\\n",
    "Answer True if yes, False if not or unknown.\n",
    "\n",
    "delivery_days: How many days did it take for the product \\\n",
    "to arrive? If this information is not found, output -1.\n",
    "\n",
    "price_value: Extract any sentences about the value or price,\\\n",
    "and output them as a comma separated Python list.\n",
    "\n",
    "Format the output as JSON with the following keys:\n",
    "gift\n",
    "delivery_days\n",
    "price_value\n",
    "\n",
    "text: {text}\n",
    "\"\"\""
   ],
   "id": "e84fd6b9497e9db4",
   "outputs": [],
   "execution_count": null
  },
  {
   "metadata": {},
   "cell_type": "code",
   "source": [
    "from langchain.prompts import ChatPromptTemplate\n",
    "\n",
    "prompt_template=ChatPromptTemplate.from_template(review_template)\n",
    "print(prompt_template)"
   ],
   "id": "4d28cb9c1a23077",
   "outputs": [],
   "execution_count": null
  },
  {
   "metadata": {},
   "cell_type": "code",
   "source": [
    "message=prompt_template.format_messages(text=customer_review)\n",
    "chat=ChatGoogleGenerativeAI(tempurature=0.0,model=llm_model)\n",
    "response=chat(message)\n",
    "print(response.content)"
   ],
   "id": "66a4ae5ecb4f6878",
   "outputs": [],
   "execution_count": null
  },
  {
   "metadata": {},
   "cell_type": "code",
   "source": "type(response.content)",
   "id": "55f6f39f4955b431",
   "outputs": [],
   "execution_count": null
  },
  {
   "metadata": {},
   "cell_type": "code",
   "source": [
    "from langchain.output_parsers import ResponseSchema\n",
    "from langchain.output_parsers import StructuredOutputParser"
   ],
   "id": "f34c2626dc8c76f7",
   "outputs": [],
   "execution_count": null
  },
  {
   "metadata": {},
   "cell_type": "code",
   "source": [
    "gift_schema = ResponseSchema(\n",
    "    name=\"gift\",\n",
    "    description=\"Was the item purchased as a gift for someone else? \"\n",
    "                \"Answer True if yes, False if not or unknown.\"\n",
    ")  # ❌ Removed extra closing parenthesis\n",
    "\n",
    "delivery_days_schema = ResponseSchema(\n",
    "    name=\"delivery_days\",\n",
    "    description=\"How many days did it take for the product to arrive? \"\n",
    "                \"If this information is not found, output -1.\"\n",
    ")\n",
    "\n",
    "price_value_schema = ResponseSchema(\n",
    "    name=\"price_value\",\n",
    "    description=\"Extract any sentences about the value or price, \"\n",
    "                \"and output them as a comma-separated Python List.\"\n",
    ")\n",
    "\n",
    "response_schemas = [gift_schema, delivery_days_schema, price_value_schema]\n"
   ],
   "id": "852139a2e0a6ced1",
   "outputs": [],
   "execution_count": null
  },
  {
   "metadata": {},
   "cell_type": "code",
   "source": "output_parser=StructuredOutputParser.from_response_schemas(response_schemas)",
   "id": "a6f787fc1cdfbe7",
   "outputs": [],
   "execution_count": null
  },
  {
   "metadata": {},
   "cell_type": "code",
   "source": "format_instructions=output_parser.get_format_instructions()",
   "id": "68a4ab13275d00a0",
   "outputs": [],
   "execution_count": null
  },
  {
   "metadata": {},
   "cell_type": "code",
   "source": "print(format_instructions)",
   "id": "387766c93eee5293",
   "outputs": [],
   "execution_count": null
  },
  {
   "metadata": {},
   "cell_type": "code",
   "source": [
    "review_template_2 = \"\"\"\\\n",
    "For the following text, extract the following information:\n",
    "\n",
    "gift: Was the item purchased as a gift for someone else? \\\n",
    "Answer True if yes, False if not or unknown.\n",
    "\n",
    "delivery_days: How many days did it take for the product\\\n",
    "to arrive? If this information is not found, output -1.\n",
    "\n",
    "price_value: Extract any sentences about the value or price,\\\n",
    "and output them as a comma separated Python list.\n",
    "\n",
    "text: {text}\n",
    "\n",
    "{format_instructions}\n",
    "\"\"\""
   ],
   "id": "c5cc7be889f0510d",
   "outputs": [],
   "execution_count": null
  },
  {
   "metadata": {},
   "cell_type": "code",
   "source": [
    "prompt=ChatPromptTemplate.from_template(template=review_template_2)\n",
    "messages=prompt.format_messages(text=customer_review,format_instructions=format_instructions)"
   ],
   "id": "7516c06ef994890c",
   "outputs": [],
   "execution_count": null
  },
  {
   "metadata": {},
   "cell_type": "code",
   "source": "print(messages[0].content)",
   "id": "b096c14936f43d86",
   "outputs": [],
   "execution_count": null
  },
  {
   "metadata": {},
   "cell_type": "code",
   "source": "response=chat.invoke(messages)",
   "id": "fe8dbe2efde0df9b",
   "outputs": [],
   "execution_count": null
  },
  {
   "metadata": {},
   "cell_type": "code",
   "source": "print(response.content)",
   "id": "889142e39607c08b",
   "outputs": [],
   "execution_count": null
  },
  {
   "metadata": {},
   "cell_type": "code",
   "source": "output_dict=output_parser.parse(response.content)",
   "id": "9598dc2352c79008",
   "outputs": [],
   "execution_count": null
  },
  {
   "metadata": {},
   "cell_type": "code",
   "source": "output_dict",
   "id": "cf22df6142756554",
   "outputs": [],
   "execution_count": null
  },
  {
   "metadata": {},
   "cell_type": "code",
   "source": "type(output_dict)",
   "id": "95560b1d00f17c6b",
   "outputs": [],
   "execution_count": null
  },
  {
   "metadata": {},
   "cell_type": "code",
   "source": "output_dict[\"price_value\"]",
   "id": "43ba9c79e31895c5",
   "outputs": [],
   "execution_count": null
  },
  {
   "metadata": {},
   "cell_type": "code",
   "source": "output_dict[\"gift\"]",
   "id": "3fa0b7e1832f26da",
   "outputs": [],
   "execution_count": null
  },
  {
   "metadata": {},
   "cell_type": "code",
   "source": "output_dict.get(\"delivery_days\")",
   "id": "9120906c90f212b3",
   "outputs": [],
   "execution_count": null
  },
  {
   "metadata": {},
   "cell_type": "code",
   "source": "",
   "id": "e44b20cdf58a7238",
   "outputs": [],
   "execution_count": null
  },
  {
   "metadata": {},
   "cell_type": "code",
   "source": "",
   "id": "59d58d51d3a74453",
   "outputs": [],
   "execution_count": null
  },
  {
   "metadata": {},
   "cell_type": "code",
   "source": "",
   "id": "2a2381b899294de5",
   "outputs": [],
   "execution_count": null
  },
  {
   "metadata": {},
   "cell_type": "code",
   "source": "",
   "id": "76e73aecdd980dfe",
   "outputs": [],
   "execution_count": null
  },
  {
   "metadata": {},
   "cell_type": "code",
   "source": "",
   "id": "6f9d78f9d5c3f2c0",
   "outputs": [],
   "execution_count": null
  },
  {
   "metadata": {
    "ExecuteTime": {
     "end_time": "2025-02-20T06:05:36.440517Z",
     "start_time": "2025-02-20T06:05:34.464986Z"
    }
   },
   "cell_type": "code",
   "source": "",
   "id": "66ed2b5ea589d1ad",
   "outputs": [],
   "execution_count": 8
  },
  {
   "metadata": {},
   "cell_type": "code",
   "outputs": [],
   "execution_count": null,
   "source": "",
   "id": "1e8bc6ea033cd1f7"
  }
 ],
 "metadata": {
  "kernelspec": {
   "display_name": "Python 3",
   "language": "python",
   "name": "python3"
  },
  "language_info": {
   "codemirror_mode": {
    "name": "ipython",
    "version": 2
   },
   "file_extension": ".py",
   "mimetype": "text/x-python",
   "name": "python",
   "nbconvert_exporter": "python",
   "pygments_lexer": "ipython2",
   "version": "2.7.6"
  }
 },
 "nbformat": 4,
 "nbformat_minor": 5
}
